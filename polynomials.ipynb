{
 "cells": [
  {
   "cell_type": "code",
   "execution_count": 1,
   "id": "849e39f5-2517-43d6-85bf-45768e07196b",
   "metadata": {
    "execution": {
     "iopub.execute_input": "2023-06-20T15:55:55.933273Z",
     "iopub.status.busy": "2023-06-20T15:55:55.933036Z",
     "iopub.status.idle": "2023-06-20T15:55:56.652204Z",
     "shell.execute_reply": "2023-06-20T15:55:56.651773Z",
     "shell.execute_reply.started": "2023-06-20T15:55:55.933259Z"
    },
    "tags": []
   },
   "outputs": [
    {
     "data": {
      "text/html": [
       "<style>\n",
       "        .bk-notebook-logo {\n",
       "            display: block;\n",
       "            width: 20px;\n",
       "            height: 20px;\n",
       "            background-image: url(data:image/png;base64,iVBORw0KGgoAAAANSUhEUgAAABQAAAAUCAYAAACNiR0NAAAABHNCSVQICAgIfAhkiAAAAAlwSFlzAAALEgAACxIB0t1+/AAAABx0RVh0U29mdHdhcmUAQWRvYmUgRmlyZXdvcmtzIENTNui8sowAAAOkSURBVDiNjZRtaJVlGMd/1/08zzln5zjP1LWcU9N0NkN8m2CYjpgQYQXqSs0I84OLIC0hkEKoPtiH3gmKoiJDU7QpLgoLjLIQCpEsNJ1vqUOdO7ppbuec5+V+rj4ctwzd8IIbbi6u+8f1539dt3A78eXC7QizUF7gyV1fD1Yqg4JWz84yffhm0qkFqBogB9rM8tZdtwVsPUhWhGcFJngGeWrPzHm5oaMmkfEg1usvLFyc8jLRqDOMru7AyC8saQr7GG7f5fvDeH7Ej8CM66nIF+8yngt6HWaKh7k49Soy9nXurCi1o3qUbS3zWfrYeQDTB/Qj6kX6Ybhw4B+bOYoLKCC9H3Nu/leUTZ1JdRWkkn2ldcCamzrcf47KKXdAJllSlxAOkRgyHsGC/zRday5Qld9DyoM4/q/rUoy/CXh3jzOu3bHUVZeU+DEn8FInkPBFlu3+nW3Nw0mk6vCDiWg8CeJaxEwuHS3+z5RgY+YBR6V1Z1nxSOfoaPa4LASWxxdNp+VWTk7+4vzaou8v8PN+xo+KY2xsw6une2frhw05CTYOmQvsEhjhWjn0bmXPjpE1+kplmmkP3suftwTubK9Vq22qKmrBhpY4jvd5afdRA3wGjFAgcnTK2s4hY0/GPNIb0nErGMCRxWOOX64Z8RAC4oCXdklmEvcL8o0BfkNK4lUg9HTl+oPlQxdNo3Mg4Nv175e/1LDGzZen30MEjRUtmXSfiTVu1kK8W4txyV6BMKlbgk3lMwYCiusNy9fVfvvwMxv8Ynl6vxoByANLTWplvuj/nF9m2+PDtt1eiHPBr1oIfhCChQMBw6Aw0UulqTKZdfVvfG7VcfIqLG9bcldL/+pdWTLxLUy8Qq38heUIjh4XlzZxzQm19lLFlr8vdQ97rjZVOLf8nclzckbcD4wxXMidpX30sFd37Fv/GtwwhzhxGVAprjbg0gCAEeIgwCZyTV2Z1REEW8O4py0wsjeloKoMr6iCY6dP92H6Vw/oTyICIthibxjm/DfN9lVz8IqtqKYLUXfoKVMVQVVJOElGjrnnUt9T9wbgp8AyYKaGlqingHZU/uG2NTZSVqwHQTWkx9hxjkpWDaCg6Ckj5qebgBVbT3V3NNXMSiWSDdGV3hrtzla7J+duwPOToIg42ChPQOQjspnSlp1V+Gjdged7+8UN5CRAV7a5EdFNwCjEaBR27b3W890TE7g24NAP/mMDXRWrGoFPQI9ls/MWO2dWFAar/xcOIImbbpA3zgAAAABJRU5ErkJggg==);\n",
       "        }\n",
       "    </style>\n",
       "    <div>\n",
       "        <a href=\"https://bokeh.org\" target=\"_blank\" class=\"bk-notebook-logo\"></a>\n",
       "        <span id=\"p1001\">Loading BokehJS ...</span>\n",
       "    </div>\n"
      ]
     },
     "metadata": {},
     "output_type": "display_data"
    },
    {
     "data": {
      "application/javascript": [
       "(function(root) {\n",
       "  function now() {\n",
       "    return new Date();\n",
       "  }\n",
       "\n",
       "  const force = true;\n",
       "\n",
       "  if (typeof root._bokeh_onload_callbacks === \"undefined\" || force === true) {\n",
       "    root._bokeh_onload_callbacks = [];\n",
       "    root._bokeh_is_loading = undefined;\n",
       "  }\n",
       "\n",
       "const JS_MIME_TYPE = 'application/javascript';\n",
       "  const HTML_MIME_TYPE = 'text/html';\n",
       "  const EXEC_MIME_TYPE = 'application/vnd.bokehjs_exec.v0+json';\n",
       "  const CLASS_NAME = 'output_bokeh rendered_html';\n",
       "\n",
       "  /**\n",
       "   * Render data to the DOM node\n",
       "   */\n",
       "  function render(props, node) {\n",
       "    const script = document.createElement(\"script\");\n",
       "    node.appendChild(script);\n",
       "  }\n",
       "\n",
       "  /**\n",
       "   * Handle when an output is cleared or removed\n",
       "   */\n",
       "  function handleClearOutput(event, handle) {\n",
       "    const cell = handle.cell;\n",
       "\n",
       "    const id = cell.output_area._bokeh_element_id;\n",
       "    const server_id = cell.output_area._bokeh_server_id;\n",
       "    // Clean up Bokeh references\n",
       "    if (id != null && id in Bokeh.index) {\n",
       "      Bokeh.index[id].model.document.clear();\n",
       "      delete Bokeh.index[id];\n",
       "    }\n",
       "\n",
       "    if (server_id !== undefined) {\n",
       "      // Clean up Bokeh references\n",
       "      const cmd_clean = \"from bokeh.io.state import curstate; print(curstate().uuid_to_server['\" + server_id + \"'].get_sessions()[0].document.roots[0]._id)\";\n",
       "      cell.notebook.kernel.execute(cmd_clean, {\n",
       "        iopub: {\n",
       "          output: function(msg) {\n",
       "            const id = msg.content.text.trim();\n",
       "            if (id in Bokeh.index) {\n",
       "              Bokeh.index[id].model.document.clear();\n",
       "              delete Bokeh.index[id];\n",
       "            }\n",
       "          }\n",
       "        }\n",
       "      });\n",
       "      // Destroy server and session\n",
       "      const cmd_destroy = \"import bokeh.io.notebook as ion; ion.destroy_server('\" + server_id + \"')\";\n",
       "      cell.notebook.kernel.execute(cmd_destroy);\n",
       "    }\n",
       "  }\n",
       "\n",
       "  /**\n",
       "   * Handle when a new output is added\n",
       "   */\n",
       "  function handleAddOutput(event, handle) {\n",
       "    const output_area = handle.output_area;\n",
       "    const output = handle.output;\n",
       "\n",
       "    // limit handleAddOutput to display_data with EXEC_MIME_TYPE content only\n",
       "    if ((output.output_type != \"display_data\") || (!Object.prototype.hasOwnProperty.call(output.data, EXEC_MIME_TYPE))) {\n",
       "      return\n",
       "    }\n",
       "\n",
       "    const toinsert = output_area.element.find(\".\" + CLASS_NAME.split(' ')[0]);\n",
       "\n",
       "    if (output.metadata[EXEC_MIME_TYPE][\"id\"] !== undefined) {\n",
       "      toinsert[toinsert.length - 1].firstChild.textContent = output.data[JS_MIME_TYPE];\n",
       "      // store reference to embed id on output_area\n",
       "      output_area._bokeh_element_id = output.metadata[EXEC_MIME_TYPE][\"id\"];\n",
       "    }\n",
       "    if (output.metadata[EXEC_MIME_TYPE][\"server_id\"] !== undefined) {\n",
       "      const bk_div = document.createElement(\"div\");\n",
       "      bk_div.innerHTML = output.data[HTML_MIME_TYPE];\n",
       "      const script_attrs = bk_div.children[0].attributes;\n",
       "      for (let i = 0; i < script_attrs.length; i++) {\n",
       "        toinsert[toinsert.length - 1].firstChild.setAttribute(script_attrs[i].name, script_attrs[i].value);\n",
       "        toinsert[toinsert.length - 1].firstChild.textContent = bk_div.children[0].textContent\n",
       "      }\n",
       "      // store reference to server id on output_area\n",
       "      output_area._bokeh_server_id = output.metadata[EXEC_MIME_TYPE][\"server_id\"];\n",
       "    }\n",
       "  }\n",
       "\n",
       "  function register_renderer(events, OutputArea) {\n",
       "\n",
       "    function append_mime(data, metadata, element) {\n",
       "      // create a DOM node to render to\n",
       "      const toinsert = this.create_output_subarea(\n",
       "        metadata,\n",
       "        CLASS_NAME,\n",
       "        EXEC_MIME_TYPE\n",
       "      );\n",
       "      this.keyboard_manager.register_events(toinsert);\n",
       "      // Render to node\n",
       "      const props = {data: data, metadata: metadata[EXEC_MIME_TYPE]};\n",
       "      render(props, toinsert[toinsert.length - 1]);\n",
       "      element.append(toinsert);\n",
       "      return toinsert\n",
       "    }\n",
       "\n",
       "    /* Handle when an output is cleared or removed */\n",
       "    events.on('clear_output.CodeCell', handleClearOutput);\n",
       "    events.on('delete.Cell', handleClearOutput);\n",
       "\n",
       "    /* Handle when a new output is added */\n",
       "    events.on('output_added.OutputArea', handleAddOutput);\n",
       "\n",
       "    /**\n",
       "     * Register the mime type and append_mime function with output_area\n",
       "     */\n",
       "    OutputArea.prototype.register_mime_type(EXEC_MIME_TYPE, append_mime, {\n",
       "      /* Is output safe? */\n",
       "      safe: true,\n",
       "      /* Index of renderer in `output_area.display_order` */\n",
       "      index: 0\n",
       "    });\n",
       "  }\n",
       "\n",
       "  // register the mime type if in Jupyter Notebook environment and previously unregistered\n",
       "  if (root.Jupyter !== undefined) {\n",
       "    const events = require('base/js/events');\n",
       "    const OutputArea = require('notebook/js/outputarea').OutputArea;\n",
       "\n",
       "    if (OutputArea.prototype.mime_types().indexOf(EXEC_MIME_TYPE) == -1) {\n",
       "      register_renderer(events, OutputArea);\n",
       "    }\n",
       "  }\n",
       "  if (typeof (root._bokeh_timeout) === \"undefined\" || force === true) {\n",
       "    root._bokeh_timeout = Date.now() + 5000;\n",
       "    root._bokeh_failed_load = false;\n",
       "  }\n",
       "\n",
       "  const NB_LOAD_WARNING = {'data': {'text/html':\n",
       "     \"<div style='background-color: #fdd'>\\n\"+\n",
       "     \"<p>\\n\"+\n",
       "     \"BokehJS does not appear to have successfully loaded. If loading BokehJS from CDN, this \\n\"+\n",
       "     \"may be due to a slow or bad network connection. Possible fixes:\\n\"+\n",
       "     \"</p>\\n\"+\n",
       "     \"<ul>\\n\"+\n",
       "     \"<li>re-rerun `output_notebook()` to attempt to load from CDN again, or</li>\\n\"+\n",
       "     \"<li>use INLINE resources instead, as so:</li>\\n\"+\n",
       "     \"</ul>\\n\"+\n",
       "     \"<code>\\n\"+\n",
       "     \"from bokeh.resources import INLINE\\n\"+\n",
       "     \"output_notebook(resources=INLINE)\\n\"+\n",
       "     \"</code>\\n\"+\n",
       "     \"</div>\"}};\n",
       "\n",
       "  function display_loaded() {\n",
       "    const el = document.getElementById(\"p1001\");\n",
       "    if (el != null) {\n",
       "      el.textContent = \"BokehJS is loading...\";\n",
       "    }\n",
       "    if (root.Bokeh !== undefined) {\n",
       "      if (el != null) {\n",
       "        el.textContent = \"BokehJS \" + root.Bokeh.version + \" successfully loaded.\";\n",
       "      }\n",
       "    } else if (Date.now() < root._bokeh_timeout) {\n",
       "      setTimeout(display_loaded, 100)\n",
       "    }\n",
       "  }\n",
       "\n",
       "  function run_callbacks() {\n",
       "    try {\n",
       "      root._bokeh_onload_callbacks.forEach(function(callback) {\n",
       "        if (callback != null)\n",
       "          callback();\n",
       "      });\n",
       "    } finally {\n",
       "      delete root._bokeh_onload_callbacks\n",
       "    }\n",
       "    console.debug(\"Bokeh: all callbacks have finished\");\n",
       "  }\n",
       "\n",
       "  function load_libs(css_urls, js_urls, callback) {\n",
       "    if (css_urls == null) css_urls = [];\n",
       "    if (js_urls == null) js_urls = [];\n",
       "\n",
       "    root._bokeh_onload_callbacks.push(callback);\n",
       "    if (root._bokeh_is_loading > 0) {\n",
       "      console.debug(\"Bokeh: BokehJS is being loaded, scheduling callback at\", now());\n",
       "      return null;\n",
       "    }\n",
       "    if (js_urls == null || js_urls.length === 0) {\n",
       "      run_callbacks();\n",
       "      return null;\n",
       "    }\n",
       "    console.debug(\"Bokeh: BokehJS not loaded, scheduling load and callback at\", now());\n",
       "    root._bokeh_is_loading = css_urls.length + js_urls.length;\n",
       "\n",
       "    function on_load() {\n",
       "      root._bokeh_is_loading--;\n",
       "      if (root._bokeh_is_loading === 0) {\n",
       "        console.debug(\"Bokeh: all BokehJS libraries/stylesheets loaded\");\n",
       "        run_callbacks()\n",
       "      }\n",
       "    }\n",
       "\n",
       "    function on_error(url) {\n",
       "      console.error(\"failed to load \" + url);\n",
       "    }\n",
       "\n",
       "    for (let i = 0; i < css_urls.length; i++) {\n",
       "      const url = css_urls[i];\n",
       "      const element = document.createElement(\"link\");\n",
       "      element.onload = on_load;\n",
       "      element.onerror = on_error.bind(null, url);\n",
       "      element.rel = \"stylesheet\";\n",
       "      element.type = \"text/css\";\n",
       "      element.href = url;\n",
       "      console.debug(\"Bokeh: injecting link tag for BokehJS stylesheet: \", url);\n",
       "      document.body.appendChild(element);\n",
       "    }\n",
       "\n",
       "    for (let i = 0; i < js_urls.length; i++) {\n",
       "      const url = js_urls[i];\n",
       "      const element = document.createElement('script');\n",
       "      element.onload = on_load;\n",
       "      element.onerror = on_error.bind(null, url);\n",
       "      element.async = false;\n",
       "      element.src = url;\n",
       "      console.debug(\"Bokeh: injecting script tag for BokehJS library: \", url);\n",
       "      document.head.appendChild(element);\n",
       "    }\n",
       "  };\n",
       "\n",
       "  function inject_raw_css(css) {\n",
       "    const element = document.createElement(\"style\");\n",
       "    element.appendChild(document.createTextNode(css));\n",
       "    document.body.appendChild(element);\n",
       "  }\n",
       "\n",
       "  const js_urls = [\"https://cdn.bokeh.org/bokeh/release/bokeh-3.1.0.min.js\", \"https://cdn.bokeh.org/bokeh/release/bokeh-gl-3.1.0.min.js\", \"https://cdn.bokeh.org/bokeh/release/bokeh-widgets-3.1.0.min.js\", \"https://cdn.bokeh.org/bokeh/release/bokeh-tables-3.1.0.min.js\", \"https://cdn.bokeh.org/bokeh/release/bokeh-mathjax-3.1.0.min.js\"];\n",
       "  const css_urls = [];\n",
       "\n",
       "  const inline_js = [    function(Bokeh) {\n",
       "      Bokeh.set_log_level(\"info\");\n",
       "    },\n",
       "function(Bokeh) {\n",
       "    }\n",
       "  ];\n",
       "\n",
       "  function run_inline_js() {\n",
       "    if (root.Bokeh !== undefined || force === true) {\n",
       "          for (let i = 0; i < inline_js.length; i++) {\n",
       "      inline_js[i].call(root, root.Bokeh);\n",
       "    }\n",
       "if (force === true) {\n",
       "        display_loaded();\n",
       "      }} else if (Date.now() < root._bokeh_timeout) {\n",
       "      setTimeout(run_inline_js, 100);\n",
       "    } else if (!root._bokeh_failed_load) {\n",
       "      console.log(\"Bokeh: BokehJS failed to load within specified timeout.\");\n",
       "      root._bokeh_failed_load = true;\n",
       "    } else if (force !== true) {\n",
       "      const cell = $(document.getElementById(\"p1001\")).parents('.cell').data().cell;\n",
       "      cell.output_area.append_execute_result(NB_LOAD_WARNING)\n",
       "    }\n",
       "  }\n",
       "\n",
       "  if (root._bokeh_is_loading === 0) {\n",
       "    console.debug(\"Bokeh: BokehJS loaded, going straight to plotting\");\n",
       "    run_inline_js();\n",
       "  } else {\n",
       "    load_libs(css_urls, js_urls, function() {\n",
       "      console.debug(\"Bokeh: BokehJS plotting callback run at\", now());\n",
       "      run_inline_js();\n",
       "    });\n",
       "  }\n",
       "}(window));"
      ],
      "application/vnd.bokehjs_load.v0+json": "(function(root) {\n  function now() {\n    return new Date();\n  }\n\n  const force = true;\n\n  if (typeof root._bokeh_onload_callbacks === \"undefined\" || force === true) {\n    root._bokeh_onload_callbacks = [];\n    root._bokeh_is_loading = undefined;\n  }\n\n\n  if (typeof (root._bokeh_timeout) === \"undefined\" || force === true) {\n    root._bokeh_timeout = Date.now() + 5000;\n    root._bokeh_failed_load = false;\n  }\n\n  const NB_LOAD_WARNING = {'data': {'text/html':\n     \"<div style='background-color: #fdd'>\\n\"+\n     \"<p>\\n\"+\n     \"BokehJS does not appear to have successfully loaded. If loading BokehJS from CDN, this \\n\"+\n     \"may be due to a slow or bad network connection. Possible fixes:\\n\"+\n     \"</p>\\n\"+\n     \"<ul>\\n\"+\n     \"<li>re-rerun `output_notebook()` to attempt to load from CDN again, or</li>\\n\"+\n     \"<li>use INLINE resources instead, as so:</li>\\n\"+\n     \"</ul>\\n\"+\n     \"<code>\\n\"+\n     \"from bokeh.resources import INLINE\\n\"+\n     \"output_notebook(resources=INLINE)\\n\"+\n     \"</code>\\n\"+\n     \"</div>\"}};\n\n  function display_loaded() {\n    const el = document.getElementById(\"p1001\");\n    if (el != null) {\n      el.textContent = \"BokehJS is loading...\";\n    }\n    if (root.Bokeh !== undefined) {\n      if (el != null) {\n        el.textContent = \"BokehJS \" + root.Bokeh.version + \" successfully loaded.\";\n      }\n    } else if (Date.now() < root._bokeh_timeout) {\n      setTimeout(display_loaded, 100)\n    }\n  }\n\n  function run_callbacks() {\n    try {\n      root._bokeh_onload_callbacks.forEach(function(callback) {\n        if (callback != null)\n          callback();\n      });\n    } finally {\n      delete root._bokeh_onload_callbacks\n    }\n    console.debug(\"Bokeh: all callbacks have finished\");\n  }\n\n  function load_libs(css_urls, js_urls, callback) {\n    if (css_urls == null) css_urls = [];\n    if (js_urls == null) js_urls = [];\n\n    root._bokeh_onload_callbacks.push(callback);\n    if (root._bokeh_is_loading > 0) {\n      console.debug(\"Bokeh: BokehJS is being loaded, scheduling callback at\", now());\n      return null;\n    }\n    if (js_urls == null || js_urls.length === 0) {\n      run_callbacks();\n      return null;\n    }\n    console.debug(\"Bokeh: BokehJS not loaded, scheduling load and callback at\", now());\n    root._bokeh_is_loading = css_urls.length + js_urls.length;\n\n    function on_load() {\n      root._bokeh_is_loading--;\n      if (root._bokeh_is_loading === 0) {\n        console.debug(\"Bokeh: all BokehJS libraries/stylesheets loaded\");\n        run_callbacks()\n      }\n    }\n\n    function on_error(url) {\n      console.error(\"failed to load \" + url);\n    }\n\n    for (let i = 0; i < css_urls.length; i++) {\n      const url = css_urls[i];\n      const element = document.createElement(\"link\");\n      element.onload = on_load;\n      element.onerror = on_error.bind(null, url);\n      element.rel = \"stylesheet\";\n      element.type = \"text/css\";\n      element.href = url;\n      console.debug(\"Bokeh: injecting link tag for BokehJS stylesheet: \", url);\n      document.body.appendChild(element);\n    }\n\n    for (let i = 0; i < js_urls.length; i++) {\n      const url = js_urls[i];\n      const element = document.createElement('script');\n      element.onload = on_load;\n      element.onerror = on_error.bind(null, url);\n      element.async = false;\n      element.src = url;\n      console.debug(\"Bokeh: injecting script tag for BokehJS library: \", url);\n      document.head.appendChild(element);\n    }\n  };\n\n  function inject_raw_css(css) {\n    const element = document.createElement(\"style\");\n    element.appendChild(document.createTextNode(css));\n    document.body.appendChild(element);\n  }\n\n  const js_urls = [\"https://cdn.bokeh.org/bokeh/release/bokeh-3.1.0.min.js\", \"https://cdn.bokeh.org/bokeh/release/bokeh-gl-3.1.0.min.js\", \"https://cdn.bokeh.org/bokeh/release/bokeh-widgets-3.1.0.min.js\", \"https://cdn.bokeh.org/bokeh/release/bokeh-tables-3.1.0.min.js\", \"https://cdn.bokeh.org/bokeh/release/bokeh-mathjax-3.1.0.min.js\"];\n  const css_urls = [];\n\n  const inline_js = [    function(Bokeh) {\n      Bokeh.set_log_level(\"info\");\n    },\nfunction(Bokeh) {\n    }\n  ];\n\n  function run_inline_js() {\n    if (root.Bokeh !== undefined || force === true) {\n          for (let i = 0; i < inline_js.length; i++) {\n      inline_js[i].call(root, root.Bokeh);\n    }\nif (force === true) {\n        display_loaded();\n      }} else if (Date.now() < root._bokeh_timeout) {\n      setTimeout(run_inline_js, 100);\n    } else if (!root._bokeh_failed_load) {\n      console.log(\"Bokeh: BokehJS failed to load within specified timeout.\");\n      root._bokeh_failed_load = true;\n    } else if (force !== true) {\n      const cell = $(document.getElementById(\"p1001\")).parents('.cell').data().cell;\n      cell.output_area.append_execute_result(NB_LOAD_WARNING)\n    }\n  }\n\n  if (root._bokeh_is_loading === 0) {\n    console.debug(\"Bokeh: BokehJS loaded, going straight to plotting\");\n    run_inline_js();\n  } else {\n    load_libs(css_urls, js_urls, function() {\n      console.debug(\"Bokeh: BokehJS plotting callback run at\", now());\n      run_inline_js();\n    });\n  }\n}(window));"
     },
     "metadata": {},
     "output_type": "display_data"
    }
   ],
   "source": [
    "import random\n",
    "\n",
    "import numpy as np\n",
    "import pandas as pd\n",
    "import scipy.fftpack as fftp\n",
    "import scipy.optimize as optz\n",
    "\n",
    "import bokeh.plotting as plt\n",
    "from bokeh.io import output_notebook\n",
    "\n",
    "output_notebook()"
   ]
  },
  {
   "cell_type": "code",
   "execution_count": 2,
   "id": "69c332ae-e01d-4066-bd67-9dd547bc367b",
   "metadata": {
    "execution": {
     "iopub.execute_input": "2023-06-20T15:55:56.653351Z",
     "iopub.status.busy": "2023-06-20T15:55:56.653116Z",
     "iopub.status.idle": "2023-06-20T15:55:56.657122Z",
     "shell.execute_reply": "2023-06-20T15:55:56.656648Z",
     "shell.execute_reply.started": "2023-06-20T15:55:56.653332Z"
    },
    "tags": []
   },
   "outputs": [],
   "source": [
    "def func_factory(degree=3):\n",
    "    \"\"\"Factory of sin series polynomial functions of a degree.\n",
    "    \"\"\"\n",
    "    a_v = random.choices(np.linspace(-10, 10, 11), k=degree)\n",
    "\n",
    "    def myfunc(x: int) -> int:\n",
    "        \"\"\"Return the evaluated y at x.\n",
    "\n",
    "        >>> myfunc(2)\n",
    "        8\n",
    "        \"\"\"\n",
    "        return a_v[1] * np.sin(a_v[0]*x) + a_v[2]\n",
    "\n",
    "    return myfunc    "
   ]
  },
  {
   "cell_type": "code",
   "execution_count": 3,
   "id": "f1772071-9277-461f-97a8-2a74ae6b8806",
   "metadata": {
    "execution": {
     "iopub.execute_input": "2023-06-20T15:55:56.657967Z",
     "iopub.status.busy": "2023-06-20T15:55:56.657800Z",
     "iopub.status.idle": "2023-06-20T15:55:56.671326Z",
     "shell.execute_reply": "2023-06-20T15:55:56.670566Z",
     "shell.execute_reply.started": "2023-06-20T15:55:56.657953Z"
    },
    "tags": []
   },
   "outputs": [],
   "source": [
    "def plot(f):\n",
    "    df = pd.DataFrame(np.linspace(-1, 1, 201), columns=['x'])\n",
    "    df['y'] = f(df['x'])\n",
    "    \n",
    "    p = plt.figure(\n",
    "        title=\"Simple line example\",\n",
    "        x_axis_label='x',\n",
    "        y_axis_label='y',\n",
    "        x_range=[-1, 1],\n",
    "        y_range=[-2.5, 2.5],\n",
    "    )\n",
    "    p.line(df['x'], df['y'], line_width=2)\n",
    "    plt.show(p)\n",
    "    return p"
   ]
  },
  {
   "cell_type": "code",
   "execution_count": 4,
   "id": "0585ed3c-403e-49a1-aced-9968b2cfe2de",
   "metadata": {
    "execution": {
     "iopub.execute_input": "2023-06-20T15:55:56.672164Z",
     "iopub.status.busy": "2023-06-20T15:55:56.671901Z",
     "iopub.status.idle": "2023-06-20T15:55:56.888657Z",
     "shell.execute_reply": "2023-06-20T15:55:56.888264Z",
     "shell.execute_reply.started": "2023-06-20T15:55:56.672136Z"
    },
    "tags": []
   },
   "outputs": [
    {
     "data": {
      "text/html": [
       "\n",
       "  <div id=\"4a7421c3-09f5-4384-9536-7ab13076060b\" data-root-id=\"p1002\" style=\"display: contents;\"></div>\n"
      ]
     },
     "metadata": {},
     "output_type": "display_data"
    },
    {
     "data": {
      "application/javascript": [
       "(function(root) {\n",
       "  function embed_document(root) {\n",
       "  const docs_json = {\"3968e76d-9b79-4018-909c-73ad593273a8\":{\"version\":\"3.1.0\",\"title\":\"Bokeh Application\",\"defs\":[],\"roots\":[{\"type\":\"object\",\"name\":\"Figure\",\"id\":\"p1002\",\"attributes\":{\"x_range\":{\"type\":\"object\",\"name\":\"Range1d\",\"id\":\"p1012\",\"attributes\":{\"start\":-1}},\"y_range\":{\"type\":\"object\",\"name\":\"Range1d\",\"id\":\"p1014\",\"attributes\":{\"start\":-2.5,\"end\":2.5}},\"x_scale\":{\"type\":\"object\",\"name\":\"LinearScale\",\"id\":\"p1016\"},\"y_scale\":{\"type\":\"object\",\"name\":\"LinearScale\",\"id\":\"p1018\"},\"title\":{\"type\":\"object\",\"name\":\"Title\",\"id\":\"p1005\",\"attributes\":{\"text\":\"Simple line example\"}},\"renderers\":[{\"type\":\"object\",\"name\":\"GlyphRenderer\",\"id\":\"p1055\",\"attributes\":{\"data_source\":{\"type\":\"object\",\"name\":\"ColumnDataSource\",\"id\":\"p1049\",\"attributes\":{\"selected\":{\"type\":\"object\",\"name\":\"Selection\",\"id\":\"p1050\",\"attributes\":{\"indices\":[],\"line_indices\":[]}},\"selection_policy\":{\"type\":\"object\",\"name\":\"UnionRenderers\",\"id\":\"p1051\"},\"data\":{\"type\":\"map\",\"entries\":[[\"x\",{\"type\":\"ndarray\",\"array\":{\"type\":\"bytes\",\"data\":\"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\"},\"shape\":[201],\"dtype\":\"float64\",\"order\":\"little\"}],[\"y\",{\"type\":\"ndarray\",\"array\":{\"type\":\"bytes\",\"data\":\"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\"},\"shape\":[201],\"dtype\":\"float64\",\"order\":\"little\"}]]}}},\"view\":{\"type\":\"object\",\"name\":\"CDSView\",\"id\":\"p1056\",\"attributes\":{\"filter\":{\"type\":\"object\",\"name\":\"AllIndices\",\"id\":\"p1057\"}}},\"glyph\":{\"type\":\"object\",\"name\":\"Line\",\"id\":\"p1052\",\"attributes\":{\"x\":{\"type\":\"field\",\"field\":\"x\"},\"y\":{\"type\":\"field\",\"field\":\"y\"},\"line_color\":\"#1f77b4\",\"line_width\":2}},\"nonselection_glyph\":{\"type\":\"object\",\"name\":\"Line\",\"id\":\"p1053\",\"attributes\":{\"x\":{\"type\":\"field\",\"field\":\"x\"},\"y\":{\"type\":\"field\",\"field\":\"y\"},\"line_color\":\"#1f77b4\",\"line_alpha\":0.1,\"line_width\":2}},\"muted_glyph\":{\"type\":\"object\",\"name\":\"Line\",\"id\":\"p1054\",\"attributes\":{\"x\":{\"type\":\"field\",\"field\":\"x\"},\"y\":{\"type\":\"field\",\"field\":\"y\"},\"line_color\":\"#1f77b4\",\"line_alpha\":0.2,\"line_width\":2}}}}],\"toolbar\":{\"type\":\"object\",\"name\":\"Toolbar\",\"id\":\"p1008\",\"attributes\":{\"tools\":[{\"type\":\"object\",\"name\":\"PanTool\",\"id\":\"p1034\"},{\"type\":\"object\",\"name\":\"WheelZoomTool\",\"id\":\"p1035\"},{\"type\":\"object\",\"name\":\"BoxZoomTool\",\"id\":\"p1036\",\"attributes\":{\"overlay\":{\"type\":\"object\",\"name\":\"BoxAnnotation\",\"id\":\"p1037\",\"attributes\":{\"syncable\":false,\"level\":\"overlay\",\"visible\":false,\"left_units\":\"canvas\",\"right_units\":\"canvas\",\"bottom_units\":\"canvas\",\"top_units\":\"canvas\",\"line_color\":\"black\",\"line_alpha\":1.0,\"line_width\":2,\"line_dash\":[4,4],\"fill_color\":\"lightgrey\",\"fill_alpha\":0.5}}}},{\"type\":\"object\",\"name\":\"SaveTool\",\"id\":\"p1038\"},{\"type\":\"object\",\"name\":\"ResetTool\",\"id\":\"p1039\"},{\"type\":\"object\",\"name\":\"HelpTool\",\"id\":\"p1040\"}]}},\"left\":[{\"type\":\"object\",\"name\":\"LinearAxis\",\"id\":\"p1027\",\"attributes\":{\"ticker\":{\"type\":\"object\",\"name\":\"BasicTicker\",\"id\":\"p1029\",\"attributes\":{\"mantissas\":[1,2,5]}},\"formatter\":{\"type\":\"object\",\"name\":\"BasicTickFormatter\",\"id\":\"p1030\"},\"axis_label\":\"y\",\"major_label_policy\":{\"type\":\"object\",\"name\":\"AllLabels\",\"id\":\"p1028\"}}}],\"below\":[{\"type\":\"object\",\"name\":\"LinearAxis\",\"id\":\"p1020\",\"attributes\":{\"ticker\":{\"type\":\"object\",\"name\":\"BasicTicker\",\"id\":\"p1022\",\"attributes\":{\"mantissas\":[1,2,5]}},\"formatter\":{\"type\":\"object\",\"name\":\"BasicTickFormatter\",\"id\":\"p1023\"},\"axis_label\":\"x\",\"major_label_policy\":{\"type\":\"object\",\"name\":\"AllLabels\",\"id\":\"p1021\"}}}],\"center\":[{\"type\":\"object\",\"name\":\"Grid\",\"id\":\"p1026\",\"attributes\":{\"axis\":{\"id\":\"p1020\"}}},{\"type\":\"object\",\"name\":\"Grid\",\"id\":\"p1033\",\"attributes\":{\"dimension\":1,\"axis\":{\"id\":\"p1027\"}}}]}}],\"callbacks\":{\"type\":\"map\"}}};\n",
       "  const render_items = [{\"docid\":\"3968e76d-9b79-4018-909c-73ad593273a8\",\"roots\":{\"p1002\":\"4a7421c3-09f5-4384-9536-7ab13076060b\"},\"root_ids\":[\"p1002\"]}];\n",
       "  root.Bokeh.embed.embed_items_notebook(docs_json, render_items);\n",
       "  }\n",
       "  if (root.Bokeh !== undefined) {\n",
       "    embed_document(root);\n",
       "  } else {\n",
       "    let attempts = 0;\n",
       "    const timer = setInterval(function(root) {\n",
       "      if (root.Bokeh !== undefined) {\n",
       "        clearInterval(timer);\n",
       "        embed_document(root);\n",
       "      } else {\n",
       "        attempts++;\n",
       "        if (attempts > 100) {\n",
       "          clearInterval(timer);\n",
       "          console.log(\"Bokeh: ERROR: Unable to run BokehJS code because BokehJS library is missing\");\n",
       "        }\n",
       "      }\n",
       "    }, 10, root)\n",
       "  }\n",
       "})(window);"
      ],
      "application/vnd.bokehjs_exec.v0+json": ""
     },
     "metadata": {
      "application/vnd.bokehjs_exec.v0+json": {
       "id": "p1002"
      }
     },
     "output_type": "display_data"
    },
    {
     "data": {
      "text/html": [
       "\n",
       "  <div id=\"3e3df68d-a9d4-4e54-baa3-eda86fa6b368\" data-root-id=\"p1141\" style=\"display: contents;\"></div>\n"
      ]
     },
     "metadata": {},
     "output_type": "display_data"
    },
    {
     "data": {
      "application/javascript": [
       "(function(root) {\n",
       "  function embed_document(root) {\n",
       "  const docs_json = {\"45a4783f-2cbc-4587-85ef-bb5678250c4e\":{\"version\":\"3.1.0\",\"title\":\"Bokeh Application\",\"defs\":[],\"roots\":[{\"type\":\"object\",\"name\":\"Figure\",\"id\":\"p1141\",\"attributes\":{\"x_range\":{\"type\":\"object\",\"name\":\"Range1d\",\"id\":\"p1151\",\"attributes\":{\"start\":-1}},\"y_range\":{\"type\":\"object\",\"name\":\"Range1d\",\"id\":\"p1153\",\"attributes\":{\"start\":-2.5,\"end\":2.5}},\"x_scale\":{\"type\":\"object\",\"name\":\"LinearScale\",\"id\":\"p1155\"},\"y_scale\":{\"type\":\"object\",\"name\":\"LinearScale\",\"id\":\"p1157\"},\"title\":{\"type\":\"object\",\"name\":\"Title\",\"id\":\"p1144\",\"attributes\":{\"text\":\"Simple line example\"}},\"renderers\":[{\"type\":\"object\",\"name\":\"GlyphRenderer\",\"id\":\"p1194\",\"attributes\":{\"data_source\":{\"type\":\"object\",\"name\":\"ColumnDataSource\",\"id\":\"p1188\",\"attributes\":{\"selected\":{\"type\":\"object\",\"name\":\"Selection\",\"id\":\"p1189\",\"attributes\":{\"indices\":[],\"line_indices\":[]}},\"selection_policy\":{\"type\":\"object\",\"name\":\"UnionRenderers\",\"id\":\"p1190\"},\"data\":{\"type\":\"map\",\"entries\":[[\"x\",{\"type\":\"ndarray\",\"array\":{\"type\":\"bytes\",\"data\":\"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\"},\"shape\":[201],\"dtype\":\"float64\",\"order\":\"little\"}],[\"y\",{\"type\":\"ndarray\",\"array\":{\"type\":\"bytes\",\"data\":\"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\"},\"shape\":[201],\"dtype\":\"float64\",\"order\":\"little\"}]]}}},\"view\":{\"type\":\"object\",\"name\":\"CDSView\",\"id\":\"p1195\",\"attributes\":{\"filter\":{\"type\":\"object\",\"name\":\"AllIndices\",\"id\":\"p1196\"}}},\"glyph\":{\"type\":\"object\",\"name\":\"Line\",\"id\":\"p1191\",\"attributes\":{\"x\":{\"type\":\"field\",\"field\":\"x\"},\"y\":{\"type\":\"field\",\"field\":\"y\"},\"line_color\":\"#1f77b4\",\"line_width\":2}},\"nonselection_glyph\":{\"type\":\"object\",\"name\":\"Line\",\"id\":\"p1192\",\"attributes\":{\"x\":{\"type\":\"field\",\"field\":\"x\"},\"y\":{\"type\":\"field\",\"field\":\"y\"},\"line_color\":\"#1f77b4\",\"line_alpha\":0.1,\"line_width\":2}},\"muted_glyph\":{\"type\":\"object\",\"name\":\"Line\",\"id\":\"p1193\",\"attributes\":{\"x\":{\"type\":\"field\",\"field\":\"x\"},\"y\":{\"type\":\"field\",\"field\":\"y\"},\"line_color\":\"#1f77b4\",\"line_alpha\":0.2,\"line_width\":2}}}}],\"toolbar\":{\"type\":\"object\",\"name\":\"Toolbar\",\"id\":\"p1147\",\"attributes\":{\"tools\":[{\"type\":\"object\",\"name\":\"PanTool\",\"id\":\"p1173\"},{\"type\":\"object\",\"name\":\"WheelZoomTool\",\"id\":\"p1174\"},{\"type\":\"object\",\"name\":\"BoxZoomTool\",\"id\":\"p1175\",\"attributes\":{\"overlay\":{\"type\":\"object\",\"name\":\"BoxAnnotation\",\"id\":\"p1176\",\"attributes\":{\"syncable\":false,\"level\":\"overlay\",\"visible\":false,\"left_units\":\"canvas\",\"right_units\":\"canvas\",\"bottom_units\":\"canvas\",\"top_units\":\"canvas\",\"line_color\":\"black\",\"line_alpha\":1.0,\"line_width\":2,\"line_dash\":[4,4],\"fill_color\":\"lightgrey\",\"fill_alpha\":0.5}}}},{\"type\":\"object\",\"name\":\"SaveTool\",\"id\":\"p1177\"},{\"type\":\"object\",\"name\":\"ResetTool\",\"id\":\"p1178\"},{\"type\":\"object\",\"name\":\"HelpTool\",\"id\":\"p1179\"}]}},\"left\":[{\"type\":\"object\",\"name\":\"LinearAxis\",\"id\":\"p1166\",\"attributes\":{\"ticker\":{\"type\":\"object\",\"name\":\"BasicTicker\",\"id\":\"p1168\",\"attributes\":{\"mantissas\":[1,2,5]}},\"formatter\":{\"type\":\"object\",\"name\":\"BasicTickFormatter\",\"id\":\"p1169\"},\"axis_label\":\"y\",\"major_label_policy\":{\"type\":\"object\",\"name\":\"AllLabels\",\"id\":\"p1167\"}}}],\"below\":[{\"type\":\"object\",\"name\":\"LinearAxis\",\"id\":\"p1159\",\"attributes\":{\"ticker\":{\"type\":\"object\",\"name\":\"BasicTicker\",\"id\":\"p1161\",\"attributes\":{\"mantissas\":[1,2,5]}},\"formatter\":{\"type\":\"object\",\"name\":\"BasicTickFormatter\",\"id\":\"p1162\"},\"axis_label\":\"x\",\"major_label_policy\":{\"type\":\"object\",\"name\":\"AllLabels\",\"id\":\"p1160\"}}}],\"center\":[{\"type\":\"object\",\"name\":\"Grid\",\"id\":\"p1165\",\"attributes\":{\"axis\":{\"id\":\"p1159\"}}},{\"type\":\"object\",\"name\":\"Grid\",\"id\":\"p1172\",\"attributes\":{\"dimension\":1,\"axis\":{\"id\":\"p1166\"}}}]}}],\"callbacks\":{\"type\":\"map\"}}};\n",
       "  const render_items = [{\"docid\":\"45a4783f-2cbc-4587-85ef-bb5678250c4e\",\"roots\":{\"p1141\":\"3e3df68d-a9d4-4e54-baa3-eda86fa6b368\"},\"root_ids\":[\"p1141\"]}];\n",
       "  root.Bokeh.embed.embed_items_notebook(docs_json, render_items);\n",
       "  }\n",
       "  if (root.Bokeh !== undefined) {\n",
       "    embed_document(root);\n",
       "  } else {\n",
       "    let attempts = 0;\n",
       "    const timer = setInterval(function(root) {\n",
       "      if (root.Bokeh !== undefined) {\n",
       "        clearInterval(timer);\n",
       "        embed_document(root);\n",
       "      } else {\n",
       "        attempts++;\n",
       "        if (attempts > 100) {\n",
       "          clearInterval(timer);\n",
       "          console.log(\"Bokeh: ERROR: Unable to run BokehJS code because BokehJS library is missing\");\n",
       "        }\n",
       "      }\n",
       "    }, 10, root)\n",
       "  }\n",
       "})(window);"
      ],
      "application/vnd.bokehjs_exec.v0+json": ""
     },
     "metadata": {
      "application/vnd.bokehjs_exec.v0+json": {
       "id": "p1141"
      }
     },
     "output_type": "display_data"
    },
    {
     "data": {
      "text/html": [
       "\n",
       "  <div id=\"c6745ec1-c2e5-41fe-8f29-57c31c394b80\" data-root-id=\"p1293\" style=\"display: contents;\"></div>\n"
      ]
     },
     "metadata": {},
     "output_type": "display_data"
    },
    {
     "data": {
      "application/javascript": [
       "(function(root) {\n",
       "  function embed_document(root) {\n",
       "  const docs_json = {\"56d243ac-0060-4a56-9bdb-ccc5b5a54037\":{\"version\":\"3.1.0\",\"title\":\"Bokeh Application\",\"defs\":[],\"roots\":[{\"type\":\"object\",\"name\":\"Figure\",\"id\":\"p1293\",\"attributes\":{\"x_range\":{\"type\":\"object\",\"name\":\"Range1d\",\"id\":\"p1303\",\"attributes\":{\"start\":-1}},\"y_range\":{\"type\":\"object\",\"name\":\"Range1d\",\"id\":\"p1305\",\"attributes\":{\"start\":-2.5,\"end\":2.5}},\"x_scale\":{\"type\":\"object\",\"name\":\"LinearScale\",\"id\":\"p1307\"},\"y_scale\":{\"type\":\"object\",\"name\":\"LinearScale\",\"id\":\"p1309\"},\"title\":{\"type\":\"object\",\"name\":\"Title\",\"id\":\"p1296\",\"attributes\":{\"text\":\"Simple line example\"}},\"renderers\":[{\"type\":\"object\",\"name\":\"GlyphRenderer\",\"id\":\"p1346\",\"attributes\":{\"data_source\":{\"type\":\"object\",\"name\":\"ColumnDataSource\",\"id\":\"p1340\",\"attributes\":{\"selected\":{\"type\":\"object\",\"name\":\"Selection\",\"id\":\"p1341\",\"attributes\":{\"indices\":[],\"line_indices\":[]}},\"selection_policy\":{\"type\":\"object\",\"name\":\"UnionRenderers\",\"id\":\"p1342\"},\"data\":{\"type\":\"map\",\"entries\":[[\"x\",{\"type\":\"ndarray\",\"array\":{\"type\":\"bytes\",\"data\":\"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\"},\"shape\":[201],\"dtype\":\"float64\",\"order\":\"little\"}],[\"y\",{\"type\":\"ndarray\",\"array\":{\"type\":\"bytes\",\"data\":\"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\"},\"shape\":[201],\"dtype\":\"float64\",\"order\":\"little\"}]]}}},\"view\":{\"type\":\"object\",\"name\":\"CDSView\",\"id\":\"p1347\",\"attributes\":{\"filter\":{\"type\":\"object\",\"name\":\"AllIndices\",\"id\":\"p1348\"}}},\"glyph\":{\"type\":\"object\",\"name\":\"Line\",\"id\":\"p1343\",\"attributes\":{\"x\":{\"type\":\"field\",\"field\":\"x\"},\"y\":{\"type\":\"field\",\"field\":\"y\"},\"line_color\":\"#1f77b4\",\"line_width\":2}},\"nonselection_glyph\":{\"type\":\"object\",\"name\":\"Line\",\"id\":\"p1344\",\"attributes\":{\"x\":{\"type\":\"field\",\"field\":\"x\"},\"y\":{\"type\":\"field\",\"field\":\"y\"},\"line_color\":\"#1f77b4\",\"line_alpha\":0.1,\"line_width\":2}},\"muted_glyph\":{\"type\":\"object\",\"name\":\"Line\",\"id\":\"p1345\",\"attributes\":{\"x\":{\"type\":\"field\",\"field\":\"x\"},\"y\":{\"type\":\"field\",\"field\":\"y\"},\"line_color\":\"#1f77b4\",\"line_alpha\":0.2,\"line_width\":2}}}}],\"toolbar\":{\"type\":\"object\",\"name\":\"Toolbar\",\"id\":\"p1299\",\"attributes\":{\"tools\":[{\"type\":\"object\",\"name\":\"PanTool\",\"id\":\"p1325\"},{\"type\":\"object\",\"name\":\"WheelZoomTool\",\"id\":\"p1326\"},{\"type\":\"object\",\"name\":\"BoxZoomTool\",\"id\":\"p1327\",\"attributes\":{\"overlay\":{\"type\":\"object\",\"name\":\"BoxAnnotation\",\"id\":\"p1328\",\"attributes\":{\"syncable\":false,\"level\":\"overlay\",\"visible\":false,\"left_units\":\"canvas\",\"right_units\":\"canvas\",\"bottom_units\":\"canvas\",\"top_units\":\"canvas\",\"line_color\":\"black\",\"line_alpha\":1.0,\"line_width\":2,\"line_dash\":[4,4],\"fill_color\":\"lightgrey\",\"fill_alpha\":0.5}}}},{\"type\":\"object\",\"name\":\"SaveTool\",\"id\":\"p1329\"},{\"type\":\"object\",\"name\":\"ResetTool\",\"id\":\"p1330\"},{\"type\":\"object\",\"name\":\"HelpTool\",\"id\":\"p1331\"}]}},\"left\":[{\"type\":\"object\",\"name\":\"LinearAxis\",\"id\":\"p1318\",\"attributes\":{\"ticker\":{\"type\":\"object\",\"name\":\"BasicTicker\",\"id\":\"p1320\",\"attributes\":{\"mantissas\":[1,2,5]}},\"formatter\":{\"type\":\"object\",\"name\":\"BasicTickFormatter\",\"id\":\"p1321\"},\"axis_label\":\"y\",\"major_label_policy\":{\"type\":\"object\",\"name\":\"AllLabels\",\"id\":\"p1319\"}}}],\"below\":[{\"type\":\"object\",\"name\":\"LinearAxis\",\"id\":\"p1311\",\"attributes\":{\"ticker\":{\"type\":\"object\",\"name\":\"BasicTicker\",\"id\":\"p1313\",\"attributes\":{\"mantissas\":[1,2,5]}},\"formatter\":{\"type\":\"object\",\"name\":\"BasicTickFormatter\",\"id\":\"p1314\"},\"axis_label\":\"x\",\"major_label_policy\":{\"type\":\"object\",\"name\":\"AllLabels\",\"id\":\"p1312\"}}}],\"center\":[{\"type\":\"object\",\"name\":\"Grid\",\"id\":\"p1317\",\"attributes\":{\"axis\":{\"id\":\"p1311\"}}},{\"type\":\"object\",\"name\":\"Grid\",\"id\":\"p1324\",\"attributes\":{\"dimension\":1,\"axis\":{\"id\":\"p1318\"}}}]}}],\"callbacks\":{\"type\":\"map\"}}};\n",
       "  const render_items = [{\"docid\":\"56d243ac-0060-4a56-9bdb-ccc5b5a54037\",\"roots\":{\"p1293\":\"c6745ec1-c2e5-41fe-8f29-57c31c394b80\"},\"root_ids\":[\"p1293\"]}];\n",
       "  root.Bokeh.embed.embed_items_notebook(docs_json, render_items);\n",
       "  }\n",
       "  if (root.Bokeh !== undefined) {\n",
       "    embed_document(root);\n",
       "  } else {\n",
       "    let attempts = 0;\n",
       "    const timer = setInterval(function(root) {\n",
       "      if (root.Bokeh !== undefined) {\n",
       "        clearInterval(timer);\n",
       "        embed_document(root);\n",
       "      } else {\n",
       "        attempts++;\n",
       "        if (attempts > 100) {\n",
       "          clearInterval(timer);\n",
       "          console.log(\"Bokeh: ERROR: Unable to run BokehJS code because BokehJS library is missing\");\n",
       "        }\n",
       "      }\n",
       "    }, 10, root)\n",
       "  }\n",
       "})(window);"
      ],
      "application/vnd.bokehjs_exec.v0+json": ""
     },
     "metadata": {
      "application/vnd.bokehjs_exec.v0+json": {
       "id": "p1293"
      }
     },
     "output_type": "display_data"
    },
    {
     "name": "stdout",
     "output_type": "stream",
     "text": [
      "fb(-1) -1.2000000000000002\n",
      "fa(-1) -2.0\n",
      "fc(-1) -3.1999999999999997\n"
     ]
    }
   ],
   "source": [
    "fb = np.polynomial.Chebyshev(\n",
    "    [-0.3, 1, 0.1, 0]\n",
    ")\n",
    "plot(fb)\n",
    "\n",
    "fa = np.polynomial.Chebyshev(\n",
    "    [0, 0, 0, 2]\n",
    ")\n",
    "plot(fa)\n",
    "\n",
    "\n",
    "plot(fb+fa)\n",
    "\n",
    "print('fb(-1)', fb(-1))\n",
    "print('fa(-1)', fa(-1))\n",
    "fc = fa+fb\n",
    "print('fc(-1)', fc(-1))"
   ]
  },
  {
   "cell_type": "code",
   "execution_count": 5,
   "id": "10cd5af6-fb54-41f2-9970-d9cbd9d4c9a4",
   "metadata": {
    "execution": {
     "iopub.execute_input": "2023-06-20T15:55:56.889392Z",
     "iopub.status.busy": "2023-06-20T15:55:56.889260Z",
     "iopub.status.idle": "2023-06-20T15:55:56.968284Z",
     "shell.execute_reply": "2023-06-20T15:55:56.967795Z",
     "shell.execute_reply.started": "2023-06-20T15:55:56.889379Z"
    },
    "tags": []
   },
   "outputs": [
    {
     "data": {
      "text/html": [
       "\n",
       "  <div id=\"66a50814-a231-4a71-87bc-420dd0d8e5e9\" data-root-id=\"p1458\" style=\"display: contents;\"></div>\n"
      ]
     },
     "metadata": {},
     "output_type": "display_data"
    },
    {
     "data": {
      "application/javascript": [
       "(function(root) {\n",
       "  function embed_document(root) {\n",
       "  const docs_json = {\"530553e0-236e-4dfe-b01a-4df432dcbfdc\":{\"version\":\"3.1.0\",\"title\":\"Bokeh Application\",\"defs\":[],\"roots\":[{\"type\":\"object\",\"name\":\"Figure\",\"id\":\"p1458\",\"attributes\":{\"x_range\":{\"type\":\"object\",\"name\":\"Range1d\",\"id\":\"p1468\",\"attributes\":{\"start\":-1}},\"y_range\":{\"type\":\"object\",\"name\":\"Range1d\",\"id\":\"p1470\",\"attributes\":{\"start\":-2.5,\"end\":2.5}},\"x_scale\":{\"type\":\"object\",\"name\":\"LinearScale\",\"id\":\"p1472\"},\"y_scale\":{\"type\":\"object\",\"name\":\"LinearScale\",\"id\":\"p1474\"},\"title\":{\"type\":\"object\",\"name\":\"Title\",\"id\":\"p1461\",\"attributes\":{\"text\":\"Simple line example\"}},\"renderers\":[{\"type\":\"object\",\"name\":\"GlyphRenderer\",\"id\":\"p1511\",\"attributes\":{\"data_source\":{\"type\":\"object\",\"name\":\"ColumnDataSource\",\"id\":\"p1505\",\"attributes\":{\"selected\":{\"type\":\"object\",\"name\":\"Selection\",\"id\":\"p1506\",\"attributes\":{\"indices\":[],\"line_indices\":[]}},\"selection_policy\":{\"type\":\"object\",\"name\":\"UnionRenderers\",\"id\":\"p1507\"},\"data\":{\"type\":\"map\",\"entries\":[[\"x\",{\"type\":\"ndarray\",\"array\":{\"type\":\"bytes\",\"data\":\"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\"},\"shape\":[201],\"dtype\":\"float64\",\"order\":\"little\"}],[\"y\",{\"type\":\"ndarray\",\"array\":{\"type\":\"bytes\",\"data\":\"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\"},\"shape\":[201],\"dtype\":\"float64\",\"order\":\"little\"}]]}}},\"view\":{\"type\":\"object\",\"name\":\"CDSView\",\"id\":\"p1512\",\"attributes\":{\"filter\":{\"type\":\"object\",\"name\":\"AllIndices\",\"id\":\"p1513\"}}},\"glyph\":{\"type\":\"object\",\"name\":\"Line\",\"id\":\"p1508\",\"attributes\":{\"x\":{\"type\":\"field\",\"field\":\"x\"},\"y\":{\"type\":\"field\",\"field\":\"y\"},\"line_color\":\"#1f77b4\",\"line_width\":2}},\"nonselection_glyph\":{\"type\":\"object\",\"name\":\"Line\",\"id\":\"p1509\",\"attributes\":{\"x\":{\"type\":\"field\",\"field\":\"x\"},\"y\":{\"type\":\"field\",\"field\":\"y\"},\"line_color\":\"#1f77b4\",\"line_alpha\":0.1,\"line_width\":2}},\"muted_glyph\":{\"type\":\"object\",\"name\":\"Line\",\"id\":\"p1510\",\"attributes\":{\"x\":{\"type\":\"field\",\"field\":\"x\"},\"y\":{\"type\":\"field\",\"field\":\"y\"},\"line_color\":\"#1f77b4\",\"line_alpha\":0.2,\"line_width\":2}}}}],\"toolbar\":{\"type\":\"object\",\"name\":\"Toolbar\",\"id\":\"p1464\",\"attributes\":{\"tools\":[{\"type\":\"object\",\"name\":\"PanTool\",\"id\":\"p1490\"},{\"type\":\"object\",\"name\":\"WheelZoomTool\",\"id\":\"p1491\"},{\"type\":\"object\",\"name\":\"BoxZoomTool\",\"id\":\"p1492\",\"attributes\":{\"overlay\":{\"type\":\"object\",\"name\":\"BoxAnnotation\",\"id\":\"p1493\",\"attributes\":{\"syncable\":false,\"level\":\"overlay\",\"visible\":false,\"left_units\":\"canvas\",\"right_units\":\"canvas\",\"bottom_units\":\"canvas\",\"top_units\":\"canvas\",\"line_color\":\"black\",\"line_alpha\":1.0,\"line_width\":2,\"line_dash\":[4,4],\"fill_color\":\"lightgrey\",\"fill_alpha\":0.5}}}},{\"type\":\"object\",\"name\":\"SaveTool\",\"id\":\"p1494\"},{\"type\":\"object\",\"name\":\"ResetTool\",\"id\":\"p1495\"},{\"type\":\"object\",\"name\":\"HelpTool\",\"id\":\"p1496\"}]}},\"left\":[{\"type\":\"object\",\"name\":\"LinearAxis\",\"id\":\"p1483\",\"attributes\":{\"ticker\":{\"type\":\"object\",\"name\":\"BasicTicker\",\"id\":\"p1485\",\"attributes\":{\"mantissas\":[1,2,5]}},\"formatter\":{\"type\":\"object\",\"name\":\"BasicTickFormatter\",\"id\":\"p1486\"},\"axis_label\":\"y\",\"major_label_policy\":{\"type\":\"object\",\"name\":\"AllLabels\",\"id\":\"p1484\"}}}],\"below\":[{\"type\":\"object\",\"name\":\"LinearAxis\",\"id\":\"p1476\",\"attributes\":{\"ticker\":{\"type\":\"object\",\"name\":\"BasicTicker\",\"id\":\"p1478\",\"attributes\":{\"mantissas\":[1,2,5]}},\"formatter\":{\"type\":\"object\",\"name\":\"BasicTickFormatter\",\"id\":\"p1479\"},\"axis_label\":\"x\",\"major_label_policy\":{\"type\":\"object\",\"name\":\"AllLabels\",\"id\":\"p1477\"}}}],\"center\":[{\"type\":\"object\",\"name\":\"Grid\",\"id\":\"p1482\",\"attributes\":{\"axis\":{\"id\":\"p1476\"}}},{\"type\":\"object\",\"name\":\"Grid\",\"id\":\"p1489\",\"attributes\":{\"dimension\":1,\"axis\":{\"id\":\"p1483\"}}}]}}],\"callbacks\":{\"type\":\"map\"}}};\n",
       "  const render_items = [{\"docid\":\"530553e0-236e-4dfe-b01a-4df432dcbfdc\",\"roots\":{\"p1458\":\"66a50814-a231-4a71-87bc-420dd0d8e5e9\"},\"root_ids\":[\"p1458\"]}];\n",
       "  root.Bokeh.embed.embed_items_notebook(docs_json, render_items);\n",
       "  }\n",
       "  if (root.Bokeh !== undefined) {\n",
       "    embed_document(root);\n",
       "  } else {\n",
       "    let attempts = 0;\n",
       "    const timer = setInterval(function(root) {\n",
       "      if (root.Bokeh !== undefined) {\n",
       "        clearInterval(timer);\n",
       "        embed_document(root);\n",
       "      } else {\n",
       "        attempts++;\n",
       "        if (attempts > 100) {\n",
       "          clearInterval(timer);\n",
       "          console.log(\"Bokeh: ERROR: Unable to run BokehJS code because BokehJS library is missing\");\n",
       "        }\n",
       "      }\n",
       "    }, 10, root)\n",
       "  }\n",
       "})(window);"
      ],
      "application/vnd.bokehjs_exec.v0+json": ""
     },
     "metadata": {
      "application/vnd.bokehjs_exec.v0+json": {
       "id": "p1458"
      }
     },
     "output_type": "display_data"
    },
    {
     "data": {
      "text/html": [
       "<div style=\"display: table;\"><div style=\"display: table-row;\"><div style=\"display: table-cell;\"><b title=\"bokeh.plotting._figure.figure\">figure</b>(</div><div style=\"display: table-cell;\">id&nbsp;=&nbsp;'p1458', <span id=\"p1637\" style=\"cursor: pointer;\">&hellip;)</span></div></div><div class=\"p1636\" style=\"display: none;\"><div style=\"display: table-cell;\"></div><div style=\"display: table-cell;\">above&nbsp;=&nbsp;[],</div></div><div class=\"p1636\" style=\"display: none;\"><div style=\"display: table-cell;\"></div><div style=\"display: table-cell;\">align&nbsp;=&nbsp;'auto',</div></div><div class=\"p1636\" style=\"display: none;\"><div style=\"display: table-cell;\"></div><div style=\"display: table-cell;\">aspect_ratio&nbsp;=&nbsp;None,</div></div><div class=\"p1636\" style=\"display: none;\"><div style=\"display: table-cell;\"></div><div style=\"display: table-cell;\">aspect_scale&nbsp;=&nbsp;1,</div></div><div class=\"p1636\" style=\"display: none;\"><div style=\"display: table-cell;\"></div><div style=\"display: table-cell;\">background_fill_alpha&nbsp;=&nbsp;1.0,</div></div><div class=\"p1636\" style=\"display: none;\"><div style=\"display: table-cell;\"></div><div style=\"display: table-cell;\">background_fill_color&nbsp;=&nbsp;'#ffffff',</div></div><div class=\"p1636\" style=\"display: none;\"><div style=\"display: table-cell;\"></div><div style=\"display: table-cell;\">below&nbsp;=&nbsp;[LinearAxis(id='p1476', ...)],</div></div><div class=\"p1636\" style=\"display: none;\"><div style=\"display: table-cell;\"></div><div style=\"display: table-cell;\">border_fill_alpha&nbsp;=&nbsp;1.0,</div></div><div class=\"p1636\" style=\"display: none;\"><div style=\"display: table-cell;\"></div><div style=\"display: table-cell;\">border_fill_color&nbsp;=&nbsp;'#ffffff',</div></div><div class=\"p1636\" style=\"display: none;\"><div style=\"display: table-cell;\"></div><div style=\"display: table-cell;\">center&nbsp;=&nbsp;[Grid(id='p1482', ...), Grid(id='p1489', ...)],</div></div><div class=\"p1636\" style=\"display: none;\"><div style=\"display: table-cell;\"></div><div style=\"display: table-cell;\">context_menu&nbsp;=&nbsp;None,</div></div><div class=\"p1636\" style=\"display: none;\"><div style=\"display: table-cell;\"></div><div style=\"display: table-cell;\">css_classes&nbsp;=&nbsp;[],</div></div><div class=\"p1636\" style=\"display: none;\"><div style=\"display: table-cell;\"></div><div style=\"display: table-cell;\">disabled&nbsp;=&nbsp;False,</div></div><div class=\"p1636\" style=\"display: none;\"><div style=\"display: table-cell;\"></div><div style=\"display: table-cell;\">extra_x_ranges&nbsp;=&nbsp;{},</div></div><div class=\"p1636\" style=\"display: none;\"><div style=\"display: table-cell;\"></div><div style=\"display: table-cell;\">extra_x_scales&nbsp;=&nbsp;{},</div></div><div class=\"p1636\" style=\"display: none;\"><div style=\"display: table-cell;\"></div><div style=\"display: table-cell;\">extra_y_ranges&nbsp;=&nbsp;{},</div></div><div class=\"p1636\" style=\"display: none;\"><div style=\"display: table-cell;\"></div><div style=\"display: table-cell;\">extra_y_scales&nbsp;=&nbsp;{},</div></div><div class=\"p1636\" style=\"display: none;\"><div style=\"display: table-cell;\"></div><div style=\"display: table-cell;\">flow_mode&nbsp;=&nbsp;'block',</div></div><div class=\"p1636\" style=\"display: none;\"><div style=\"display: table-cell;\"></div><div style=\"display: table-cell;\">frame_align&nbsp;=&nbsp;True,</div></div><div class=\"p1636\" style=\"display: none;\"><div style=\"display: table-cell;\"></div><div style=\"display: table-cell;\">frame_height&nbsp;=&nbsp;None,</div></div><div class=\"p1636\" style=\"display: none;\"><div style=\"display: table-cell;\"></div><div style=\"display: table-cell;\">frame_width&nbsp;=&nbsp;None,</div></div><div class=\"p1636\" style=\"display: none;\"><div style=\"display: table-cell;\"></div><div style=\"display: table-cell;\">height&nbsp;=&nbsp;600,</div></div><div class=\"p1636\" style=\"display: none;\"><div style=\"display: table-cell;\"></div><div style=\"display: table-cell;\">height_policy&nbsp;=&nbsp;'auto',</div></div><div class=\"p1636\" style=\"display: none;\"><div style=\"display: table-cell;\"></div><div style=\"display: table-cell;\">hidpi&nbsp;=&nbsp;True,</div></div><div class=\"p1636\" style=\"display: none;\"><div style=\"display: table-cell;\"></div><div style=\"display: table-cell;\">hold_render&nbsp;=&nbsp;False,</div></div><div class=\"p1636\" style=\"display: none;\"><div style=\"display: table-cell;\"></div><div style=\"display: table-cell;\">js_event_callbacks&nbsp;=&nbsp;{},</div></div><div class=\"p1636\" style=\"display: none;\"><div style=\"display: table-cell;\"></div><div style=\"display: table-cell;\">js_property_callbacks&nbsp;=&nbsp;{},</div></div><div class=\"p1636\" style=\"display: none;\"><div style=\"display: table-cell;\"></div><div style=\"display: table-cell;\">left&nbsp;=&nbsp;[LinearAxis(id='p1483', ...)],</div></div><div class=\"p1636\" style=\"display: none;\"><div style=\"display: table-cell;\"></div><div style=\"display: table-cell;\">lod_factor&nbsp;=&nbsp;10,</div></div><div class=\"p1636\" style=\"display: none;\"><div style=\"display: table-cell;\"></div><div style=\"display: table-cell;\">lod_interval&nbsp;=&nbsp;300,</div></div><div class=\"p1636\" style=\"display: none;\"><div style=\"display: table-cell;\"></div><div style=\"display: table-cell;\">lod_threshold&nbsp;=&nbsp;2000,</div></div><div class=\"p1636\" style=\"display: none;\"><div style=\"display: table-cell;\"></div><div style=\"display: table-cell;\">lod_timeout&nbsp;=&nbsp;500,</div></div><div class=\"p1636\" style=\"display: none;\"><div style=\"display: table-cell;\"></div><div style=\"display: table-cell;\">margin&nbsp;=&nbsp;None,</div></div><div class=\"p1636\" style=\"display: none;\"><div style=\"display: table-cell;\"></div><div style=\"display: table-cell;\">match_aspect&nbsp;=&nbsp;False,</div></div><div class=\"p1636\" style=\"display: none;\"><div style=\"display: table-cell;\"></div><div style=\"display: table-cell;\">max_height&nbsp;=&nbsp;None,</div></div><div class=\"p1636\" style=\"display: none;\"><div style=\"display: table-cell;\"></div><div style=\"display: table-cell;\">max_width&nbsp;=&nbsp;None,</div></div><div class=\"p1636\" style=\"display: none;\"><div style=\"display: table-cell;\"></div><div style=\"display: table-cell;\">min_border&nbsp;=&nbsp;5,</div></div><div class=\"p1636\" style=\"display: none;\"><div style=\"display: table-cell;\"></div><div style=\"display: table-cell;\">min_border_bottom&nbsp;=&nbsp;None,</div></div><div class=\"p1636\" style=\"display: none;\"><div style=\"display: table-cell;\"></div><div style=\"display: table-cell;\">min_border_left&nbsp;=&nbsp;None,</div></div><div class=\"p1636\" style=\"display: none;\"><div style=\"display: table-cell;\"></div><div style=\"display: table-cell;\">min_border_right&nbsp;=&nbsp;None,</div></div><div class=\"p1636\" style=\"display: none;\"><div style=\"display: table-cell;\"></div><div style=\"display: table-cell;\">min_border_top&nbsp;=&nbsp;None,</div></div><div class=\"p1636\" style=\"display: none;\"><div style=\"display: table-cell;\"></div><div style=\"display: table-cell;\">min_height&nbsp;=&nbsp;None,</div></div><div class=\"p1636\" style=\"display: none;\"><div style=\"display: table-cell;\"></div><div style=\"display: table-cell;\">min_width&nbsp;=&nbsp;None,</div></div><div class=\"p1636\" style=\"display: none;\"><div style=\"display: table-cell;\"></div><div style=\"display: table-cell;\">name&nbsp;=&nbsp;None,</div></div><div class=\"p1636\" style=\"display: none;\"><div style=\"display: table-cell;\"></div><div style=\"display: table-cell;\">outline_line_alpha&nbsp;=&nbsp;1.0,</div></div><div class=\"p1636\" style=\"display: none;\"><div style=\"display: table-cell;\"></div><div style=\"display: table-cell;\">outline_line_cap&nbsp;=&nbsp;'butt',</div></div><div class=\"p1636\" style=\"display: none;\"><div style=\"display: table-cell;\"></div><div style=\"display: table-cell;\">outline_line_color&nbsp;=&nbsp;'#e5e5e5',</div></div><div class=\"p1636\" style=\"display: none;\"><div style=\"display: table-cell;\"></div><div style=\"display: table-cell;\">outline_line_dash&nbsp;=&nbsp;[],</div></div><div class=\"p1636\" style=\"display: none;\"><div style=\"display: table-cell;\"></div><div style=\"display: table-cell;\">outline_line_dash_offset&nbsp;=&nbsp;0,</div></div><div class=\"p1636\" style=\"display: none;\"><div style=\"display: table-cell;\"></div><div style=\"display: table-cell;\">outline_line_join&nbsp;=&nbsp;'bevel',</div></div><div class=\"p1636\" style=\"display: none;\"><div style=\"display: table-cell;\"></div><div style=\"display: table-cell;\">outline_line_width&nbsp;=&nbsp;1,</div></div><div class=\"p1636\" style=\"display: none;\"><div style=\"display: table-cell;\"></div><div style=\"display: table-cell;\">output_backend&nbsp;=&nbsp;'canvas',</div></div><div class=\"p1636\" style=\"display: none;\"><div style=\"display: table-cell;\"></div><div style=\"display: table-cell;\">renderers&nbsp;=&nbsp;[GlyphRenderer(id='p1511', ...)],</div></div><div class=\"p1636\" style=\"display: none;\"><div style=\"display: table-cell;\"></div><div style=\"display: table-cell;\">reset_policy&nbsp;=&nbsp;'standard',</div></div><div class=\"p1636\" style=\"display: none;\"><div style=\"display: table-cell;\"></div><div style=\"display: table-cell;\">resizable&nbsp;=&nbsp;False,</div></div><div class=\"p1636\" style=\"display: none;\"><div style=\"display: table-cell;\"></div><div style=\"display: table-cell;\">right&nbsp;=&nbsp;[],</div></div><div class=\"p1636\" style=\"display: none;\"><div style=\"display: table-cell;\"></div><div style=\"display: table-cell;\">sizing_mode&nbsp;=&nbsp;None,</div></div><div class=\"p1636\" style=\"display: none;\"><div style=\"display: table-cell;\"></div><div style=\"display: table-cell;\">styles&nbsp;=&nbsp;{},</div></div><div class=\"p1636\" style=\"display: none;\"><div style=\"display: table-cell;\"></div><div style=\"display: table-cell;\">stylesheets&nbsp;=&nbsp;[],</div></div><div class=\"p1636\" style=\"display: none;\"><div style=\"display: table-cell;\"></div><div style=\"display: table-cell;\">subscribed_events&nbsp;=&nbsp;PropertyValueSet(),</div></div><div class=\"p1636\" style=\"display: none;\"><div style=\"display: table-cell;\"></div><div style=\"display: table-cell;\">syncable&nbsp;=&nbsp;True,</div></div><div class=\"p1636\" style=\"display: none;\"><div style=\"display: table-cell;\"></div><div style=\"display: table-cell;\">tags&nbsp;=&nbsp;[],</div></div><div class=\"p1636\" style=\"display: none;\"><div style=\"display: table-cell;\"></div><div style=\"display: table-cell;\">title&nbsp;=&nbsp;Title(id='p1461', ...),</div></div><div class=\"p1636\" style=\"display: none;\"><div style=\"display: table-cell;\"></div><div style=\"display: table-cell;\">title_location&nbsp;=&nbsp;'above',</div></div><div class=\"p1636\" style=\"display: none;\"><div style=\"display: table-cell;\"></div><div style=\"display: table-cell;\">toolbar&nbsp;=&nbsp;Toolbar(id='p1464', ...),</div></div><div class=\"p1636\" style=\"display: none;\"><div style=\"display: table-cell;\"></div><div style=\"display: table-cell;\">toolbar_inner&nbsp;=&nbsp;False,</div></div><div class=\"p1636\" style=\"display: none;\"><div style=\"display: table-cell;\"></div><div style=\"display: table-cell;\">toolbar_location&nbsp;=&nbsp;'right',</div></div><div class=\"p1636\" style=\"display: none;\"><div style=\"display: table-cell;\"></div><div style=\"display: table-cell;\">toolbar_sticky&nbsp;=&nbsp;True,</div></div><div class=\"p1636\" style=\"display: none;\"><div style=\"display: table-cell;\"></div><div style=\"display: table-cell;\">visible&nbsp;=&nbsp;True,</div></div><div class=\"p1636\" style=\"display: none;\"><div style=\"display: table-cell;\"></div><div style=\"display: table-cell;\">width&nbsp;=&nbsp;600,</div></div><div class=\"p1636\" style=\"display: none;\"><div style=\"display: table-cell;\"></div><div style=\"display: table-cell;\">width_policy&nbsp;=&nbsp;'auto',</div></div><div class=\"p1636\" style=\"display: none;\"><div style=\"display: table-cell;\"></div><div style=\"display: table-cell;\">x_range&nbsp;=&nbsp;Range1d(id='p1468', ...),</div></div><div class=\"p1636\" style=\"display: none;\"><div style=\"display: table-cell;\"></div><div style=\"display: table-cell;\">x_scale&nbsp;=&nbsp;LinearScale(id='p1472', ...),</div></div><div class=\"p1636\" style=\"display: none;\"><div style=\"display: table-cell;\"></div><div style=\"display: table-cell;\">y_range&nbsp;=&nbsp;Range1d(id='p1470', ...),</div></div><div class=\"p1636\" style=\"display: none;\"><div style=\"display: table-cell;\"></div><div style=\"display: table-cell;\">y_scale&nbsp;=&nbsp;LinearScale(id='p1474', ...))</div></div></div>\n",
       "<script>\n",
       "(function() {\n",
       "  let expanded = false;\n",
       "  const ellipsis = document.getElementById(\"p1637\");\n",
       "  ellipsis.addEventListener(\"click\", function() {\n",
       "    const rows = document.getElementsByClassName(\"p1636\");\n",
       "    for (let i = 0; i < rows.length; i++) {\n",
       "      const el = rows[i];\n",
       "      el.style.display = expanded ? \"none\" : \"table-row\";\n",
       "    }\n",
       "    ellipsis.innerHTML = expanded ? \"&hellip;)\" : \"&lsaquo;&lsaquo;&lsaquo;\";\n",
       "    expanded = !expanded;\n",
       "  });\n",
       "})();\n",
       "</script>\n"
      ],
      "text/plain": [
       "figure(id='p1458', ...)"
      ]
     },
     "execution_count": 5,
     "metadata": {},
     "output_type": "execute_result"
    }
   ],
   "source": [
    "myfunc = func_factory()\n",
    "plot(myfunc)"
   ]
  },
  {
   "cell_type": "raw",
   "id": "a3836c23-7221-4de6-bc5b-5811b1db9131",
   "metadata": {
    "execution": {
     "iopub.execute_input": "2023-05-29T14:06:22.680150Z",
     "iopub.status.busy": "2023-05-29T14:06:22.679567Z",
     "iopub.status.idle": "2023-05-29T14:06:23.287306Z",
     "shell.execute_reply": "2023-05-29T14:06:23.286125Z",
     "shell.execute_reply.started": "2023-05-29T14:06:22.680108Z"
    },
    "tags": []
   },
   "source": [
    "mf = np.polynomial.Polynomial(\n",
    "    [random.uniform(-1, 1) for _ in range(6)]\n",
    ")\n",
    "plot(mf)"
   ]
  },
  {
   "cell_type": "code",
   "execution_count": 6,
   "id": "eb024fda-19fc-4bba-857d-062c99355166",
   "metadata": {
    "execution": {
     "iopub.execute_input": "2023-06-20T15:55:56.968913Z",
     "iopub.status.busy": "2023-06-20T15:55:56.968777Z",
     "iopub.status.idle": "2023-06-20T15:55:56.971607Z",
     "shell.execute_reply": "2023-06-20T15:55:56.971227Z",
     "shell.execute_reply.started": "2023-06-20T15:55:56.968901Z"
    },
    "tags": []
   },
   "outputs": [],
   "source": [
    "def cos(x, terms):\n",
    "    terms = list(terms)\n",
    "    sum = 0\n",
    "    while terms:\n",
    "        const = terms.pop()\n",
    "        sum += const * np.cos(x)\n",
    "    return sum"
   ]
  },
  {
   "cell_type": "code",
   "execution_count": 7,
   "id": "a856c20b-218d-4436-b51e-ece1f7bf3538",
   "metadata": {
    "execution": {
     "iopub.execute_input": "2023-06-20T15:55:56.973636Z",
     "iopub.status.busy": "2023-06-20T15:55:56.973467Z",
     "iopub.status.idle": "2023-06-20T15:55:56.984935Z",
     "shell.execute_reply": "2023-06-20T15:55:56.984457Z",
     "shell.execute_reply.started": "2023-06-20T15:55:56.973623Z"
    },
    "tags": []
   },
   "outputs": [],
   "source": [
    "TERMS = 10\n",
    "T_MIN, T_MAX = (0, 9)\n",
    "\n",
    "def cos_series(x, *terms):\n",
    "    terms = list(terms)        \n",
    "    y = 0\n",
    "    freq_order = 1\n",
    "    while terms:\n",
    "        a, b, c = [0, 0, 0]\n",
    "        try:\n",
    "            a = terms.pop()\n",
    "            b = terms.pop()\n",
    "            c = terms.pop()\n",
    "        except IndexError:\n",
    "            pass\n",
    "        y += b*np.cos(freq_order*x/(c+0.0001)) + a\n",
    "        freq_order *= 2\n",
    "    return y\n",
    "\n",
    "true_terms = [np.round(random.uniform(T_MIN, T_MAX)) for _ in range(TERMS)]"
   ]
  },
  {
   "cell_type": "code",
   "execution_count": 8,
   "id": "a7dbfd84-d39c-4ed4-b911-88785e2d105e",
   "metadata": {
    "execution": {
     "iopub.execute_input": "2023-06-20T15:55:56.985610Z",
     "iopub.status.busy": "2023-06-20T15:55:56.985480Z",
     "iopub.status.idle": "2023-06-20T15:55:57.520626Z",
     "shell.execute_reply": "2023-06-20T15:55:57.520212Z",
     "shell.execute_reply.started": "2023-06-20T15:55:56.985598Z"
    },
    "tags": []
   },
   "outputs": [
    {
     "name": "stdout",
     "output_type": "stream",
     "text": [
      "[4.0, 6.0, 3.0, 8.0, 4.0, 3.0, 6.0, 8.0, 9.0, 7.0]\n",
      "[6.06897409 6.13711232 4.21683239 6.06896853 8.14138198 5.57960778\n",
      " 6.06897354 7.86232543 5.92766637 6.06897739]\n"
     ]
    },
    {
     "name": "stderr",
     "output_type": "stream",
     "text": [
      "/home/x/.cache/pypoetry/virtualenvs/multi-agent-system-LaaiSmjF-py3.11/lib/python3.11/site-packages/scipy/optimize/_minpack_py.py:906: OptimizeWarning: Covariance of the parameters could not be estimated\n",
      "  warnings.warn('Covariance of the parameters could not be estimated',\n"
     ]
    }
   ],
   "source": [
    "x = [random.uniform(0, 1) for _ in range(TERMS)]\n",
    "df = pd.DataFrame(x, columns=['x'])\n",
    "df['y'] = df['x'].apply(lambda x: cos_series(x, *true_terms))\n",
    "\n",
    "popt, pcov = optz.curve_fit(\n",
    "    cos_series,\n",
    "    df['x'],\n",
    "    df['y'],\n",
    "    p0=[1] * int(TERMS),\n",
    "    bounds=(T_MIN, T_MAX),\n",
    "    method='trf',\n",
    ")\n",
    "\n",
    "dff = pd.DataFrame(np.linspace(0, 1, 101), columns=['xa'])\n",
    "dff['f_guess'] = dff['xa'].apply(lambda x: cos_series(x, *popt))\n",
    "dff['f_true'] = dff['xa'].apply(lambda x: cos_series(x, *true_terms))\n",
    "\n",
    "\n",
    "print(true_terms)\n",
    "print(popt)"
   ]
  },
  {
   "cell_type": "code",
   "execution_count": 9,
   "id": "526d11ac-4133-4d7d-8a23-1ed0270d5c9c",
   "metadata": {
    "execution": {
     "iopub.execute_input": "2023-06-20T15:55:57.521259Z",
     "iopub.status.busy": "2023-06-20T15:55:57.521105Z",
     "iopub.status.idle": "2023-06-20T15:55:57.623492Z",
     "shell.execute_reply": "2023-06-20T15:55:57.623138Z",
     "shell.execute_reply.started": "2023-06-20T15:55:57.521247Z"
    },
    "tags": []
   },
   "outputs": [
    {
     "data": {
      "text/html": [
       "\n",
       "  <div id=\"270519e9-a33a-481d-b331-041c787ffe4a\" data-root-id=\"p1639\" style=\"display: contents;\"></div>\n"
      ]
     },
     "metadata": {},
     "output_type": "display_data"
    },
    {
     "data": {
      "application/javascript": [
       "(function(root) {\n",
       "  function embed_document(root) {\n",
       "  const docs_json = {\"ec373576-f246-4ca1-842d-2cd32c8bbd82\":{\"version\":\"3.1.0\",\"title\":\"Bokeh Application\",\"defs\":[],\"roots\":[{\"type\":\"object\",\"name\":\"Figure\",\"id\":\"p1639\",\"attributes\":{\"x_range\":{\"type\":\"object\",\"name\":\"DataRange1d\",\"id\":\"p1640\"},\"y_range\":{\"type\":\"object\",\"name\":\"DataRange1d\",\"id\":\"p1641\"},\"x_scale\":{\"type\":\"object\",\"name\":\"LinearScale\",\"id\":\"p1653\"},\"y_scale\":{\"type\":\"object\",\"name\":\"LinearScale\",\"id\":\"p1655\"},\"title\":{\"type\":\"object\",\"name\":\"Title\",\"id\":\"p1642\",\"attributes\":{\"text\":\"DCT fit example\"}},\"renderers\":[{\"type\":\"object\",\"name\":\"GlyphRenderer\",\"id\":\"p1692\",\"attributes\":{\"data_source\":{\"type\":\"object\",\"name\":\"ColumnDataSource\",\"id\":\"p1686\",\"attributes\":{\"selected\":{\"type\":\"object\",\"name\":\"Selection\",\"id\":\"p1687\",\"attributes\":{\"indices\":[],\"line_indices\":[]}},\"selection_policy\":{\"type\":\"object\",\"name\":\"UnionRenderers\",\"id\":\"p1688\"},\"data\":{\"type\":\"map\",\"entries\":[[\"x\",{\"type\":\"ndarray\",\"array\":{\"type\":\"bytes\",\"data\":\"oM2bGrRRqT+gDIH8qVemP6xJOr+668s/+xzHUyPk4D9Tai8EyUXvP4hpvHp+ibI/5MmdtHq03T8E/6BjZUzQPwAOMxeo8pA/uAXh1foZ1D8=\"},\"shape\":[10],\"dtype\":\"float64\",\"order\":\"little\"}],[\"y\",{\"type\":\"ndarray\",\"array\":{\"type\":\"bytes\",\"data\":\"A4x556b/Q0CwYgafuv9DQFD+R788+UNAylY3qqrYQ0DQCleo03tDQPTkTvxA/0NAmjmqKIjhQ0AwnqaAyfZDQB+w9gT2/0NApJlh+//xQ0A=\"},\"shape\":[10],\"dtype\":\"float64\",\"order\":\"little\"}]]}}},\"view\":{\"type\":\"object\",\"name\":\"CDSView\",\"id\":\"p1693\",\"attributes\":{\"filter\":{\"type\":\"object\",\"name\":\"AllIndices\",\"id\":\"p1694\"}}},\"glyph\":{\"type\":\"object\",\"name\":\"Circle\",\"id\":\"p1689\",\"attributes\":{\"x\":{\"type\":\"field\",\"field\":\"x\"},\"y\":{\"type\":\"field\",\"field\":\"y\"},\"size\":{\"type\":\"value\",\"value\":20},\"line_color\":{\"type\":\"value\",\"value\":\"#1f77b4\"},\"line_alpha\":{\"type\":\"value\",\"value\":0.5},\"fill_color\":{\"type\":\"value\",\"value\":\"#1f77b4\"},\"fill_alpha\":{\"type\":\"value\",\"value\":0.5},\"hatch_alpha\":{\"type\":\"value\",\"value\":0.5}}},\"nonselection_glyph\":{\"type\":\"object\",\"name\":\"Circle\",\"id\":\"p1690\",\"attributes\":{\"x\":{\"type\":\"field\",\"field\":\"x\"},\"y\":{\"type\":\"field\",\"field\":\"y\"},\"size\":{\"type\":\"value\",\"value\":20},\"line_color\":{\"type\":\"value\",\"value\":\"#1f77b4\"},\"line_alpha\":{\"type\":\"value\",\"value\":0.1},\"fill_color\":{\"type\":\"value\",\"value\":\"#1f77b4\"},\"fill_alpha\":{\"type\":\"value\",\"value\":0.1},\"hatch_alpha\":{\"type\":\"value\",\"value\":0.1}}},\"muted_glyph\":{\"type\":\"object\",\"name\":\"Circle\",\"id\":\"p1691\",\"attributes\":{\"x\":{\"type\":\"field\",\"field\":\"x\"},\"y\":{\"type\":\"field\",\"field\":\"y\"},\"size\":{\"type\":\"value\",\"value\":20},\"line_color\":{\"type\":\"value\",\"value\":\"#1f77b4\"},\"line_alpha\":{\"type\":\"value\",\"value\":0.2},\"fill_color\":{\"type\":\"value\",\"value\":\"#1f77b4\"},\"fill_alpha\":{\"type\":\"value\",\"value\":0.2},\"hatch_alpha\":{\"type\":\"value\",\"value\":0.2}}}}},{\"type\":\"object\",\"name\":\"GlyphRenderer\",\"id\":\"p1701\",\"attributes\":{\"data_source\":{\"type\":\"object\",\"name\":\"ColumnDataSource\",\"id\":\"p1695\",\"attributes\":{\"selected\":{\"type\":\"object\",\"name\":\"Selection\",\"id\":\"p1696\",\"attributes\":{\"indices\":[],\"line_indices\":[]}},\"selection_policy\":{\"type\":\"object\",\"name\":\"UnionRenderers\",\"id\":\"p1697\"},\"data\":{\"type\":\"map\",\"entries\":[[\"x\",{\"type\":\"ndarray\",\"array\":{\"type\":\"bytes\",\"data\":\"AAAAAAAAAAB7FK5H4XqEP3sUrkfhepQ/uB6F61G4nj97FK5H4XqkP5qZmZmZmak/uB6F61G4rj/sUbgeheuxP3sUrkfherQ/CtejcD0Ktz+amZmZmZm5Pylcj8L1KLw/uB6F61G4vj+kcD0K16PAP+xRuB6F68E/MzMzMzMzwz97FK5H4XrEP8P1KFyPwsU/CtejcD0Kxz9SuB6F61HIP5qZmZmZmck/4XoUrkfhyj8pXI/C9SjMP3E9CtejcM0/uB6F61G4zj8AAAAAAADQP6RwPQrXo9A/SOF6FK5H0T/sUbgehevRP4/C9Shcj9I/MzMzMzMz0z/Xo3A9CtfTP3sUrkfhetQ/H4XrUbge1T/D9Shcj8LVP2dmZmZmZtY/CtejcD0K1z+uR+F6FK7XP1K4HoXrUdg/9ihcj8L12D+amZmZmZnZPz4K16NwPdo/4XoUrkfh2j+F61G4HoXbPylcj8L1KNw/zczMzMzM3D9xPQrXo3DdPxWuR+F6FN4/uB6F61G43j9cj8L1KFzfPwAAAAAAAOA/UrgehetR4D+kcD0K16PgP/YoXI/C9eA/SOF6FK5H4T+amZmZmZnhP+xRuB6F6+E/PgrXo3A94j+PwvUoXI/iP+F6FK5H4eI/MzMzMzMz4z+F61G4HoXjP9ejcD0K1+M/KVyPwvUo5D97FK5H4XrkP83MzMzMzOQ/H4XrUbge5T9xPQrXo3DlP8P1KFyPwuU/Fa5H4XoU5j9nZmZmZmbmP7gehetRuOY/CtejcD0K5z9cj8L1KFznP65H4XoUruc/AAAAAAAA6D9SuB6F61HoP6RwPQrXo+g/9ihcj8L16D9I4XoUrkfpP5qZmZmZmek/7FG4HoXr6T8+CtejcD3qP5DC9Shcj+o/4XoUrkfh6j8zMzMzMzPrP4XrUbgehes/16NwPQrX6z8pXI/C9SjsP3sUrkfheuw/zczMzMzM7D8fhetRuB7tP3E9CtejcO0/w/UoXI/C7T8VrkfhehTuP2dmZmZmZu4/uB6F61G47j8K16NwPQrvP1yPwvUoXO8/rkfhehSu7z8AAAAAAADwPw==\"},\"shape\":[101],\"dtype\":\"float64\",\"order\":\"little\"}],[\"y\",{\"type\":\"ndarray\",\"array\":{\"type\":\"bytes\",\"data\":\"AgGqAAAAREDjKudb/P9DQDoQp23x/0NAGugCNt//Q0CjuCS1xf9DQJpWR+uk/0NAxWS22Hz/Q0AdU859Tf9DQNVd/NoW/0NALoy+8Nj+Q0Amr6O/k/5DQO9fS0hH/kNAQP5li/P9Q0ByrrSJmP1DQHtXCUQ2/UNArKBGu8z8Q0BP71/wW/xDQA1kWeTj+0NALthHmGT7Q0Cr2lAN3vpDQAqtqkRQ+kNAHECcP7v5Q0B8MH3/HvlDQPDCtYV7+ENAluC+09D3Q0DeEiLrHvdDQGR/ec1l9kNAlONvfKX1Q0AhkMD53fRDQFFkN0cP9ENAHsmwZjnzQ0AlrBlaXPJDQHB6byN48UNABxvAxIzwQ0Bj6SlAmu9DQKev25eg7kNAtqAUzp/tQ0AXUiTll+xDQK21at+I60NASRNYv3LqQ0ACAm2HVelDQHNhOjox6ENAuFJh2gXnQ0BWMZNq0+VDQOCLke2Z5ENAfhwuZlnjQ0BMwUrXEeJDQHp02UPD4ENAV0Tcrm3fQ0AeS2UbEd5DQKSmloyt3ENA1m+iBUPbQ0AGssqJ0dlDQBhiYRxZ2ENAe1XIwNnWQ0D5OHF6U9VDQGGH3UzG00NA/n+eOzLSQ0DmHFVKl9BDQCYJsnz1zkNAuJZ11kzNQ0BRtG9bnctDQA/jfw/nyUNA7iuV9inIQ0AeFa4UZsZDQCiX2G2bxENA7xEyBsrCQ0B/Qefh8cBDQL8yNAUTv0NA6zdkdC29Q0Dw3NEzQbtDQJjb5kdOuUNAkQ8ctVS3Q0BIavl/VLVDQJ3mFa1Ns0NAbXwXQUCxQ0DyE7NALK9DQAR5rLARrUNAHk7WlfCqQ0BV/xH1yKhDQAy1T9OapkNAlEaONWakQ0CeLNsgK6JDQIJzUprpn0NAX60ep6GdQ0Aa5HhMU5tDQDGLqI/+mENAZnEDdqOWQ0BHsu0EQpRDQIin2UHakUNAQdpHMmyPQ0AA9Mbb94xDQLCv80N9ikNAZsp4cPyHQ0D58w5ndYVDQIK/fC3ogkNArpOWyVSAQ0Dwmj5Bu31DQIizZJobe0NAal8G23V4Q0D+sy4JynVDQA==\"},\"shape\":[101],\"dtype\":\"float64\",\"order\":\"little\"}]]}}},\"view\":{\"type\":\"object\",\"name\":\"CDSView\",\"id\":\"p1702\",\"attributes\":{\"filter\":{\"type\":\"object\",\"name\":\"AllIndices\",\"id\":\"p1703\"}}},\"glyph\":{\"type\":\"object\",\"name\":\"Line\",\"id\":\"p1698\",\"attributes\":{\"x\":{\"type\":\"field\",\"field\":\"x\"},\"y\":{\"type\":\"field\",\"field\":\"y\"},\"line_color\":\"blue\",\"line_alpha\":0.2,\"line_width\":10}},\"nonselection_glyph\":{\"type\":\"object\",\"name\":\"Line\",\"id\":\"p1699\",\"attributes\":{\"x\":{\"type\":\"field\",\"field\":\"x\"},\"y\":{\"type\":\"field\",\"field\":\"y\"},\"line_color\":\"blue\",\"line_alpha\":0.1,\"line_width\":10}},\"muted_glyph\":{\"type\":\"object\",\"name\":\"Line\",\"id\":\"p1700\",\"attributes\":{\"x\":{\"type\":\"field\",\"field\":\"x\"},\"y\":{\"type\":\"field\",\"field\":\"y\"},\"line_color\":\"blue\",\"line_alpha\":0.2,\"line_width\":10}}}},{\"type\":\"object\",\"name\":\"GlyphRenderer\",\"id\":\"p1710\",\"attributes\":{\"data_source\":{\"type\":\"object\",\"name\":\"ColumnDataSource\",\"id\":\"p1704\",\"attributes\":{\"selected\":{\"type\":\"object\",\"name\":\"Selection\",\"id\":\"p1705\",\"attributes\":{\"indices\":[],\"line_indices\":[]}},\"selection_policy\":{\"type\":\"object\",\"name\":\"UnionRenderers\",\"id\":\"p1706\"},\"data\":{\"type\":\"map\",\"entries\":[[\"x\",{\"type\":\"ndarray\",\"array\":{\"type\":\"bytes\",\"data\":\"AAAAAAAAAAB7FK5H4XqEP3sUrkfhepQ/uB6F61G4nj97FK5H4XqkP5qZmZmZmak/uB6F61G4rj/sUbgeheuxP3sUrkfherQ/CtejcD0Ktz+amZmZmZm5Pylcj8L1KLw/uB6F61G4vj+kcD0K16PAP+xRuB6F68E/MzMzMzMzwz97FK5H4XrEP8P1KFyPwsU/CtejcD0Kxz9SuB6F61HIP5qZmZmZmck/4XoUrkfhyj8pXI/C9SjMP3E9CtejcM0/uB6F61G4zj8AAAAAAADQP6RwPQrXo9A/SOF6FK5H0T/sUbgehevRP4/C9Shcj9I/MzMzMzMz0z/Xo3A9CtfTP3sUrkfhetQ/H4XrUbge1T/D9Shcj8LVP2dmZmZmZtY/CtejcD0K1z+uR+F6FK7XP1K4HoXrUdg/9ihcj8L12D+amZmZmZnZPz4K16NwPdo/4XoUrkfh2j+F61G4HoXbPylcj8L1KNw/zczMzMzM3D9xPQrXo3DdPxWuR+F6FN4/uB6F61G43j9cj8L1KFzfPwAAAAAAAOA/UrgehetR4D+kcD0K16PgP/YoXI/C9eA/SOF6FK5H4T+amZmZmZnhP+xRuB6F6+E/PgrXo3A94j+PwvUoXI/iP+F6FK5H4eI/MzMzMzMz4z+F61G4HoXjP9ejcD0K1+M/KVyPwvUo5D97FK5H4XrkP83MzMzMzOQ/H4XrUbge5T9xPQrXo3DlP8P1KFyPwuU/Fa5H4XoU5j9nZmZmZmbmP7gehetRuOY/CtejcD0K5z9cj8L1KFznP65H4XoUruc/AAAAAAAA6D9SuB6F61HoP6RwPQrXo+g/9ihcj8L16D9I4XoUrkfpP5qZmZmZmek/7FG4HoXr6T8+CtejcD3qP5DC9Shcj+o/4XoUrkfh6j8zMzMzMzPrP4XrUbgehes/16NwPQrX6z8pXI/C9SjsP3sUrkfheuw/zczMzMzM7D8fhetRuB7tP3E9CtejcO0/w/UoXI/C7T8VrkfhehTuP2dmZmZmZu4/uB6F61G47j8K16NwPQrvP1yPwvUoXO8/rkfhehSu7z8AAAAAAADwPw==\"},\"shape\":[101],\"dtype\":\"float64\",\"order\":\"little\"}],[\"y\",{\"type\":\"ndarray\",\"array\":{\"type\":\"bytes\",\"data\":\"AAAAAAAAREAKKz5b/P9DQFQSAW3x/0NARuhhNd//Q0BMq4q0xf9DQF4ltuqk/0NAcOsv2Hz/Q0CoXFR9Tf9DQHGhkNoW/0NAXKpi8Nj+Q0DfLlm/k/5DQNmrE0hH/kNA+mFCi/P9Q0D4U6aJmP1DQJpEEUQ2/UNAkLRlu8z8Q0Ax4JbwW/xDQPq8qOTj+0NA7/avmGT7Q0DK7dEN3vpDQAOyREVQ+kNApgFPQLv5Q0AERUgAH/lDQDeLmIZ7+ENAfIa41ND3Q0BciDHsHvdDQK59nc5l9kNAcOqmfaX1Q0B05Qj73fRDQN4Tj0gP9ENAeKQVaDnzQ0DfSolbXPJDQIQ65yR48UNAeiE9xozwQ0AtI6lBmu9DQNPSWZmg7kNAyC2Oz5/tQ0C5lZXml+xDQJ7Kz+CI60NAl+SswHLqQ0CMTa2IVelDQLW6YTsx6ENA8iVr2wXnQ0Dsxnpr0+VDQB4MUu6Z5ENAr5PCZlnjQ0AZJK7XEeJDQK6kBkTD4ENA8xXOrm3fQ0DSiRYbEd5DQJwbAoyt3ENA5ufCBEPbQ0BABJuI0dlDQLp23BpZ2ENASC3pvtnWQ0D49DJ4U9VDQP5wO0rG00NAmRGUODLSQ0DWCt5Gl9BDQBhLynj1zkNAiXEZ0kzNQ0BexJtWnctDQOkmMQrnyUNAjw/J8CnIQ0CPfWIOZsZDQKHuC2ebxENAcFTj/snCQ0DrCRba8cBDQGbI4PwSv0NAppyPay29Q0Cu230qQbtDQHgXFj5OuUNAfBPSqlS3Q0ASuTp1VLVDQK8L6KFNs0NA9hyBNUCxQ0CqALw0LK9DQHDAXaQRrUNAcU86ifCqQ0DTfTToyKhDQA3sPcaapkNAEP5WKGakQ0BRzo4TK6JDQKkgA43pn0NADlXgmaGdQ0ArWmE/U5tDQMmfz4L+mENAIQmDaaOWQ0D63uH4QZRDQK/BYDbakUNAAJuCJ2yPQ0DSj9jR94xDQLnxATt9ikNAaDCsaPyHQ0D3ypJgdYVDQAdBfyjogkNAxANJxlSAQ0C+ZtU/u31DQKKQF5sbe0NA0WsQ3nV4Q0DMls4OynVDQA==\"},\"shape\":[101],\"dtype\":\"float64\",\"order\":\"little\"}]]}}},\"view\":{\"type\":\"object\",\"name\":\"CDSView\",\"id\":\"p1711\",\"attributes\":{\"filter\":{\"type\":\"object\",\"name\":\"AllIndices\",\"id\":\"p1712\"}}},\"glyph\":{\"type\":\"object\",\"name\":\"Line\",\"id\":\"p1707\",\"attributes\":{\"x\":{\"type\":\"field\",\"field\":\"x\"},\"y\":{\"type\":\"field\",\"field\":\"y\"},\"line_color\":\"red\"}},\"nonselection_glyph\":{\"type\":\"object\",\"name\":\"Line\",\"id\":\"p1708\",\"attributes\":{\"x\":{\"type\":\"field\",\"field\":\"x\"},\"y\":{\"type\":\"field\",\"field\":\"y\"},\"line_color\":\"red\",\"line_alpha\":0.1}},\"muted_glyph\":{\"type\":\"object\",\"name\":\"Line\",\"id\":\"p1709\",\"attributes\":{\"x\":{\"type\":\"field\",\"field\":\"x\"},\"y\":{\"type\":\"field\",\"field\":\"y\"},\"line_color\":\"red\",\"line_alpha\":0.2}}}}],\"toolbar\":{\"type\":\"object\",\"name\":\"Toolbar\",\"id\":\"p1645\",\"attributes\":{\"tools\":[{\"type\":\"object\",\"name\":\"PanTool\",\"id\":\"p1671\"},{\"type\":\"object\",\"name\":\"WheelZoomTool\",\"id\":\"p1672\"},{\"type\":\"object\",\"name\":\"BoxZoomTool\",\"id\":\"p1673\",\"attributes\":{\"overlay\":{\"type\":\"object\",\"name\":\"BoxAnnotation\",\"id\":\"p1674\",\"attributes\":{\"syncable\":false,\"level\":\"overlay\",\"visible\":false,\"left_units\":\"canvas\",\"right_units\":\"canvas\",\"bottom_units\":\"canvas\",\"top_units\":\"canvas\",\"line_color\":\"black\",\"line_alpha\":1.0,\"line_width\":2,\"line_dash\":[4,4],\"fill_color\":\"lightgrey\",\"fill_alpha\":0.5}}}},{\"type\":\"object\",\"name\":\"SaveTool\",\"id\":\"p1675\"},{\"type\":\"object\",\"name\":\"ResetTool\",\"id\":\"p1676\"},{\"type\":\"object\",\"name\":\"HelpTool\",\"id\":\"p1677\"}]}},\"left\":[{\"type\":\"object\",\"name\":\"LinearAxis\",\"id\":\"p1664\",\"attributes\":{\"ticker\":{\"type\":\"object\",\"name\":\"BasicTicker\",\"id\":\"p1666\",\"attributes\":{\"mantissas\":[1,2,5]}},\"formatter\":{\"type\":\"object\",\"name\":\"BasicTickFormatter\",\"id\":\"p1667\"},\"axis_label\":\"y\",\"major_label_policy\":{\"type\":\"object\",\"name\":\"AllLabels\",\"id\":\"p1665\"}}}],\"below\":[{\"type\":\"object\",\"name\":\"LinearAxis\",\"id\":\"p1657\",\"attributes\":{\"ticker\":{\"type\":\"object\",\"name\":\"BasicTicker\",\"id\":\"p1659\",\"attributes\":{\"mantissas\":[1,2,5]}},\"formatter\":{\"type\":\"object\",\"name\":\"BasicTickFormatter\",\"id\":\"p1660\"},\"axis_label\":\"x\",\"major_label_policy\":{\"type\":\"object\",\"name\":\"AllLabels\",\"id\":\"p1658\"}}}],\"center\":[{\"type\":\"object\",\"name\":\"Grid\",\"id\":\"p1663\",\"attributes\":{\"axis\":{\"id\":\"p1657\"}}},{\"type\":\"object\",\"name\":\"Grid\",\"id\":\"p1670\",\"attributes\":{\"dimension\":1,\"axis\":{\"id\":\"p1664\"}}}]}}],\"callbacks\":{\"type\":\"map\"}}};\n",
       "  const render_items = [{\"docid\":\"ec373576-f246-4ca1-842d-2cd32c8bbd82\",\"roots\":{\"p1639\":\"270519e9-a33a-481d-b331-041c787ffe4a\"},\"root_ids\":[\"p1639\"]}];\n",
       "  root.Bokeh.embed.embed_items_notebook(docs_json, render_items);\n",
       "  }\n",
       "  if (root.Bokeh !== undefined) {\n",
       "    embed_document(root);\n",
       "  } else {\n",
       "    let attempts = 0;\n",
       "    const timer = setInterval(function(root) {\n",
       "      if (root.Bokeh !== undefined) {\n",
       "        clearInterval(timer);\n",
       "        embed_document(root);\n",
       "      } else {\n",
       "        attempts++;\n",
       "        if (attempts > 100) {\n",
       "          clearInterval(timer);\n",
       "          console.log(\"Bokeh: ERROR: Unable to run BokehJS code because BokehJS library is missing\");\n",
       "        }\n",
       "      }\n",
       "    }, 10, root)\n",
       "  }\n",
       "})(window);"
      ],
      "application/vnd.bokehjs_exec.v0+json": ""
     },
     "metadata": {
      "application/vnd.bokehjs_exec.v0+json": {
       "id": "p1639"
      }
     },
     "output_type": "display_data"
    }
   ],
   "source": [
    "p = plt.figure(title=\"DCT fit example\", x_axis_label='x', y_axis_label='y')\n",
    "p.circle(df['x'], df['y'], alpha=0.5, size=20)\n",
    "p.line(dff['xa'], dff['f_guess'], color='blue', width=10, alpha=0.2)\n",
    "p.line(dff['xa'], dff['f_true'], color='red')\n",
    "\n",
    "plt.show(p)"
   ]
  },
  {
   "cell_type": "code",
   "execution_count": 10,
   "id": "7d06f886-6eb5-4a2f-912e-6abaca29d4f4",
   "metadata": {
    "execution": {
     "iopub.execute_input": "2023-06-20T15:55:57.624121Z",
     "iopub.status.busy": "2023-06-20T15:55:57.623951Z",
     "iopub.status.idle": "2023-06-20T15:55:57.757869Z",
     "shell.execute_reply": "2023-06-20T15:55:57.757398Z",
     "shell.execute_reply.started": "2023-06-20T15:55:57.624110Z"
    },
    "tags": []
   },
   "outputs": [
    {
     "name": "stderr",
     "output_type": "stream",
     "text": [
      "/home/x/.cache/pypoetry/virtualenvs/multi-agent-system-LaaiSmjF-py3.11/lib/python3.11/site-packages/numpy/polynomial/chebyshev.py:1671: RankWarning: The fit may be poorly conditioned\n",
      "  return pu._fit(chebvander, x, y, deg, rcond, full, w)\n"
     ]
    },
    {
     "name": "stdout",
     "output_type": "stream",
     "text": [
      "[-0.40382124 -0.49514661 -1.1193348   0.18562829  0.91207316  0.19644496\n",
      "  1.03686865 -1.63601915 -0.61739577 -0.92447579]\n"
     ]
    },
    {
     "data": {
      "text/html": [
       "\n",
       "  <div id=\"0783480b-e5c1-4807-ace4-34fb162af2bb\" data-root-id=\"p1915\" style=\"display: contents;\"></div>\n"
      ]
     },
     "metadata": {},
     "output_type": "display_data"
    },
    {
     "data": {
      "application/javascript": [
       "(function(root) {\n",
       "  function embed_document(root) {\n",
       "  const docs_json = {\"23970510-9e01-4092-979f-69a1d5ffe561\":{\"version\":\"3.1.0\",\"title\":\"Bokeh Application\",\"defs\":[],\"roots\":[{\"type\":\"object\",\"name\":\"Figure\",\"id\":\"p1915\",\"attributes\":{\"x_range\":{\"type\":\"object\",\"name\":\"DataRange1d\",\"id\":\"p1916\"},\"y_range\":{\"type\":\"object\",\"name\":\"DataRange1d\",\"id\":\"p1917\"},\"x_scale\":{\"type\":\"object\",\"name\":\"LinearScale\",\"id\":\"p1929\"},\"y_scale\":{\"type\":\"object\",\"name\":\"LinearScale\",\"id\":\"p1931\"},\"title\":{\"type\":\"object\",\"name\":\"Title\",\"id\":\"p1918\",\"attributes\":{\"text\":\"Cheb fit example\"}},\"renderers\":[{\"type\":\"object\",\"name\":\"GlyphRenderer\",\"id\":\"p1968\",\"attributes\":{\"data_source\":{\"type\":\"object\",\"name\":\"ColumnDataSource\",\"id\":\"p1962\",\"attributes\":{\"selected\":{\"type\":\"object\",\"name\":\"Selection\",\"id\":\"p1963\",\"attributes\":{\"indices\":[],\"line_indices\":[]}},\"selection_policy\":{\"type\":\"object\",\"name\":\"UnionRenderers\",\"id\":\"p1964\"},\"data\":{\"type\":\"map\",\"entries\":[[\"x\",[-0.7485151701255273,0.9236896805518394,-0.29718461244377,-0.477237659083645,-0.6248852777950297,0.1842419468344343,0.057297303531200605,-0.012950371743900485,-0.06591622588594917,0.5259901453413967]],[\"y\",[-0.2458771770150847,0.5880722499277428,0.8703917925163632,1.008142590282386,1.3526453045173146,1.2722358413386374,0.7308524113677768,-0.27888264914786465,-0.3574502688649015,0.1662239399263441]]]}}},\"view\":{\"type\":\"object\",\"name\":\"CDSView\",\"id\":\"p1969\",\"attributes\":{\"filter\":{\"type\":\"object\",\"name\":\"AllIndices\",\"id\":\"p1970\"}}},\"glyph\":{\"type\":\"object\",\"name\":\"Scatter\",\"id\":\"p1965\",\"attributes\":{\"x\":{\"type\":\"field\",\"field\":\"x\"},\"y\":{\"type\":\"field\",\"field\":\"y\"},\"line_color\":{\"type\":\"value\",\"value\":\"#1f77b4\"},\"fill_color\":{\"type\":\"value\",\"value\":\"#1f77b4\"}}},\"nonselection_glyph\":{\"type\":\"object\",\"name\":\"Scatter\",\"id\":\"p1966\",\"attributes\":{\"x\":{\"type\":\"field\",\"field\":\"x\"},\"y\":{\"type\":\"field\",\"field\":\"y\"},\"line_color\":{\"type\":\"value\",\"value\":\"#1f77b4\"},\"line_alpha\":{\"type\":\"value\",\"value\":0.1},\"fill_color\":{\"type\":\"value\",\"value\":\"#1f77b4\"},\"fill_alpha\":{\"type\":\"value\",\"value\":0.1},\"hatch_alpha\":{\"type\":\"value\",\"value\":0.1}}},\"muted_glyph\":{\"type\":\"object\",\"name\":\"Scatter\",\"id\":\"p1967\",\"attributes\":{\"x\":{\"type\":\"field\",\"field\":\"x\"},\"y\":{\"type\":\"field\",\"field\":\"y\"},\"line_color\":{\"type\":\"value\",\"value\":\"#1f77b4\"},\"line_alpha\":{\"type\":\"value\",\"value\":0.2},\"fill_color\":{\"type\":\"value\",\"value\":\"#1f77b4\"},\"fill_alpha\":{\"type\":\"value\",\"value\":0.2},\"hatch_alpha\":{\"type\":\"value\",\"value\":0.2}}}}},{\"type\":\"object\",\"name\":\"GlyphRenderer\",\"id\":\"p1977\",\"attributes\":{\"data_source\":{\"type\":\"object\",\"name\":\"ColumnDataSource\",\"id\":\"p1971\",\"attributes\":{\"selected\":{\"type\":\"object\",\"name\":\"Selection\",\"id\":\"p1972\",\"attributes\":{\"indices\":[],\"line_indices\":[]}},\"selection_policy\":{\"type\":\"object\",\"name\":\"UnionRenderers\",\"id\":\"p1973\"},\"data\":{\"type\":\"map\",\"entries\":[[\"x\",{\"type\":\"ndarray\",\"array\":{\"type\":\"bytes\",\"data\":\"AAAAAAAA8L8bymsor6HsvzaU11BeQ+m/UV5DeQ3l5b9sKK+hvIbivw7lNZTXUN6/RHkN5TWU1796DeU1lNfQv2BDeQ3lNcS/MK+hvIbyqr8gr6G8hvKqP2BDeQ3lNcQ/eA3lNZTX0D9AeQ3lNZTXPwzlNZTXUN4/bCivobyG4j9QXkN5DeXlPzSU11BeQ+k/GsprKK+h7D8AAAAAAADwPw==\"},\"shape\":[20],\"dtype\":\"float64\",\"order\":\"little\"}],[\"y\",[2.4819582939860503,-3.34159025611476,-1.1304855457872511,0.7857469057118576,1.3424536597774157,1.2121741909520918,0.8892269832292021,0.4909561258103923,0.08146500615485558,-0.11117049537968504,0.21568334573463258,1.1357029561506802,2.2248883186259563,2.596639894932446,1.3934697184412541,-1.3642427707591993,-4.060732658963329,-3.911810410254458,-0.2107669813646602,-2.865178295921851]]]}}},\"view\":{\"type\":\"object\",\"name\":\"CDSView\",\"id\":\"p1978\",\"attributes\":{\"filter\":{\"type\":\"object\",\"name\":\"AllIndices\",\"id\":\"p1979\"}}},\"glyph\":{\"type\":\"object\",\"name\":\"Line\",\"id\":\"p1974\",\"attributes\":{\"x\":{\"type\":\"field\",\"field\":\"x\"},\"y\":{\"type\":\"field\",\"field\":\"y\"},\"line_color\":\"#1f77b4\"}},\"nonselection_glyph\":{\"type\":\"object\",\"name\":\"Line\",\"id\":\"p1975\",\"attributes\":{\"x\":{\"type\":\"field\",\"field\":\"x\"},\"y\":{\"type\":\"field\",\"field\":\"y\"},\"line_color\":\"#1f77b4\",\"line_alpha\":0.1}},\"muted_glyph\":{\"type\":\"object\",\"name\":\"Line\",\"id\":\"p1976\",\"attributes\":{\"x\":{\"type\":\"field\",\"field\":\"x\"},\"y\":{\"type\":\"field\",\"field\":\"y\"},\"line_color\":\"#1f77b4\",\"line_alpha\":0.2}}}},{\"type\":\"object\",\"name\":\"GlyphRenderer\",\"id\":\"p1986\",\"attributes\":{\"data_source\":{\"type\":\"object\",\"name\":\"ColumnDataSource\",\"id\":\"p1980\",\"attributes\":{\"selected\":{\"type\":\"object\",\"name\":\"Selection\",\"id\":\"p1981\",\"attributes\":{\"indices\":[],\"line_indices\":[]}},\"selection_policy\":{\"type\":\"object\",\"name\":\"UnionRenderers\",\"id\":\"p1982\"},\"data\":{\"type\":\"map\",\"entries\":[[\"x\",{\"type\":\"ndarray\",\"array\":{\"type\":\"bytes\",\"data\":\"AAAAAAAA8L8bymsor6HsvzaU11BeQ+m/UV5DeQ3l5b9sKK+hvIbivw7lNZTXUN6/RHkN5TWU1796DeU1lNfQv2BDeQ3lNcS/MK+hvIbyqr8gr6G8hvKqP2BDeQ3lNcQ/eA3lNZTX0D9AeQ3lNZTXPwzlNZTXUN4/bCivobyG4j9QXkN5DeXlPzSU11BeQ+k/GsprKK+h7D8AAAAAAADwPw==\"},\"shape\":[20],\"dtype\":\"float64\",\"order\":\"little\"}],[\"y\",[0.8273194313286849,-1.1138634187049203,-0.3768285152624168,0.2619156352372859,0.44748455325913855,0.40405806365069713,0.296408994409734,0.16365204193679728,0.02715500205161852,-0.037056831793228426,0.07189444857821085,0.3785676520502268,0.7416294395419853,0.8655466316441487,0.4644899061470845,-0.4547475902530669,-1.3535775529877763,-1.3039368034181529,-0.07025566045488696,-0.9550594319739494]]]}}},\"view\":{\"type\":\"object\",\"name\":\"CDSView\",\"id\":\"p1987\",\"attributes\":{\"filter\":{\"type\":\"object\",\"name\":\"AllIndices\",\"id\":\"p1988\"}}},\"glyph\":{\"type\":\"object\",\"name\":\"Line\",\"id\":\"p1983\",\"attributes\":{\"x\":{\"type\":\"field\",\"field\":\"x\"},\"y\":{\"type\":\"field\",\"field\":\"y\"},\"line_color\":\"#1f77b4\"}},\"nonselection_glyph\":{\"type\":\"object\",\"name\":\"Line\",\"id\":\"p1984\",\"attributes\":{\"x\":{\"type\":\"field\",\"field\":\"x\"},\"y\":{\"type\":\"field\",\"field\":\"y\"},\"line_color\":\"#1f77b4\",\"line_alpha\":0.1}},\"muted_glyph\":{\"type\":\"object\",\"name\":\"Line\",\"id\":\"p1985\",\"attributes\":{\"x\":{\"type\":\"field\",\"field\":\"x\"},\"y\":{\"type\":\"field\",\"field\":\"y\"},\"line_color\":\"#1f77b4\",\"line_alpha\":0.2}}}}],\"toolbar\":{\"type\":\"object\",\"name\":\"Toolbar\",\"id\":\"p1921\",\"attributes\":{\"tools\":[{\"type\":\"object\",\"name\":\"PanTool\",\"id\":\"p1947\"},{\"type\":\"object\",\"name\":\"WheelZoomTool\",\"id\":\"p1948\"},{\"type\":\"object\",\"name\":\"BoxZoomTool\",\"id\":\"p1949\",\"attributes\":{\"overlay\":{\"type\":\"object\",\"name\":\"BoxAnnotation\",\"id\":\"p1950\",\"attributes\":{\"syncable\":false,\"level\":\"overlay\",\"visible\":false,\"left_units\":\"canvas\",\"right_units\":\"canvas\",\"bottom_units\":\"canvas\",\"top_units\":\"canvas\",\"line_color\":\"black\",\"line_alpha\":1.0,\"line_width\":2,\"line_dash\":[4,4],\"fill_color\":\"lightgrey\",\"fill_alpha\":0.5}}}},{\"type\":\"object\",\"name\":\"SaveTool\",\"id\":\"p1951\"},{\"type\":\"object\",\"name\":\"ResetTool\",\"id\":\"p1952\"},{\"type\":\"object\",\"name\":\"HelpTool\",\"id\":\"p1953\"}]}},\"left\":[{\"type\":\"object\",\"name\":\"LinearAxis\",\"id\":\"p1940\",\"attributes\":{\"ticker\":{\"type\":\"object\",\"name\":\"BasicTicker\",\"id\":\"p1942\",\"attributes\":{\"mantissas\":[1,2,5]}},\"formatter\":{\"type\":\"object\",\"name\":\"BasicTickFormatter\",\"id\":\"p1943\"},\"axis_label\":\"y\",\"major_label_policy\":{\"type\":\"object\",\"name\":\"AllLabels\",\"id\":\"p1941\"}}}],\"below\":[{\"type\":\"object\",\"name\":\"LinearAxis\",\"id\":\"p1933\",\"attributes\":{\"ticker\":{\"type\":\"object\",\"name\":\"BasicTicker\",\"id\":\"p1935\",\"attributes\":{\"mantissas\":[1,2,5]}},\"formatter\":{\"type\":\"object\",\"name\":\"BasicTickFormatter\",\"id\":\"p1936\"},\"axis_label\":\"x\",\"major_label_policy\":{\"type\":\"object\",\"name\":\"AllLabels\",\"id\":\"p1934\"}}}],\"center\":[{\"type\":\"object\",\"name\":\"Grid\",\"id\":\"p1939\",\"attributes\":{\"axis\":{\"id\":\"p1933\"}}},{\"type\":\"object\",\"name\":\"Grid\",\"id\":\"p1946\",\"attributes\":{\"dimension\":1,\"axis\":{\"id\":\"p1940\"}}}]}}],\"callbacks\":{\"type\":\"map\"}}};\n",
       "  const render_items = [{\"docid\":\"23970510-9e01-4092-979f-69a1d5ffe561\",\"roots\":{\"p1915\":\"0783480b-e5c1-4807-ace4-34fb162af2bb\"},\"root_ids\":[\"p1915\"]}];\n",
       "  root.Bokeh.embed.embed_items_notebook(docs_json, render_items);\n",
       "  }\n",
       "  if (root.Bokeh !== undefined) {\n",
       "    embed_document(root);\n",
       "  } else {\n",
       "    let attempts = 0;\n",
       "    const timer = setInterval(function(root) {\n",
       "      if (root.Bokeh !== undefined) {\n",
       "        clearInterval(timer);\n",
       "        embed_document(root);\n",
       "      } else {\n",
       "        attempts++;\n",
       "        if (attempts > 100) {\n",
       "          clearInterval(timer);\n",
       "          console.log(\"Bokeh: ERROR: Unable to run BokehJS code because BokehJS library is missing\");\n",
       "        }\n",
       "      }\n",
       "    }, 10, root)\n",
       "  }\n",
       "})(window);"
      ],
      "application/vnd.bokehjs_exec.v0+json": ""
     },
     "metadata": {
      "application/vnd.bokehjs_exec.v0+json": {
       "id": "p1915"
      }
     },
     "output_type": "display_data"
    }
   ],
   "source": [
    "xa = np.linspace(-1, 1, 20)\n",
    "x = [-0.7485151701255273, 0.9236896805518394, -0.29718461244377, -0.477237659083645, -0.6248852777950297, 0.1842419468344343, 0.057297303531200605, -0.012950371743900485, -0.06591622588594917, 0.5259901453413967]\n",
    "y = [-0.2458771770150847, 0.5880722499277428, 0.8703917925163632, 1.008142590282386, 1.3526453045173146, 1.2722358413386374, 0.7308524113677768, -0.27888264914786465, -0.3574502688649015, 0.1662239399263441]\n",
    "\n",
    "f = np.polynomial.Chebyshev.fit(x, y, deg=9, domain=[-1, 1], rcond=0.01)\n",
    "f3 = f/3\n",
    "print(f.coef)\n",
    "#[101.86663268 190.2307592  158.44515903 111.10964953  64.70671113]\n",
    "p = plt.figure(title=\"Cheb fit example\", x_axis_label='x', y_axis_label='y')\n",
    "p.scatter(x, y)\n",
    "p.line(xa, [f(x) for x in xa])\n",
    "p.line(xa, [f3(x) for x in xa])\n",
    "plt.show(p)"
   ]
  },
  {
   "cell_type": "code",
   "execution_count": 22,
   "id": "803e96b2-d6a8-4bdd-8227-f00a97580d8a",
   "metadata": {
    "execution": {
     "iopub.execute_input": "2023-06-20T16:02:13.504367Z",
     "iopub.status.busy": "2023-06-20T16:02:13.504057Z",
     "iopub.status.idle": "2023-06-20T16:02:13.645529Z",
     "shell.execute_reply": "2023-06-20T16:02:13.645095Z",
     "shell.execute_reply.started": "2023-06-20T16:02:13.504340Z"
    },
    "tags": []
   },
   "outputs": [
    {
     "data": {
      "text/html": [
       "\n",
       "  <div id=\"f5e609e8-a4d2-4a44-93bf-be3b50eec555\" data-root-id=\"p5195\" style=\"display: contents;\"></div>\n"
      ]
     },
     "metadata": {},
     "output_type": "display_data"
    },
    {
     "data": {
      "application/javascript": [
       "(function(root) {\n",
       "  function embed_document(root) {\n",
       "  const docs_json = {\"2e18d7cf-2755-495f-be44-947f535db73f\":{\"version\":\"3.1.0\",\"title\":\"Bokeh Application\",\"defs\":[],\"roots\":[{\"type\":\"object\",\"name\":\"Figure\",\"id\":\"p5195\",\"attributes\":{\"x_range\":{\"type\":\"object\",\"name\":\"Range1d\",\"id\":\"p5205\",\"attributes\":{\"start\":-1}},\"y_range\":{\"type\":\"object\",\"name\":\"Range1d\",\"id\":\"p5207\",\"attributes\":{\"start\":-2.5,\"end\":2.5}},\"x_scale\":{\"type\":\"object\",\"name\":\"LinearScale\",\"id\":\"p5209\"},\"y_scale\":{\"type\":\"object\",\"name\":\"LinearScale\",\"id\":\"p5211\"},\"title\":{\"type\":\"object\",\"name\":\"Title\",\"id\":\"p5198\",\"attributes\":{\"text\":\"Simple line example\"}},\"renderers\":[{\"type\":\"object\",\"name\":\"GlyphRenderer\",\"id\":\"p5248\",\"attributes\":{\"data_source\":{\"type\":\"object\",\"name\":\"ColumnDataSource\",\"id\":\"p5242\",\"attributes\":{\"selected\":{\"type\":\"object\",\"name\":\"Selection\",\"id\":\"p5243\",\"attributes\":{\"indices\":[],\"line_indices\":[]}},\"selection_policy\":{\"type\":\"object\",\"name\":\"UnionRenderers\",\"id\":\"p5244\"},\"data\":{\"type\":\"map\",\"entries\":[[\"x\",{\"type\":\"ndarray\",\"array\":{\"type\":\"bytes\",\"data\":\"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\"},\"shape\":[201],\"dtype\":\"float64\",\"order\":\"little\"}],[\"y\",{\"type\":\"ndarray\",\"array\":{\"type\":\"bytes\",\"data\":\"AAAAAAAA4L+MftSXx1DYv6i4hAGcPtG/GI0QDa+Fxb8AZ2iY71uzv4BTeTvCaYE/cGNSr9uotT8gAYrjkZfDP1DrXijRa8s/Xng40VQu0T8A3LqbpzrUPwQPXEJW4NY/6mGg1rEk2T8hT/+T5wzbPzbC90YBntw/XV8ktOXc3T/Syk//WM7eP2DwiBL9dt8/uko3BVLb3z8DKy+Dtv/fPysAxjNo6N8/aZ7mIISZ3z+thiUeBxffPxAu1S/OZN4/Q0Ua8paG3T8AAAAAAIDcP31cjFqJVNs/2WrUz5QH2j+XlBBiZpzYPwDksK4kFtc/m0txVdl31T+k7W1fccTTP3ZjN6a9/tE/+gTnOnMp0D82YGaaV47MP3wgByXMtMg/UssKWgzLxD/UmX8lrNXAP5QZoNIXsrk/uPbWlrKysT8giLoPQGqjP4AuhmlVD3w/oBRVvGOKmL/gUfaDat2rv0h7SYXnnLW/sA9AahMnvb88nu5pu0PCv3JeRh1U3MW/zknrh8payb9a9gYRwLzMvwAAAAAAANC/1rwoVz+R0b8tL7FcLBHTvyiBLhrpftS/DkID7arZ1b/kHksfuiDXv/iaxoBxU9i/dMjG/z1x2b/iABlCnnnav8+d8j0ibNu/RrHc0mpI3L9ovp9iKQ7dv/5xL2ofvd2/AFuWGh5V3r8ro+HxBdbev47HDFTGP9+/GFHtI12S378pjR5c1s3fvx5G7adL8t+/43tD/OP/37+CHJQw0/bfv7C8xpdZ19+/XVAjmcOh379F4z1JaVbfv3xR4gKu9d6/AAAAAACA3r9FlZXy1/Xdv8exnJ24V92/mKj1bS6m3L/uN1MTz+Hbv7JBJhk5C9u/FISJfxMj2r8RUi1UDSrZvw1MQ0vdINi/WxhqWEEI17/GG5lH/uDVvzAyDFbfq9S/Fmcvy7Vp078jroqRWBvSv7ybrc+jwdC/Izs2AvG6zr9dZmoeeN/Lvw1NUdSv8si/ComxQ3L2xb87K5b9n+zCv2lZTGw+rr+/ur/37LVvub/QwvichCGzv7omvBoej6m/Ie2mkPqWmb8AAAAAAAAAACHtppD6lpk/uia8Gh6PqT/QwvichCGzP7q/9+y1b7k/fVlMbD6uvz9FK5b9n+zCPxOJsUNy9sU/Fk1R1K/yyD9mZmoeeN/LPy07NgLxus4/wJutz6PB0D8oroqRWBvSPxtnL8u1adM/NDIMVt+r1D/JG5lH/uDVP1gYalhBCNc/DUxDS90g2D8RUi1UDSrZPxSEiX8TI9o/skEmGTkL2z/uN1MTz+HbP5io9W0uptw/x7GcnbhX3T9FlZXy1/XdPwAAAAAAgN4/fFHiAq713j9F4z1JaVbfP11QI5nDod8/sLzGl1nX3z+CHJQw0/bfP+R7Q/zj/98/Hkbtp0vy3z8pjR5c1s3fPxpR7SNdkt8/jscMVMY/3z8qo+HxBdbeP/5alhoeVd4//XEvah+93T9mvp9iKQ7dP0Sx3NJqSNw/0p3yPSJs2z/kABlCnnnaP3TIxv89cdk/+JrGgHFT2D/kHksfuiDXPw5CA+2q2dU/KIEuGul+1D8tL7FcLBHTP9a8KFc/kdE/AAAAAAAA0D9a9gYRwLzMP85J64fKWsk/cl5GHVTcxT88nu5pu0PCP7APQGoTJ70/SHtJheectT/gUfaDat2rP6AUVbxjipg/ADCGaVUPfL9IiLoPQGqjv9D21paysrG/qBmg0heyub/emX8lrNXAv2DLCloMy8S/lCAHJcy0yL9QYGaaV47Mv/oE5zpzKdC/dmM3pr3+0b+k7W1fccTTv5tLcVXZd9W/AOSwriQW17+XlBBiZpzYv9lq1M+UB9q/fVyMWolU278AAAAAAIDcv0NFGvKWht2/EC7VL85k3r+thiUeBxffv2me5iCEmd+/KwDGM2jo378DKy+Dtv/fv7pKNwVS29+/XvCIEv1237/Qyk//WM7ev1dfJLTl3N2/McL3RgGe3L8dT/+T5wzbv+RhoNaxJNm/+g5cQlbg1r/827qbpzrUv1Z4ONFULtG/cOteKNFry78gAYrjkZfDv3BjUq/bqLW/gFN5O8Jpgb8AZ2iY71uzPxiNEA2vhcU/qLiEAZw+0T+MftSXx1DYPwAAAAAAAOA/\"},\"shape\":[201],\"dtype\":\"float64\",\"order\":\"little\"}]]}}},\"view\":{\"type\":\"object\",\"name\":\"CDSView\",\"id\":\"p5249\",\"attributes\":{\"filter\":{\"type\":\"object\",\"name\":\"AllIndices\",\"id\":\"p5250\"}}},\"glyph\":{\"type\":\"object\",\"name\":\"Line\",\"id\":\"p5245\",\"attributes\":{\"x\":{\"type\":\"field\",\"field\":\"x\"},\"y\":{\"type\":\"field\",\"field\":\"y\"},\"line_color\":\"#1f77b4\",\"line_width\":2}},\"nonselection_glyph\":{\"type\":\"object\",\"name\":\"Line\",\"id\":\"p5246\",\"attributes\":{\"x\":{\"type\":\"field\",\"field\":\"x\"},\"y\":{\"type\":\"field\",\"field\":\"y\"},\"line_color\":\"#1f77b4\",\"line_alpha\":0.1,\"line_width\":2}},\"muted_glyph\":{\"type\":\"object\",\"name\":\"Line\",\"id\":\"p5247\",\"attributes\":{\"x\":{\"type\":\"field\",\"field\":\"x\"},\"y\":{\"type\":\"field\",\"field\":\"y\"},\"line_color\":\"#1f77b4\",\"line_alpha\":0.2,\"line_width\":2}}}}],\"toolbar\":{\"type\":\"object\",\"name\":\"Toolbar\",\"id\":\"p5201\",\"attributes\":{\"tools\":[{\"type\":\"object\",\"name\":\"PanTool\",\"id\":\"p5227\"},{\"type\":\"object\",\"name\":\"WheelZoomTool\",\"id\":\"p5228\"},{\"type\":\"object\",\"name\":\"BoxZoomTool\",\"id\":\"p5229\",\"attributes\":{\"overlay\":{\"type\":\"object\",\"name\":\"BoxAnnotation\",\"id\":\"p5230\",\"attributes\":{\"syncable\":false,\"level\":\"overlay\",\"visible\":false,\"left_units\":\"canvas\",\"right_units\":\"canvas\",\"bottom_units\":\"canvas\",\"top_units\":\"canvas\",\"line_color\":\"black\",\"line_alpha\":1.0,\"line_width\":2,\"line_dash\":[4,4],\"fill_color\":\"lightgrey\",\"fill_alpha\":0.5}}}},{\"type\":\"object\",\"name\":\"SaveTool\",\"id\":\"p5231\"},{\"type\":\"object\",\"name\":\"ResetTool\",\"id\":\"p5232\"},{\"type\":\"object\",\"name\":\"HelpTool\",\"id\":\"p5233\"}]}},\"left\":[{\"type\":\"object\",\"name\":\"LinearAxis\",\"id\":\"p5220\",\"attributes\":{\"ticker\":{\"type\":\"object\",\"name\":\"BasicTicker\",\"id\":\"p5222\",\"attributes\":{\"mantissas\":[1,2,5]}},\"formatter\":{\"type\":\"object\",\"name\":\"BasicTickFormatter\",\"id\":\"p5223\"},\"axis_label\":\"y\",\"major_label_policy\":{\"type\":\"object\",\"name\":\"AllLabels\",\"id\":\"p5221\"}}}],\"below\":[{\"type\":\"object\",\"name\":\"LinearAxis\",\"id\":\"p5213\",\"attributes\":{\"ticker\":{\"type\":\"object\",\"name\":\"BasicTicker\",\"id\":\"p5215\",\"attributes\":{\"mantissas\":[1,2,5]}},\"formatter\":{\"type\":\"object\",\"name\":\"BasicTickFormatter\",\"id\":\"p5216\"},\"axis_label\":\"x\",\"major_label_policy\":{\"type\":\"object\",\"name\":\"AllLabels\",\"id\":\"p5214\"}}}],\"center\":[{\"type\":\"object\",\"name\":\"Grid\",\"id\":\"p5219\",\"attributes\":{\"axis\":{\"id\":\"p5213\"}}},{\"type\":\"object\",\"name\":\"Grid\",\"id\":\"p5226\",\"attributes\":{\"dimension\":1,\"axis\":{\"id\":\"p5220\"}}}]}}],\"callbacks\":{\"type\":\"map\"}}};\n",
       "  const render_items = [{\"docid\":\"2e18d7cf-2755-495f-be44-947f535db73f\",\"roots\":{\"p5195\":\"f5e609e8-a4d2-4a44-93bf-be3b50eec555\"},\"root_ids\":[\"p5195\"]}];\n",
       "  root.Bokeh.embed.embed_items_notebook(docs_json, render_items);\n",
       "  }\n",
       "  if (root.Bokeh !== undefined) {\n",
       "    embed_document(root);\n",
       "  } else {\n",
       "    let attempts = 0;\n",
       "    const timer = setInterval(function(root) {\n",
       "      if (root.Bokeh !== undefined) {\n",
       "        clearInterval(timer);\n",
       "        embed_document(root);\n",
       "      } else {\n",
       "        attempts++;\n",
       "        if (attempts > 100) {\n",
       "          clearInterval(timer);\n",
       "          console.log(\"Bokeh: ERROR: Unable to run BokehJS code because BokehJS library is missing\");\n",
       "        }\n",
       "      }\n",
       "    }, 10, root)\n",
       "  }\n",
       "})(window);"
      ],
      "application/vnd.bokehjs_exec.v0+json": ""
     },
     "metadata": {
      "application/vnd.bokehjs_exec.v0+json": {
       "id": "p5195"
      }
     },
     "output_type": "display_data"
    },
    {
     "data": {
      "text/html": [
       "<div style=\"display: table;\"><div style=\"display: table-row;\"><div style=\"display: table-cell;\"><b title=\"bokeh.plotting._figure.figure\">figure</b>(</div><div style=\"display: table-cell;\">id&nbsp;=&nbsp;'p5195', <span id=\"p5563\" style=\"cursor: pointer;\">&hellip;)</span></div></div><div class=\"p5562\" style=\"display: none;\"><div style=\"display: table-cell;\"></div><div style=\"display: table-cell;\">above&nbsp;=&nbsp;[],</div></div><div class=\"p5562\" style=\"display: none;\"><div style=\"display: table-cell;\"></div><div style=\"display: table-cell;\">align&nbsp;=&nbsp;'auto',</div></div><div class=\"p5562\" style=\"display: none;\"><div style=\"display: table-cell;\"></div><div style=\"display: table-cell;\">aspect_ratio&nbsp;=&nbsp;None,</div></div><div class=\"p5562\" style=\"display: none;\"><div style=\"display: table-cell;\"></div><div style=\"display: table-cell;\">aspect_scale&nbsp;=&nbsp;1,</div></div><div class=\"p5562\" style=\"display: none;\"><div style=\"display: table-cell;\"></div><div style=\"display: table-cell;\">background_fill_alpha&nbsp;=&nbsp;1.0,</div></div><div class=\"p5562\" style=\"display: none;\"><div style=\"display: table-cell;\"></div><div style=\"display: table-cell;\">background_fill_color&nbsp;=&nbsp;'#ffffff',</div></div><div class=\"p5562\" style=\"display: none;\"><div style=\"display: table-cell;\"></div><div style=\"display: table-cell;\">below&nbsp;=&nbsp;[LinearAxis(id='p5213', ...)],</div></div><div class=\"p5562\" style=\"display: none;\"><div style=\"display: table-cell;\"></div><div style=\"display: table-cell;\">border_fill_alpha&nbsp;=&nbsp;1.0,</div></div><div class=\"p5562\" style=\"display: none;\"><div style=\"display: table-cell;\"></div><div style=\"display: table-cell;\">border_fill_color&nbsp;=&nbsp;'#ffffff',</div></div><div class=\"p5562\" style=\"display: none;\"><div style=\"display: table-cell;\"></div><div style=\"display: table-cell;\">center&nbsp;=&nbsp;[Grid(id='p5219', ...), Grid(id='p5226', ...)],</div></div><div class=\"p5562\" style=\"display: none;\"><div style=\"display: table-cell;\"></div><div style=\"display: table-cell;\">context_menu&nbsp;=&nbsp;None,</div></div><div class=\"p5562\" style=\"display: none;\"><div style=\"display: table-cell;\"></div><div style=\"display: table-cell;\">css_classes&nbsp;=&nbsp;[],</div></div><div class=\"p5562\" style=\"display: none;\"><div style=\"display: table-cell;\"></div><div style=\"display: table-cell;\">disabled&nbsp;=&nbsp;False,</div></div><div class=\"p5562\" style=\"display: none;\"><div style=\"display: table-cell;\"></div><div style=\"display: table-cell;\">extra_x_ranges&nbsp;=&nbsp;{},</div></div><div class=\"p5562\" style=\"display: none;\"><div style=\"display: table-cell;\"></div><div style=\"display: table-cell;\">extra_x_scales&nbsp;=&nbsp;{},</div></div><div class=\"p5562\" style=\"display: none;\"><div style=\"display: table-cell;\"></div><div style=\"display: table-cell;\">extra_y_ranges&nbsp;=&nbsp;{},</div></div><div class=\"p5562\" style=\"display: none;\"><div style=\"display: table-cell;\"></div><div style=\"display: table-cell;\">extra_y_scales&nbsp;=&nbsp;{},</div></div><div class=\"p5562\" style=\"display: none;\"><div style=\"display: table-cell;\"></div><div style=\"display: table-cell;\">flow_mode&nbsp;=&nbsp;'block',</div></div><div class=\"p5562\" style=\"display: none;\"><div style=\"display: table-cell;\"></div><div style=\"display: table-cell;\">frame_align&nbsp;=&nbsp;True,</div></div><div class=\"p5562\" style=\"display: none;\"><div style=\"display: table-cell;\"></div><div style=\"display: table-cell;\">frame_height&nbsp;=&nbsp;None,</div></div><div class=\"p5562\" style=\"display: none;\"><div style=\"display: table-cell;\"></div><div style=\"display: table-cell;\">frame_width&nbsp;=&nbsp;None,</div></div><div class=\"p5562\" style=\"display: none;\"><div style=\"display: table-cell;\"></div><div style=\"display: table-cell;\">height&nbsp;=&nbsp;600,</div></div><div class=\"p5562\" style=\"display: none;\"><div style=\"display: table-cell;\"></div><div style=\"display: table-cell;\">height_policy&nbsp;=&nbsp;'auto',</div></div><div class=\"p5562\" style=\"display: none;\"><div style=\"display: table-cell;\"></div><div style=\"display: table-cell;\">hidpi&nbsp;=&nbsp;True,</div></div><div class=\"p5562\" style=\"display: none;\"><div style=\"display: table-cell;\"></div><div style=\"display: table-cell;\">hold_render&nbsp;=&nbsp;False,</div></div><div class=\"p5562\" style=\"display: none;\"><div style=\"display: table-cell;\"></div><div style=\"display: table-cell;\">js_event_callbacks&nbsp;=&nbsp;{},</div></div><div class=\"p5562\" style=\"display: none;\"><div style=\"display: table-cell;\"></div><div style=\"display: table-cell;\">js_property_callbacks&nbsp;=&nbsp;{},</div></div><div class=\"p5562\" style=\"display: none;\"><div style=\"display: table-cell;\"></div><div style=\"display: table-cell;\">left&nbsp;=&nbsp;[LinearAxis(id='p5220', ...)],</div></div><div class=\"p5562\" style=\"display: none;\"><div style=\"display: table-cell;\"></div><div style=\"display: table-cell;\">lod_factor&nbsp;=&nbsp;10,</div></div><div class=\"p5562\" style=\"display: none;\"><div style=\"display: table-cell;\"></div><div style=\"display: table-cell;\">lod_interval&nbsp;=&nbsp;300,</div></div><div class=\"p5562\" style=\"display: none;\"><div style=\"display: table-cell;\"></div><div style=\"display: table-cell;\">lod_threshold&nbsp;=&nbsp;2000,</div></div><div class=\"p5562\" style=\"display: none;\"><div style=\"display: table-cell;\"></div><div style=\"display: table-cell;\">lod_timeout&nbsp;=&nbsp;500,</div></div><div class=\"p5562\" style=\"display: none;\"><div style=\"display: table-cell;\"></div><div style=\"display: table-cell;\">margin&nbsp;=&nbsp;None,</div></div><div class=\"p5562\" style=\"display: none;\"><div style=\"display: table-cell;\"></div><div style=\"display: table-cell;\">match_aspect&nbsp;=&nbsp;False,</div></div><div class=\"p5562\" style=\"display: none;\"><div style=\"display: table-cell;\"></div><div style=\"display: table-cell;\">max_height&nbsp;=&nbsp;None,</div></div><div class=\"p5562\" style=\"display: none;\"><div style=\"display: table-cell;\"></div><div style=\"display: table-cell;\">max_width&nbsp;=&nbsp;None,</div></div><div class=\"p5562\" style=\"display: none;\"><div style=\"display: table-cell;\"></div><div style=\"display: table-cell;\">min_border&nbsp;=&nbsp;5,</div></div><div class=\"p5562\" style=\"display: none;\"><div style=\"display: table-cell;\"></div><div style=\"display: table-cell;\">min_border_bottom&nbsp;=&nbsp;None,</div></div><div class=\"p5562\" style=\"display: none;\"><div style=\"display: table-cell;\"></div><div style=\"display: table-cell;\">min_border_left&nbsp;=&nbsp;None,</div></div><div class=\"p5562\" style=\"display: none;\"><div style=\"display: table-cell;\"></div><div style=\"display: table-cell;\">min_border_right&nbsp;=&nbsp;None,</div></div><div class=\"p5562\" style=\"display: none;\"><div style=\"display: table-cell;\"></div><div style=\"display: table-cell;\">min_border_top&nbsp;=&nbsp;None,</div></div><div class=\"p5562\" style=\"display: none;\"><div style=\"display: table-cell;\"></div><div style=\"display: table-cell;\">min_height&nbsp;=&nbsp;None,</div></div><div class=\"p5562\" style=\"display: none;\"><div style=\"display: table-cell;\"></div><div style=\"display: table-cell;\">min_width&nbsp;=&nbsp;None,</div></div><div class=\"p5562\" style=\"display: none;\"><div style=\"display: table-cell;\"></div><div style=\"display: table-cell;\">name&nbsp;=&nbsp;None,</div></div><div class=\"p5562\" style=\"display: none;\"><div style=\"display: table-cell;\"></div><div style=\"display: table-cell;\">outline_line_alpha&nbsp;=&nbsp;1.0,</div></div><div class=\"p5562\" style=\"display: none;\"><div style=\"display: table-cell;\"></div><div style=\"display: table-cell;\">outline_line_cap&nbsp;=&nbsp;'butt',</div></div><div class=\"p5562\" style=\"display: none;\"><div style=\"display: table-cell;\"></div><div style=\"display: table-cell;\">outline_line_color&nbsp;=&nbsp;'#e5e5e5',</div></div><div class=\"p5562\" style=\"display: none;\"><div style=\"display: table-cell;\"></div><div style=\"display: table-cell;\">outline_line_dash&nbsp;=&nbsp;[],</div></div><div class=\"p5562\" style=\"display: none;\"><div style=\"display: table-cell;\"></div><div style=\"display: table-cell;\">outline_line_dash_offset&nbsp;=&nbsp;0,</div></div><div class=\"p5562\" style=\"display: none;\"><div style=\"display: table-cell;\"></div><div style=\"display: table-cell;\">outline_line_join&nbsp;=&nbsp;'bevel',</div></div><div class=\"p5562\" style=\"display: none;\"><div style=\"display: table-cell;\"></div><div style=\"display: table-cell;\">outline_line_width&nbsp;=&nbsp;1,</div></div><div class=\"p5562\" style=\"display: none;\"><div style=\"display: table-cell;\"></div><div style=\"display: table-cell;\">output_backend&nbsp;=&nbsp;'canvas',</div></div><div class=\"p5562\" style=\"display: none;\"><div style=\"display: table-cell;\"></div><div style=\"display: table-cell;\">renderers&nbsp;=&nbsp;[GlyphRenderer(id='p5248', ...)],</div></div><div class=\"p5562\" style=\"display: none;\"><div style=\"display: table-cell;\"></div><div style=\"display: table-cell;\">reset_policy&nbsp;=&nbsp;'standard',</div></div><div class=\"p5562\" style=\"display: none;\"><div style=\"display: table-cell;\"></div><div style=\"display: table-cell;\">resizable&nbsp;=&nbsp;False,</div></div><div class=\"p5562\" style=\"display: none;\"><div style=\"display: table-cell;\"></div><div style=\"display: table-cell;\">right&nbsp;=&nbsp;[],</div></div><div class=\"p5562\" style=\"display: none;\"><div style=\"display: table-cell;\"></div><div style=\"display: table-cell;\">sizing_mode&nbsp;=&nbsp;None,</div></div><div class=\"p5562\" style=\"display: none;\"><div style=\"display: table-cell;\"></div><div style=\"display: table-cell;\">styles&nbsp;=&nbsp;{},</div></div><div class=\"p5562\" style=\"display: none;\"><div style=\"display: table-cell;\"></div><div style=\"display: table-cell;\">stylesheets&nbsp;=&nbsp;[],</div></div><div class=\"p5562\" style=\"display: none;\"><div style=\"display: table-cell;\"></div><div style=\"display: table-cell;\">subscribed_events&nbsp;=&nbsp;PropertyValueSet(),</div></div><div class=\"p5562\" style=\"display: none;\"><div style=\"display: table-cell;\"></div><div style=\"display: table-cell;\">syncable&nbsp;=&nbsp;True,</div></div><div class=\"p5562\" style=\"display: none;\"><div style=\"display: table-cell;\"></div><div style=\"display: table-cell;\">tags&nbsp;=&nbsp;[],</div></div><div class=\"p5562\" style=\"display: none;\"><div style=\"display: table-cell;\"></div><div style=\"display: table-cell;\">title&nbsp;=&nbsp;Title(id='p5198', ...),</div></div><div class=\"p5562\" style=\"display: none;\"><div style=\"display: table-cell;\"></div><div style=\"display: table-cell;\">title_location&nbsp;=&nbsp;'above',</div></div><div class=\"p5562\" style=\"display: none;\"><div style=\"display: table-cell;\"></div><div style=\"display: table-cell;\">toolbar&nbsp;=&nbsp;Toolbar(id='p5201', ...),</div></div><div class=\"p5562\" style=\"display: none;\"><div style=\"display: table-cell;\"></div><div style=\"display: table-cell;\">toolbar_inner&nbsp;=&nbsp;False,</div></div><div class=\"p5562\" style=\"display: none;\"><div style=\"display: table-cell;\"></div><div style=\"display: table-cell;\">toolbar_location&nbsp;=&nbsp;'right',</div></div><div class=\"p5562\" style=\"display: none;\"><div style=\"display: table-cell;\"></div><div style=\"display: table-cell;\">toolbar_sticky&nbsp;=&nbsp;True,</div></div><div class=\"p5562\" style=\"display: none;\"><div style=\"display: table-cell;\"></div><div style=\"display: table-cell;\">visible&nbsp;=&nbsp;True,</div></div><div class=\"p5562\" style=\"display: none;\"><div style=\"display: table-cell;\"></div><div style=\"display: table-cell;\">width&nbsp;=&nbsp;600,</div></div><div class=\"p5562\" style=\"display: none;\"><div style=\"display: table-cell;\"></div><div style=\"display: table-cell;\">width_policy&nbsp;=&nbsp;'auto',</div></div><div class=\"p5562\" style=\"display: none;\"><div style=\"display: table-cell;\"></div><div style=\"display: table-cell;\">x_range&nbsp;=&nbsp;Range1d(id='p5205', ...),</div></div><div class=\"p5562\" style=\"display: none;\"><div style=\"display: table-cell;\"></div><div style=\"display: table-cell;\">x_scale&nbsp;=&nbsp;LinearScale(id='p5209', ...),</div></div><div class=\"p5562\" style=\"display: none;\"><div style=\"display: table-cell;\"></div><div style=\"display: table-cell;\">y_range&nbsp;=&nbsp;Range1d(id='p5207', ...),</div></div><div class=\"p5562\" style=\"display: none;\"><div style=\"display: table-cell;\"></div><div style=\"display: table-cell;\">y_scale&nbsp;=&nbsp;LinearScale(id='p5211', ...))</div></div></div>\n",
       "<script>\n",
       "(function() {\n",
       "  let expanded = false;\n",
       "  const ellipsis = document.getElementById(\"p5563\");\n",
       "  ellipsis.addEventListener(\"click\", function() {\n",
       "    const rows = document.getElementsByClassName(\"p5562\");\n",
       "    for (let i = 0; i < rows.length; i++) {\n",
       "      const el = rows[i];\n",
       "      el.style.display = expanded ? \"none\" : \"table-row\";\n",
       "    }\n",
       "    ellipsis.innerHTML = expanded ? \"&hellip;)\" : \"&lsaquo;&lsaquo;&lsaquo;\";\n",
       "    expanded = !expanded;\n",
       "  });\n",
       "})();\n",
       "</script>\n"
      ],
      "text/plain": [
       "figure(id='p5195', ...)"
      ]
     },
     "execution_count": 22,
     "metadata": {},
     "output_type": "execute_result"
    }
   ],
   "source": [
    "xa = np.linspace(-1, 1, 20)\n",
    "\n",
    "f = np.polynomial.Chebyshev([0,0,0,0,0,0.5])\n",
    "plot(f)"
   ]
  }
 ],
 "metadata": {
  "kernelspec": {
   "display_name": "Python 3 (ipykernel)",
   "language": "python",
   "name": "python3"
  },
  "language_info": {
   "codemirror_mode": {
    "name": "ipython",
    "version": 3
   },
   "file_extension": ".py",
   "mimetype": "text/x-python",
   "name": "python",
   "nbconvert_exporter": "python",
   "pygments_lexer": "ipython3",
   "version": "3.11.4"
  }
 },
 "nbformat": 4,
 "nbformat_minor": 5
}
