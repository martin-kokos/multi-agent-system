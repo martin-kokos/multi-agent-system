{
 "cells": [
  {
   "cell_type": "markdown",
   "id": "7648f17e-b00f-48f6-b9f9-a280b6a28e13",
   "metadata": {},
   "source": [
    "## Hyperparam search"
   ]
  },
  {
   "cell_type": "code",
   "execution_count": 1,
   "id": "780ca408-4f7d-4a58-9a9b-04540425af72",
   "metadata": {
    "execution": {
     "iopub.execute_input": "2023-06-22T13:54:00.014478Z",
     "iopub.status.busy": "2023-06-22T13:54:00.014022Z",
     "iopub.status.idle": "2023-06-22T13:54:02.964875Z",
     "shell.execute_reply": "2023-06-22T13:54:02.963956Z",
     "shell.execute_reply.started": "2023-06-22T13:54:00.014439Z"
    },
    "tags": []
   },
   "outputs": [
    {
     "data": {
      "text/html": [
       "<style>\n",
       "        .bk-notebook-logo {\n",
       "            display: block;\n",
       "            width: 20px;\n",
       "            height: 20px;\n",
       "            background-image: url(data:image/png;base64,iVBORw0KGgoAAAANSUhEUgAAABQAAAAUCAYAAACNiR0NAAAABHNCSVQICAgIfAhkiAAAAAlwSFlzAAALEgAACxIB0t1+/AAAABx0RVh0U29mdHdhcmUAQWRvYmUgRmlyZXdvcmtzIENTNui8sowAAAOkSURBVDiNjZRtaJVlGMd/1/08zzln5zjP1LWcU9N0NkN8m2CYjpgQYQXqSs0I84OLIC0hkEKoPtiH3gmKoiJDU7QpLgoLjLIQCpEsNJ1vqUOdO7ppbuec5+V+rj4ctwzd8IIbbi6u+8f1539dt3A78eXC7QizUF7gyV1fD1Yqg4JWz84yffhm0qkFqBogB9rM8tZdtwVsPUhWhGcFJngGeWrPzHm5oaMmkfEg1usvLFyc8jLRqDOMru7AyC8saQr7GG7f5fvDeH7Ej8CM66nIF+8yngt6HWaKh7k49Soy9nXurCi1o3qUbS3zWfrYeQDTB/Qj6kX6Ybhw4B+bOYoLKCC9H3Nu/leUTZ1JdRWkkn2ldcCamzrcf47KKXdAJllSlxAOkRgyHsGC/zRday5Qld9DyoM4/q/rUoy/CXh3jzOu3bHUVZeU+DEn8FInkPBFlu3+nW3Nw0mk6vCDiWg8CeJaxEwuHS3+z5RgY+YBR6V1Z1nxSOfoaPa4LASWxxdNp+VWTk7+4vzaou8v8PN+xo+KY2xsw6une2frhw05CTYOmQvsEhjhWjn0bmXPjpE1+kplmmkP3suftwTubK9Vq22qKmrBhpY4jvd5afdRA3wGjFAgcnTK2s4hY0/GPNIb0nErGMCRxWOOX64Z8RAC4oCXdklmEvcL8o0BfkNK4lUg9HTl+oPlQxdNo3Mg4Nv175e/1LDGzZen30MEjRUtmXSfiTVu1kK8W4txyV6BMKlbgk3lMwYCiusNy9fVfvvwMxv8Ynl6vxoByANLTWplvuj/nF9m2+PDtt1eiHPBr1oIfhCChQMBw6Aw0UulqTKZdfVvfG7VcfIqLG9bcldL/+pdWTLxLUy8Qq38heUIjh4XlzZxzQm19lLFlr8vdQ97rjZVOLf8nclzckbcD4wxXMidpX30sFd37Fv/GtwwhzhxGVAprjbg0gCAEeIgwCZyTV2Z1REEW8O4py0wsjeloKoMr6iCY6dP92H6Vw/oTyICIthibxjm/DfN9lVz8IqtqKYLUXfoKVMVQVVJOElGjrnnUt9T9wbgp8AyYKaGlqingHZU/uG2NTZSVqwHQTWkx9hxjkpWDaCg6Ckj5qebgBVbT3V3NNXMSiWSDdGV3hrtzla7J+duwPOToIg42ChPQOQjspnSlp1V+Gjdged7+8UN5CRAV7a5EdFNwCjEaBR27b3W890TE7g24NAP/mMDXRWrGoFPQI9ls/MWO2dWFAar/xcOIImbbpA3zgAAAABJRU5ErkJggg==);\n",
       "        }\n",
       "    </style>\n",
       "    <div>\n",
       "        <a href=\"https://bokeh.org\" target=\"_blank\" class=\"bk-notebook-logo\"></a>\n",
       "        <span id=\"p1001\">Loading BokehJS ...</span>\n",
       "    </div>\n"
      ]
     },
     "metadata": {},
     "output_type": "display_data"
    },
    {
     "data": {
      "application/javascript": [
       "(function(root) {\n",
       "  function now() {\n",
       "    return new Date();\n",
       "  }\n",
       "\n",
       "  const force = true;\n",
       "\n",
       "  if (typeof root._bokeh_onload_callbacks === \"undefined\" || force === true) {\n",
       "    root._bokeh_onload_callbacks = [];\n",
       "    root._bokeh_is_loading = undefined;\n",
       "  }\n",
       "\n",
       "const JS_MIME_TYPE = 'application/javascript';\n",
       "  const HTML_MIME_TYPE = 'text/html';\n",
       "  const EXEC_MIME_TYPE = 'application/vnd.bokehjs_exec.v0+json';\n",
       "  const CLASS_NAME = 'output_bokeh rendered_html';\n",
       "\n",
       "  /**\n",
       "   * Render data to the DOM node\n",
       "   */\n",
       "  function render(props, node) {\n",
       "    const script = document.createElement(\"script\");\n",
       "    node.appendChild(script);\n",
       "  }\n",
       "\n",
       "  /**\n",
       "   * Handle when an output is cleared or removed\n",
       "   */\n",
       "  function handleClearOutput(event, handle) {\n",
       "    const cell = handle.cell;\n",
       "\n",
       "    const id = cell.output_area._bokeh_element_id;\n",
       "    const server_id = cell.output_area._bokeh_server_id;\n",
       "    // Clean up Bokeh references\n",
       "    if (id != null && id in Bokeh.index) {\n",
       "      Bokeh.index[id].model.document.clear();\n",
       "      delete Bokeh.index[id];\n",
       "    }\n",
       "\n",
       "    if (server_id !== undefined) {\n",
       "      // Clean up Bokeh references\n",
       "      const cmd_clean = \"from bokeh.io.state import curstate; print(curstate().uuid_to_server['\" + server_id + \"'].get_sessions()[0].document.roots[0]._id)\";\n",
       "      cell.notebook.kernel.execute(cmd_clean, {\n",
       "        iopub: {\n",
       "          output: function(msg) {\n",
       "            const id = msg.content.text.trim();\n",
       "            if (id in Bokeh.index) {\n",
       "              Bokeh.index[id].model.document.clear();\n",
       "              delete Bokeh.index[id];\n",
       "            }\n",
       "          }\n",
       "        }\n",
       "      });\n",
       "      // Destroy server and session\n",
       "      const cmd_destroy = \"import bokeh.io.notebook as ion; ion.destroy_server('\" + server_id + \"')\";\n",
       "      cell.notebook.kernel.execute(cmd_destroy);\n",
       "    }\n",
       "  }\n",
       "\n",
       "  /**\n",
       "   * Handle when a new output is added\n",
       "   */\n",
       "  function handleAddOutput(event, handle) {\n",
       "    const output_area = handle.output_area;\n",
       "    const output = handle.output;\n",
       "\n",
       "    // limit handleAddOutput to display_data with EXEC_MIME_TYPE content only\n",
       "    if ((output.output_type != \"display_data\") || (!Object.prototype.hasOwnProperty.call(output.data, EXEC_MIME_TYPE))) {\n",
       "      return\n",
       "    }\n",
       "\n",
       "    const toinsert = output_area.element.find(\".\" + CLASS_NAME.split(' ')[0]);\n",
       "\n",
       "    if (output.metadata[EXEC_MIME_TYPE][\"id\"] !== undefined) {\n",
       "      toinsert[toinsert.length - 1].firstChild.textContent = output.data[JS_MIME_TYPE];\n",
       "      // store reference to embed id on output_area\n",
       "      output_area._bokeh_element_id = output.metadata[EXEC_MIME_TYPE][\"id\"];\n",
       "    }\n",
       "    if (output.metadata[EXEC_MIME_TYPE][\"server_id\"] !== undefined) {\n",
       "      const bk_div = document.createElement(\"div\");\n",
       "      bk_div.innerHTML = output.data[HTML_MIME_TYPE];\n",
       "      const script_attrs = bk_div.children[0].attributes;\n",
       "      for (let i = 0; i < script_attrs.length; i++) {\n",
       "        toinsert[toinsert.length - 1].firstChild.setAttribute(script_attrs[i].name, script_attrs[i].value);\n",
       "        toinsert[toinsert.length - 1].firstChild.textContent = bk_div.children[0].textContent\n",
       "      }\n",
       "      // store reference to server id on output_area\n",
       "      output_area._bokeh_server_id = output.metadata[EXEC_MIME_TYPE][\"server_id\"];\n",
       "    }\n",
       "  }\n",
       "\n",
       "  function register_renderer(events, OutputArea) {\n",
       "\n",
       "    function append_mime(data, metadata, element) {\n",
       "      // create a DOM node to render to\n",
       "      const toinsert = this.create_output_subarea(\n",
       "        metadata,\n",
       "        CLASS_NAME,\n",
       "        EXEC_MIME_TYPE\n",
       "      );\n",
       "      this.keyboard_manager.register_events(toinsert);\n",
       "      // Render to node\n",
       "      const props = {data: data, metadata: metadata[EXEC_MIME_TYPE]};\n",
       "      render(props, toinsert[toinsert.length - 1]);\n",
       "      element.append(toinsert);\n",
       "      return toinsert\n",
       "    }\n",
       "\n",
       "    /* Handle when an output is cleared or removed */\n",
       "    events.on('clear_output.CodeCell', handleClearOutput);\n",
       "    events.on('delete.Cell', handleClearOutput);\n",
       "\n",
       "    /* Handle when a new output is added */\n",
       "    events.on('output_added.OutputArea', handleAddOutput);\n",
       "\n",
       "    /**\n",
       "     * Register the mime type and append_mime function with output_area\n",
       "     */\n",
       "    OutputArea.prototype.register_mime_type(EXEC_MIME_TYPE, append_mime, {\n",
       "      /* Is output safe? */\n",
       "      safe: true,\n",
       "      /* Index of renderer in `output_area.display_order` */\n",
       "      index: 0\n",
       "    });\n",
       "  }\n",
       "\n",
       "  // register the mime type if in Jupyter Notebook environment and previously unregistered\n",
       "  if (root.Jupyter !== undefined) {\n",
       "    const events = require('base/js/events');\n",
       "    const OutputArea = require('notebook/js/outputarea').OutputArea;\n",
       "\n",
       "    if (OutputArea.prototype.mime_types().indexOf(EXEC_MIME_TYPE) == -1) {\n",
       "      register_renderer(events, OutputArea);\n",
       "    }\n",
       "  }\n",
       "  if (typeof (root._bokeh_timeout) === \"undefined\" || force === true) {\n",
       "    root._bokeh_timeout = Date.now() + 5000;\n",
       "    root._bokeh_failed_load = false;\n",
       "  }\n",
       "\n",
       "  const NB_LOAD_WARNING = {'data': {'text/html':\n",
       "     \"<div style='background-color: #fdd'>\\n\"+\n",
       "     \"<p>\\n\"+\n",
       "     \"BokehJS does not appear to have successfully loaded. If loading BokehJS from CDN, this \\n\"+\n",
       "     \"may be due to a slow or bad network connection. Possible fixes:\\n\"+\n",
       "     \"</p>\\n\"+\n",
       "     \"<ul>\\n\"+\n",
       "     \"<li>re-rerun `output_notebook()` to attempt to load from CDN again, or</li>\\n\"+\n",
       "     \"<li>use INLINE resources instead, as so:</li>\\n\"+\n",
       "     \"</ul>\\n\"+\n",
       "     \"<code>\\n\"+\n",
       "     \"from bokeh.resources import INLINE\\n\"+\n",
       "     \"output_notebook(resources=INLINE)\\n\"+\n",
       "     \"</code>\\n\"+\n",
       "     \"</div>\"}};\n",
       "\n",
       "  function display_loaded() {\n",
       "    const el = document.getElementById(\"p1001\");\n",
       "    if (el != null) {\n",
       "      el.textContent = \"BokehJS is loading...\";\n",
       "    }\n",
       "    if (root.Bokeh !== undefined) {\n",
       "      if (el != null) {\n",
       "        el.textContent = \"BokehJS \" + root.Bokeh.version + \" successfully loaded.\";\n",
       "      }\n",
       "    } else if (Date.now() < root._bokeh_timeout) {\n",
       "      setTimeout(display_loaded, 100)\n",
       "    }\n",
       "  }\n",
       "\n",
       "  function run_callbacks() {\n",
       "    try {\n",
       "      root._bokeh_onload_callbacks.forEach(function(callback) {\n",
       "        if (callback != null)\n",
       "          callback();\n",
       "      });\n",
       "    } finally {\n",
       "      delete root._bokeh_onload_callbacks\n",
       "    }\n",
       "    console.debug(\"Bokeh: all callbacks have finished\");\n",
       "  }\n",
       "\n",
       "  function load_libs(css_urls, js_urls, callback) {\n",
       "    if (css_urls == null) css_urls = [];\n",
       "    if (js_urls == null) js_urls = [];\n",
       "\n",
       "    root._bokeh_onload_callbacks.push(callback);\n",
       "    if (root._bokeh_is_loading > 0) {\n",
       "      console.debug(\"Bokeh: BokehJS is being loaded, scheduling callback at\", now());\n",
       "      return null;\n",
       "    }\n",
       "    if (js_urls == null || js_urls.length === 0) {\n",
       "      run_callbacks();\n",
       "      return null;\n",
       "    }\n",
       "    console.debug(\"Bokeh: BokehJS not loaded, scheduling load and callback at\", now());\n",
       "    root._bokeh_is_loading = css_urls.length + js_urls.length;\n",
       "\n",
       "    function on_load() {\n",
       "      root._bokeh_is_loading--;\n",
       "      if (root._bokeh_is_loading === 0) {\n",
       "        console.debug(\"Bokeh: all BokehJS libraries/stylesheets loaded\");\n",
       "        run_callbacks()\n",
       "      }\n",
       "    }\n",
       "\n",
       "    function on_error(url) {\n",
       "      console.error(\"failed to load \" + url);\n",
       "    }\n",
       "\n",
       "    for (let i = 0; i < css_urls.length; i++) {\n",
       "      const url = css_urls[i];\n",
       "      const element = document.createElement(\"link\");\n",
       "      element.onload = on_load;\n",
       "      element.onerror = on_error.bind(null, url);\n",
       "      element.rel = \"stylesheet\";\n",
       "      element.type = \"text/css\";\n",
       "      element.href = url;\n",
       "      console.debug(\"Bokeh: injecting link tag for BokehJS stylesheet: \", url);\n",
       "      document.body.appendChild(element);\n",
       "    }\n",
       "\n",
       "    for (let i = 0; i < js_urls.length; i++) {\n",
       "      const url = js_urls[i];\n",
       "      const element = document.createElement('script');\n",
       "      element.onload = on_load;\n",
       "      element.onerror = on_error.bind(null, url);\n",
       "      element.async = false;\n",
       "      element.src = url;\n",
       "      console.debug(\"Bokeh: injecting script tag for BokehJS library: \", url);\n",
       "      document.head.appendChild(element);\n",
       "    }\n",
       "  };\n",
       "\n",
       "  function inject_raw_css(css) {\n",
       "    const element = document.createElement(\"style\");\n",
       "    element.appendChild(document.createTextNode(css));\n",
       "    document.body.appendChild(element);\n",
       "  }\n",
       "\n",
       "  const js_urls = [\"https://cdn.bokeh.org/bokeh/release/bokeh-3.1.0.min.js\", \"https://cdn.bokeh.org/bokeh/release/bokeh-gl-3.1.0.min.js\", \"https://cdn.bokeh.org/bokeh/release/bokeh-widgets-3.1.0.min.js\", \"https://cdn.bokeh.org/bokeh/release/bokeh-tables-3.1.0.min.js\", \"https://cdn.bokeh.org/bokeh/release/bokeh-mathjax-3.1.0.min.js\"];\n",
       "  const css_urls = [];\n",
       "\n",
       "  const inline_js = [    function(Bokeh) {\n",
       "      Bokeh.set_log_level(\"info\");\n",
       "    },\n",
       "function(Bokeh) {\n",
       "    }\n",
       "  ];\n",
       "\n",
       "  function run_inline_js() {\n",
       "    if (root.Bokeh !== undefined || force === true) {\n",
       "          for (let i = 0; i < inline_js.length; i++) {\n",
       "      inline_js[i].call(root, root.Bokeh);\n",
       "    }\n",
       "if (force === true) {\n",
       "        display_loaded();\n",
       "      }} else if (Date.now() < root._bokeh_timeout) {\n",
       "      setTimeout(run_inline_js, 100);\n",
       "    } else if (!root._bokeh_failed_load) {\n",
       "      console.log(\"Bokeh: BokehJS failed to load within specified timeout.\");\n",
       "      root._bokeh_failed_load = true;\n",
       "    } else if (force !== true) {\n",
       "      const cell = $(document.getElementById(\"p1001\")).parents('.cell').data().cell;\n",
       "      cell.output_area.append_execute_result(NB_LOAD_WARNING)\n",
       "    }\n",
       "  }\n",
       "\n",
       "  if (root._bokeh_is_loading === 0) {\n",
       "    console.debug(\"Bokeh: BokehJS loaded, going straight to plotting\");\n",
       "    run_inline_js();\n",
       "  } else {\n",
       "    load_libs(css_urls, js_urls, function() {\n",
       "      console.debug(\"Bokeh: BokehJS plotting callback run at\", now());\n",
       "      run_inline_js();\n",
       "    });\n",
       "  }\n",
       "}(window));"
      ],
      "application/vnd.bokehjs_load.v0+json": "(function(root) {\n  function now() {\n    return new Date();\n  }\n\n  const force = true;\n\n  if (typeof root._bokeh_onload_callbacks === \"undefined\" || force === true) {\n    root._bokeh_onload_callbacks = [];\n    root._bokeh_is_loading = undefined;\n  }\n\n\n  if (typeof (root._bokeh_timeout) === \"undefined\" || force === true) {\n    root._bokeh_timeout = Date.now() + 5000;\n    root._bokeh_failed_load = false;\n  }\n\n  const NB_LOAD_WARNING = {'data': {'text/html':\n     \"<div style='background-color: #fdd'>\\n\"+\n     \"<p>\\n\"+\n     \"BokehJS does not appear to have successfully loaded. If loading BokehJS from CDN, this \\n\"+\n     \"may be due to a slow or bad network connection. Possible fixes:\\n\"+\n     \"</p>\\n\"+\n     \"<ul>\\n\"+\n     \"<li>re-rerun `output_notebook()` to attempt to load from CDN again, or</li>\\n\"+\n     \"<li>use INLINE resources instead, as so:</li>\\n\"+\n     \"</ul>\\n\"+\n     \"<code>\\n\"+\n     \"from bokeh.resources import INLINE\\n\"+\n     \"output_notebook(resources=INLINE)\\n\"+\n     \"</code>\\n\"+\n     \"</div>\"}};\n\n  function display_loaded() {\n    const el = document.getElementById(\"p1001\");\n    if (el != null) {\n      el.textContent = \"BokehJS is loading...\";\n    }\n    if (root.Bokeh !== undefined) {\n      if (el != null) {\n        el.textContent = \"BokehJS \" + root.Bokeh.version + \" successfully loaded.\";\n      }\n    } else if (Date.now() < root._bokeh_timeout) {\n      setTimeout(display_loaded, 100)\n    }\n  }\n\n  function run_callbacks() {\n    try {\n      root._bokeh_onload_callbacks.forEach(function(callback) {\n        if (callback != null)\n          callback();\n      });\n    } finally {\n      delete root._bokeh_onload_callbacks\n    }\n    console.debug(\"Bokeh: all callbacks have finished\");\n  }\n\n  function load_libs(css_urls, js_urls, callback) {\n    if (css_urls == null) css_urls = [];\n    if (js_urls == null) js_urls = [];\n\n    root._bokeh_onload_callbacks.push(callback);\n    if (root._bokeh_is_loading > 0) {\n      console.debug(\"Bokeh: BokehJS is being loaded, scheduling callback at\", now());\n      return null;\n    }\n    if (js_urls == null || js_urls.length === 0) {\n      run_callbacks();\n      return null;\n    }\n    console.debug(\"Bokeh: BokehJS not loaded, scheduling load and callback at\", now());\n    root._bokeh_is_loading = css_urls.length + js_urls.length;\n\n    function on_load() {\n      root._bokeh_is_loading--;\n      if (root._bokeh_is_loading === 0) {\n        console.debug(\"Bokeh: all BokehJS libraries/stylesheets loaded\");\n        run_callbacks()\n      }\n    }\n\n    function on_error(url) {\n      console.error(\"failed to load \" + url);\n    }\n\n    for (let i = 0; i < css_urls.length; i++) {\n      const url = css_urls[i];\n      const element = document.createElement(\"link\");\n      element.onload = on_load;\n      element.onerror = on_error.bind(null, url);\n      element.rel = \"stylesheet\";\n      element.type = \"text/css\";\n      element.href = url;\n      console.debug(\"Bokeh: injecting link tag for BokehJS stylesheet: \", url);\n      document.body.appendChild(element);\n    }\n\n    for (let i = 0; i < js_urls.length; i++) {\n      const url = js_urls[i];\n      const element = document.createElement('script');\n      element.onload = on_load;\n      element.onerror = on_error.bind(null, url);\n      element.async = false;\n      element.src = url;\n      console.debug(\"Bokeh: injecting script tag for BokehJS library: \", url);\n      document.head.appendChild(element);\n    }\n  };\n\n  function inject_raw_css(css) {\n    const element = document.createElement(\"style\");\n    element.appendChild(document.createTextNode(css));\n    document.body.appendChild(element);\n  }\n\n  const js_urls = [\"https://cdn.bokeh.org/bokeh/release/bokeh-3.1.0.min.js\", \"https://cdn.bokeh.org/bokeh/release/bokeh-gl-3.1.0.min.js\", \"https://cdn.bokeh.org/bokeh/release/bokeh-widgets-3.1.0.min.js\", \"https://cdn.bokeh.org/bokeh/release/bokeh-tables-3.1.0.min.js\", \"https://cdn.bokeh.org/bokeh/release/bokeh-mathjax-3.1.0.min.js\"];\n  const css_urls = [];\n\n  const inline_js = [    function(Bokeh) {\n      Bokeh.set_log_level(\"info\");\n    },\nfunction(Bokeh) {\n    }\n  ];\n\n  function run_inline_js() {\n    if (root.Bokeh !== undefined || force === true) {\n          for (let i = 0; i < inline_js.length; i++) {\n      inline_js[i].call(root, root.Bokeh);\n    }\nif (force === true) {\n        display_loaded();\n      }} else if (Date.now() < root._bokeh_timeout) {\n      setTimeout(run_inline_js, 100);\n    } else if (!root._bokeh_failed_load) {\n      console.log(\"Bokeh: BokehJS failed to load within specified timeout.\");\n      root._bokeh_failed_load = true;\n    } else if (force !== true) {\n      const cell = $(document.getElementById(\"p1001\")).parents('.cell').data().cell;\n      cell.output_area.append_execute_result(NB_LOAD_WARNING)\n    }\n  }\n\n  if (root._bokeh_is_loading === 0) {\n    console.debug(\"Bokeh: BokehJS loaded, going straight to plotting\");\n    run_inline_js();\n  } else {\n    load_libs(css_urls, js_urls, function() {\n      console.debug(\"Bokeh: BokehJS plotting callback run at\", now());\n      run_inline_js();\n    });\n  }\n}(window));"
     },
     "metadata": {},
     "output_type": "display_data"
    }
   ],
   "source": [
    "from main import Agent\n",
    "from main import Environment\n",
    "\n",
    "from bokeh.io import output_notebook\n",
    "import bokeh.plotting as plt\n",
    "import numpy as np\n",
    "from tqdm.auto import tqdm\n",
    "\n",
    "import skopt\n",
    "from skopt import BayesSearchCV\n",
    "from skopt.space import Real, Integer\n",
    "\n",
    "np.int = np.int64  # https://github.com/scikit-optimize/scikit-optimize/issues/1171\n",
    "\n",
    "import logging\n",
    "from pprint import pprint\n",
    "\n",
    "\n",
    "output_notebook()"
   ]
  },
  {
   "cell_type": "code",
   "execution_count": 2,
   "id": "b433fd90-13b4-4c47-9d71-dd56533edf11",
   "metadata": {
    "execution": {
     "iopub.execute_input": "2023-06-22T13:54:02.967074Z",
     "iopub.status.busy": "2023-06-22T13:54:02.966305Z",
     "iopub.status.idle": "2023-06-22T14:32:53.329815Z",
     "shell.execute_reply": "2023-06-22T14:32:53.329220Z",
     "shell.execute_reply.started": "2023-06-22T13:54:02.967036Z"
    },
    "tags": []
   },
   "outputs": [
    {
     "data": {
      "application/vnd.jupyter.widget-view+json": {
       "model_id": "a1af80e18baa4601a0bc338fd5c0f7cc",
       "version_major": 2,
       "version_minor": 0
      },
      "text/plain": [
       "Hyper-param search:   0%|          | 0/100 [00:00<?, ?it/s]"
      ]
     },
     "metadata": {},
     "output_type": "display_data"
    },
    {
     "data": {
      "application/vnd.jupyter.widget-view+json": {
       "model_id": "",
       "version_major": 2,
       "version_minor": 0
      },
      "text/plain": [
       "Running 200 agents, gov size 10, 28 itx/t, 1000 ticks:   0%|          | 0/1000 [00:00<?, ?it/s]"
      ]
     },
     "metadata": {},
     "output_type": "display_data"
    },
    {
     "name": "stderr",
     "output_type": "stream",
     "text": [
      "/home/x/.cache/pypoetry/virtualenvs/multi-agent-system-LaaiSmjF-py3.11/lib/python3.11/site-packages/numpy/polynomial/chebyshev.py:1671: RankWarning: The fit may be poorly conditioned\n",
      "  return pu._fit(chebvander, x, y, deg, rcond, full, w)\n"
     ]
    },
    {
     "data": {
      "application/vnd.jupyter.widget-view+json": {
       "model_id": "",
       "version_major": 2,
       "version_minor": 0
      },
      "text/plain": [
       "Running 200 agents, gov size 10, 28 itx/t, 1000 ticks:   0%|          | 0/1000 [00:00<?, ?it/s]"
      ]
     },
     "metadata": {},
     "output_type": "display_data"
    },
    {
     "data": {
      "application/vnd.jupyter.widget-view+json": {
       "model_id": "",
       "version_major": 2,
       "version_minor": 0
      },
      "text/plain": [
       "Running 200 agents, gov size 10, 28 itx/t, 1000 ticks:   0%|          | 0/1000 [00:00<?, ?it/s]"
      ]
     },
     "metadata": {},
     "output_type": "display_data"
    },
    {
     "data": {
      "application/vnd.jupyter.widget-view+json": {
       "model_id": "",
       "version_major": 2,
       "version_minor": 0
      },
      "text/plain": [
       "Running 200 agents, gov size 10, 28 itx/t, 1000 ticks:   0%|          | 0/1000 [00:00<?, ?it/s]"
      ]
     },
     "metadata": {},
     "output_type": "display_data"
    },
    {
     "data": {
      "application/vnd.jupyter.widget-view+json": {
       "model_id": "",
       "version_major": 2,
       "version_minor": 0
      },
      "text/plain": [
       "Running 200 agents, gov size 10, 28 itx/t, 1000 ticks:   0%|          | 0/1000 [00:00<?, ?it/s]"
      ]
     },
     "metadata": {},
     "output_type": "display_data"
    },
    {
     "data": {
      "application/vnd.jupyter.widget-view+json": {
       "model_id": "",
       "version_major": 2,
       "version_minor": 0
      },
      "text/plain": [
       "Running 200 agents, gov size 10, 28 itx/t, 1000 ticks:   0%|          | 0/1000 [00:00<?, ?it/s]"
      ]
     },
     "metadata": {},
     "output_type": "display_data"
    },
    {
     "data": {
      "application/vnd.jupyter.widget-view+json": {
       "model_id": "",
       "version_major": 2,
       "version_minor": 0
      },
      "text/plain": [
       "Running 200 agents, gov size 10, 28 itx/t, 1000 ticks:   0%|          | 0/1000 [00:00<?, ?it/s]"
      ]
     },
     "metadata": {},
     "output_type": "display_data"
    },
    {
     "data": {
      "application/vnd.jupyter.widget-view+json": {
       "model_id": "",
       "version_major": 2,
       "version_minor": 0
      },
      "text/plain": [
       "Running 200 agents, gov size 10, 28 itx/t, 1000 ticks:   0%|          | 0/1000 [00:00<?, ?it/s]"
      ]
     },
     "metadata": {},
     "output_type": "display_data"
    },
    {
     "data": {
      "application/vnd.jupyter.widget-view+json": {
       "model_id": "",
       "version_major": 2,
       "version_minor": 0
      },
      "text/plain": [
       "Running 200 agents, gov size 10, 28 itx/t, 1000 ticks:   0%|          | 0/1000 [00:00<?, ?it/s]"
      ]
     },
     "metadata": {},
     "output_type": "display_data"
    },
    {
     "data": {
      "application/vnd.jupyter.widget-view+json": {
       "model_id": "",
       "version_major": 2,
       "version_minor": 0
      },
      "text/plain": [
       "Running 200 agents, gov size 10, 28 itx/t, 1000 ticks:   0%|          | 0/1000 [00:00<?, ?it/s]"
      ]
     },
     "metadata": {},
     "output_type": "display_data"
    },
    {
     "data": {
      "application/vnd.jupyter.widget-view+json": {
       "model_id": "",
       "version_major": 2,
       "version_minor": 0
      },
      "text/plain": [
       "Running 200 agents, gov size 10, 28 itx/t, 1000 ticks:   0%|          | 0/1000 [00:00<?, ?it/s]"
      ]
     },
     "metadata": {},
     "output_type": "display_data"
    },
    {
     "data": {
      "application/vnd.jupyter.widget-view+json": {
       "model_id": "",
       "version_major": 2,
       "version_minor": 0
      },
      "text/plain": [
       "Running 200 agents, gov size 10, 28 itx/t, 1000 ticks:   0%|          | 0/1000 [00:00<?, ?it/s]"
      ]
     },
     "metadata": {},
     "output_type": "display_data"
    },
    {
     "data": {
      "application/vnd.jupyter.widget-view+json": {
       "model_id": "",
       "version_major": 2,
       "version_minor": 0
      },
      "text/plain": [
       "Running 200 agents, gov size 10, 28 itx/t, 1000 ticks:   0%|          | 0/1000 [00:00<?, ?it/s]"
      ]
     },
     "metadata": {},
     "output_type": "display_data"
    },
    {
     "data": {
      "application/vnd.jupyter.widget-view+json": {
       "model_id": "",
       "version_major": 2,
       "version_minor": 0
      },
      "text/plain": [
       "Running 200 agents, gov size 10, 28 itx/t, 1000 ticks:   0%|          | 0/1000 [00:00<?, ?it/s]"
      ]
     },
     "metadata": {},
     "output_type": "display_data"
    },
    {
     "data": {
      "application/vnd.jupyter.widget-view+json": {
       "model_id": "",
       "version_major": 2,
       "version_minor": 0
      },
      "text/plain": [
       "Running 200 agents, gov size 10, 28 itx/t, 1000 ticks:   0%|          | 0/1000 [00:00<?, ?it/s]"
      ]
     },
     "metadata": {},
     "output_type": "display_data"
    },
    {
     "data": {
      "application/vnd.jupyter.widget-view+json": {
       "model_id": "",
       "version_major": 2,
       "version_minor": 0
      },
      "text/plain": [
       "Running 200 agents, gov size 10, 28 itx/t, 1000 ticks:   0%|          | 0/1000 [00:00<?, ?it/s]"
      ]
     },
     "metadata": {},
     "output_type": "display_data"
    },
    {
     "data": {
      "application/vnd.jupyter.widget-view+json": {
       "model_id": "",
       "version_major": 2,
       "version_minor": 0
      },
      "text/plain": [
       "Running 200 agents, gov size 10, 28 itx/t, 1000 ticks:   0%|          | 0/1000 [00:00<?, ?it/s]"
      ]
     },
     "metadata": {},
     "output_type": "display_data"
    },
    {
     "data": {
      "application/vnd.jupyter.widget-view+json": {
       "model_id": "",
       "version_major": 2,
       "version_minor": 0
      },
      "text/plain": [
       "Running 200 agents, gov size 10, 28 itx/t, 1000 ticks:   0%|          | 0/1000 [00:00<?, ?it/s]"
      ]
     },
     "metadata": {},
     "output_type": "display_data"
    },
    {
     "data": {
      "application/vnd.jupyter.widget-view+json": {
       "model_id": "",
       "version_major": 2,
       "version_minor": 0
      },
      "text/plain": [
       "Running 200 agents, gov size 10, 28 itx/t, 1000 ticks:   0%|          | 0/1000 [00:00<?, ?it/s]"
      ]
     },
     "metadata": {},
     "output_type": "display_data"
    },
    {
     "data": {
      "application/vnd.jupyter.widget-view+json": {
       "model_id": "",
       "version_major": 2,
       "version_minor": 0
      },
      "text/plain": [
       "Running 200 agents, gov size 10, 28 itx/t, 1000 ticks:   0%|          | 0/1000 [00:00<?, ?it/s]"
      ]
     },
     "metadata": {},
     "output_type": "display_data"
    },
    {
     "data": {
      "application/vnd.jupyter.widget-view+json": {
       "model_id": "",
       "version_major": 2,
       "version_minor": 0
      },
      "text/plain": [
       "Running 200 agents, gov size 10, 28 itx/t, 1000 ticks:   0%|          | 0/1000 [00:00<?, ?it/s]"
      ]
     },
     "metadata": {},
     "output_type": "display_data"
    },
    {
     "name": "stderr",
     "output_type": "stream",
     "text": [
      "/home/x/.cache/pypoetry/virtualenvs/multi-agent-system-LaaiSmjF-py3.11/lib/python3.11/site-packages/numpy/polynomial/chebyshev.py:1671: RankWarning: The fit may be poorly conditioned\n",
      "  return pu._fit(chebvander, x, y, deg, rcond, full, w)\n"
     ]
    },
    {
     "data": {
      "application/vnd.jupyter.widget-view+json": {
       "model_id": "",
       "version_major": 2,
       "version_minor": 0
      },
      "text/plain": [
       "Running 200 agents, gov size 10, 28 itx/t, 1000 ticks:   0%|          | 0/1000 [00:00<?, ?it/s]"
      ]
     },
     "metadata": {},
     "output_type": "display_data"
    },
    {
     "data": {
      "application/vnd.jupyter.widget-view+json": {
       "model_id": "",
       "version_major": 2,
       "version_minor": 0
      },
      "text/plain": [
       "Running 200 agents, gov size 10, 28 itx/t, 1000 ticks:   0%|          | 0/1000 [00:00<?, ?it/s]"
      ]
     },
     "metadata": {},
     "output_type": "display_data"
    },
    {
     "name": "stderr",
     "output_type": "stream",
     "text": [
      "/home/x/.cache/pypoetry/virtualenvs/multi-agent-system-LaaiSmjF-py3.11/lib/python3.11/site-packages/numpy/polynomial/chebyshev.py:1671: RankWarning: The fit may be poorly conditioned\n",
      "  return pu._fit(chebvander, x, y, deg, rcond, full, w)\n"
     ]
    },
    {
     "data": {
      "application/vnd.jupyter.widget-view+json": {
       "model_id": "",
       "version_major": 2,
       "version_minor": 0
      },
      "text/plain": [
       "Running 200 agents, gov size 10, 28 itx/t, 1000 ticks:   0%|          | 0/1000 [00:00<?, ?it/s]"
      ]
     },
     "metadata": {},
     "output_type": "display_data"
    },
    {
     "data": {
      "application/vnd.jupyter.widget-view+json": {
       "model_id": "",
       "version_major": 2,
       "version_minor": 0
      },
      "text/plain": [
       "Running 200 agents, gov size 10, 28 itx/t, 1000 ticks:   0%|          | 0/1000 [00:00<?, ?it/s]"
      ]
     },
     "metadata": {},
     "output_type": "display_data"
    },
    {
     "name": "stderr",
     "output_type": "stream",
     "text": [
      "/home/x/.cache/pypoetry/virtualenvs/multi-agent-system-LaaiSmjF-py3.11/lib/python3.11/site-packages/numpy/polynomial/chebyshev.py:1671: RankWarning: The fit may be poorly conditioned\n",
      "  return pu._fit(chebvander, x, y, deg, rcond, full, w)\n"
     ]
    },
    {
     "data": {
      "application/vnd.jupyter.widget-view+json": {
       "model_id": "",
       "version_major": 2,
       "version_minor": 0
      },
      "text/plain": [
       "Running 200 agents, gov size 10, 28 itx/t, 1000 ticks:   0%|          | 0/1000 [00:00<?, ?it/s]"
      ]
     },
     "metadata": {},
     "output_type": "display_data"
    },
    {
     "name": "stderr",
     "output_type": "stream",
     "text": [
      "/tmp/ipykernel_15619/3350045052.py:59: RuntimeWarning: invalid value encountered in scalar divide\n",
      "  spread = round(np.std(measures) / np.mean(measures), 3)\n"
     ]
    },
    {
     "data": {
      "application/vnd.jupyter.widget-view+json": {
       "model_id": "",
       "version_major": 2,
       "version_minor": 0
      },
      "text/plain": [
       "Running 200 agents, gov size 10, 28 itx/t, 1000 ticks:   0%|          | 0/1000 [00:00<?, ?it/s]"
      ]
     },
     "metadata": {},
     "output_type": "display_data"
    },
    {
     "name": "stderr",
     "output_type": "stream",
     "text": [
      "/home/x/.cache/pypoetry/virtualenvs/multi-agent-system-LaaiSmjF-py3.11/lib/python3.11/site-packages/numpy/polynomial/chebyshev.py:1671: RankWarning: The fit may be poorly conditioned\n",
      "  return pu._fit(chebvander, x, y, deg, rcond, full, w)\n"
     ]
    },
    {
     "data": {
      "application/vnd.jupyter.widget-view+json": {
       "model_id": "",
       "version_major": 2,
       "version_minor": 0
      },
      "text/plain": [
       "Running 200 agents, gov size 10, 28 itx/t, 1000 ticks:   0%|          | 0/1000 [00:00<?, ?it/s]"
      ]
     },
     "metadata": {},
     "output_type": "display_data"
    },
    {
     "data": {
      "application/vnd.jupyter.widget-view+json": {
       "model_id": "",
       "version_major": 2,
       "version_minor": 0
      },
      "text/plain": [
       "Running 200 agents, gov size 10, 28 itx/t, 1000 ticks:   0%|          | 0/1000 [00:00<?, ?it/s]"
      ]
     },
     "metadata": {},
     "output_type": "display_data"
    },
    {
     "name": "stderr",
     "output_type": "stream",
     "text": [
      "/home/x/.cache/pypoetry/virtualenvs/multi-agent-system-LaaiSmjF-py3.11/lib/python3.11/site-packages/numpy/polynomial/chebyshev.py:1671: RankWarning: The fit may be poorly conditioned\n",
      "  return pu._fit(chebvander, x, y, deg, rcond, full, w)\n"
     ]
    },
    {
     "data": {
      "application/vnd.jupyter.widget-view+json": {
       "model_id": "",
       "version_major": 2,
       "version_minor": 0
      },
      "text/plain": [
       "Running 200 agents, gov size 10, 28 itx/t, 1000 ticks:   0%|          | 0/1000 [00:00<?, ?it/s]"
      ]
     },
     "metadata": {},
     "output_type": "display_data"
    },
    {
     "data": {
      "application/vnd.jupyter.widget-view+json": {
       "model_id": "",
       "version_major": 2,
       "version_minor": 0
      },
      "text/plain": [
       "Running 200 agents, gov size 10, 28 itx/t, 1000 ticks:   0%|          | 0/1000 [00:00<?, ?it/s]"
      ]
     },
     "metadata": {},
     "output_type": "display_data"
    },
    {
     "name": "stderr",
     "output_type": "stream",
     "text": [
      "/home/x/.cache/pypoetry/virtualenvs/multi-agent-system-LaaiSmjF-py3.11/lib/python3.11/site-packages/numpy/polynomial/chebyshev.py:1671: RankWarning: The fit may be poorly conditioned\n",
      "  return pu._fit(chebvander, x, y, deg, rcond, full, w)\n"
     ]
    },
    {
     "data": {
      "application/vnd.jupyter.widget-view+json": {
       "model_id": "",
       "version_major": 2,
       "version_minor": 0
      },
      "text/plain": [
       "Running 200 agents, gov size 10, 28 itx/t, 1000 ticks:   0%|          | 0/1000 [00:00<?, ?it/s]"
      ]
     },
     "metadata": {},
     "output_type": "display_data"
    },
    {
     "name": "stderr",
     "output_type": "stream",
     "text": [
      "/tmp/ipykernel_15619/3350045052.py:59: RuntimeWarning: invalid value encountered in scalar divide\n",
      "  spread = round(np.std(measures) / np.mean(measures), 3)\n"
     ]
    },
    {
     "data": {
      "application/vnd.jupyter.widget-view+json": {
       "model_id": "",
       "version_major": 2,
       "version_minor": 0
      },
      "text/plain": [
       "Running 200 agents, gov size 10, 28 itx/t, 1000 ticks:   0%|          | 0/1000 [00:00<?, ?it/s]"
      ]
     },
     "metadata": {},
     "output_type": "display_data"
    },
    {
     "name": "stderr",
     "output_type": "stream",
     "text": [
      "/home/x/.cache/pypoetry/virtualenvs/multi-agent-system-LaaiSmjF-py3.11/lib/python3.11/site-packages/numpy/polynomial/chebyshev.py:1671: RankWarning: The fit may be poorly conditioned\n",
      "  return pu._fit(chebvander, x, y, deg, rcond, full, w)\n"
     ]
    },
    {
     "data": {
      "application/vnd.jupyter.widget-view+json": {
       "model_id": "",
       "version_major": 2,
       "version_minor": 0
      },
      "text/plain": [
       "Running 200 agents, gov size 10, 28 itx/t, 1000 ticks:   0%|          | 0/1000 [00:00<?, ?it/s]"
      ]
     },
     "metadata": {},
     "output_type": "display_data"
    },
    {
     "name": "stderr",
     "output_type": "stream",
     "text": [
      "/tmp/ipykernel_15619/3350045052.py:59: RuntimeWarning: invalid value encountered in scalar divide\n",
      "  spread = round(np.std(measures) / np.mean(measures), 3)\n"
     ]
    },
    {
     "data": {
      "application/vnd.jupyter.widget-view+json": {
       "model_id": "",
       "version_major": 2,
       "version_minor": 0
      },
      "text/plain": [
       "Running 200 agents, gov size 10, 28 itx/t, 1000 ticks:   0%|          | 0/1000 [00:00<?, ?it/s]"
      ]
     },
     "metadata": {},
     "output_type": "display_data"
    },
    {
     "name": "stderr",
     "output_type": "stream",
     "text": [
      "/home/x/.cache/pypoetry/virtualenvs/multi-agent-system-LaaiSmjF-py3.11/lib/python3.11/site-packages/numpy/polynomial/chebyshev.py:1671: RankWarning: The fit may be poorly conditioned\n",
      "  return pu._fit(chebvander, x, y, deg, rcond, full, w)\n"
     ]
    },
    {
     "data": {
      "application/vnd.jupyter.widget-view+json": {
       "model_id": "",
       "version_major": 2,
       "version_minor": 0
      },
      "text/plain": [
       "Running 200 agents, gov size 10, 28 itx/t, 1000 ticks:   0%|          | 0/1000 [00:00<?, ?it/s]"
      ]
     },
     "metadata": {},
     "output_type": "display_data"
    },
    {
     "data": {
      "application/vnd.jupyter.widget-view+json": {
       "model_id": "",
       "version_major": 2,
       "version_minor": 0
      },
      "text/plain": [
       "Running 200 agents, gov size 10, 28 itx/t, 1000 ticks:   0%|          | 0/1000 [00:00<?, ?it/s]"
      ]
     },
     "metadata": {},
     "output_type": "display_data"
    },
    {
     "name": "stderr",
     "output_type": "stream",
     "text": [
      "/home/x/.cache/pypoetry/virtualenvs/multi-agent-system-LaaiSmjF-py3.11/lib/python3.11/site-packages/numpy/polynomial/chebyshev.py:1671: RankWarning: The fit may be poorly conditioned\n",
      "  return pu._fit(chebvander, x, y, deg, rcond, full, w)\n"
     ]
    },
    {
     "data": {
      "application/vnd.jupyter.widget-view+json": {
       "model_id": "3408de9615e44defb3fc06a60ee598b2",
       "version_major": 2,
       "version_minor": 0
      },
      "text/plain": [
       "Running 200 agents, gov size 10, 28 itx/t, 1000 ticks:   0%|          | 0/1000 [00:00<?, ?it/s]"
      ]
     },
     "metadata": {},
     "output_type": "display_data"
    },
    {
     "name": "stderr",
     "output_type": "stream",
     "text": [
      "/tmp/ipykernel_15619/3350045052.py:59: RuntimeWarning: invalid value encountered in scalar divide\n",
      "  spread = round(np.std(measures) / np.mean(measures), 3)\n"
     ]
    },
    {
     "data": {
      "application/vnd.jupyter.widget-view+json": {
       "model_id": "81b72f3b74da409ba65b6ece0890f848",
       "version_major": 2,
       "version_minor": 0
      },
      "text/plain": [
       "Running 200 agents, gov size 10, 28 itx/t, 1000 ticks:   0%|          | 0/1000 [00:00<?, ?it/s]"
      ]
     },
     "metadata": {},
     "output_type": "display_data"
    },
    {
     "name": "stderr",
     "output_type": "stream",
     "text": [
      "/home/x/.cache/pypoetry/virtualenvs/multi-agent-system-LaaiSmjF-py3.11/lib/python3.11/site-packages/numpy/polynomial/chebyshev.py:1671: RankWarning: The fit may be poorly conditioned\n",
      "  return pu._fit(chebvander, x, y, deg, rcond, full, w)\n"
     ]
    },
    {
     "data": {
      "application/vnd.jupyter.widget-view+json": {
       "model_id": "abf4a71774024a98b183e88b60665f7d",
       "version_major": 2,
       "version_minor": 0
      },
      "text/plain": [
       "Running 200 agents, gov size 10, 28 itx/t, 1000 ticks:   0%|          | 0/1000 [00:00<?, ?it/s]"
      ]
     },
     "metadata": {},
     "output_type": "display_data"
    },
    {
     "name": "stderr",
     "output_type": "stream",
     "text": [
      "/tmp/ipykernel_15619/3350045052.py:59: RuntimeWarning: invalid value encountered in scalar divide\n",
      "  spread = round(np.std(measures) / np.mean(measures), 3)\n"
     ]
    },
    {
     "data": {
      "application/vnd.jupyter.widget-view+json": {
       "model_id": "4eb9790ae73541649cbf1e8f60c6dd5d",
       "version_major": 2,
       "version_minor": 0
      },
      "text/plain": [
       "Running 200 agents, gov size 10, 28 itx/t, 1000 ticks:   0%|          | 0/1000 [00:00<?, ?it/s]"
      ]
     },
     "metadata": {},
     "output_type": "display_data"
    },
    {
     "name": "stderr",
     "output_type": "stream",
     "text": [
      "/home/x/.cache/pypoetry/virtualenvs/multi-agent-system-LaaiSmjF-py3.11/lib/python3.11/site-packages/numpy/polynomial/chebyshev.py:1671: RankWarning: The fit may be poorly conditioned\n",
      "  return pu._fit(chebvander, x, y, deg, rcond, full, w)\n"
     ]
    },
    {
     "data": {
      "application/vnd.jupyter.widget-view+json": {
       "model_id": "6bb0ada982e54b9bbc2bfb128ea29421",
       "version_major": 2,
       "version_minor": 0
      },
      "text/plain": [
       "Running 200 agents, gov size 10, 28 itx/t, 1000 ticks:   0%|          | 0/1000 [00:00<?, ?it/s]"
      ]
     },
     "metadata": {},
     "output_type": "display_data"
    },
    {
     "name": "stderr",
     "output_type": "stream",
     "text": [
      "/tmp/ipykernel_15619/3350045052.py:59: RuntimeWarning: invalid value encountered in scalar divide\n",
      "  spread = round(np.std(measures) / np.mean(measures), 3)\n"
     ]
    },
    {
     "data": {
      "application/vnd.jupyter.widget-view+json": {
       "model_id": "70f8366904004d3f835ac794b6b22422",
       "version_major": 2,
       "version_minor": 0
      },
      "text/plain": [
       "Running 200 agents, gov size 10, 28 itx/t, 1000 ticks:   0%|          | 0/1000 [00:00<?, ?it/s]"
      ]
     },
     "metadata": {},
     "output_type": "display_data"
    },
    {
     "name": "stderr",
     "output_type": "stream",
     "text": [
      "/home/x/.cache/pypoetry/virtualenvs/multi-agent-system-LaaiSmjF-py3.11/lib/python3.11/site-packages/numpy/polynomial/chebyshev.py:1671: RankWarning: The fit may be poorly conditioned\n",
      "  return pu._fit(chebvander, x, y, deg, rcond, full, w)\n"
     ]
    },
    {
     "data": {
      "application/vnd.jupyter.widget-view+json": {
       "model_id": "c64cfdf5459f4cbbbf65eca8f0da1ecc",
       "version_major": 2,
       "version_minor": 0
      },
      "text/plain": [
       "Running 200 agents, gov size 10, 28 itx/t, 1000 ticks:   0%|          | 0/1000 [00:00<?, ?it/s]"
      ]
     },
     "metadata": {},
     "output_type": "display_data"
    },
    {
     "name": "stderr",
     "output_type": "stream",
     "text": [
      "/tmp/ipykernel_15619/3350045052.py:59: RuntimeWarning: invalid value encountered in scalar divide\n",
      "  spread = round(np.std(measures) / np.mean(measures), 3)\n"
     ]
    },
    {
     "data": {
      "application/vnd.jupyter.widget-view+json": {
       "model_id": "e5af850550424763b07dee5d0e5daa7b",
       "version_major": 2,
       "version_minor": 0
      },
      "text/plain": [
       "Running 200 agents, gov size 10, 28 itx/t, 1000 ticks:   0%|          | 0/1000 [00:00<?, ?it/s]"
      ]
     },
     "metadata": {},
     "output_type": "display_data"
    },
    {
     "name": "stderr",
     "output_type": "stream",
     "text": [
      "/home/x/.cache/pypoetry/virtualenvs/multi-agent-system-LaaiSmjF-py3.11/lib/python3.11/site-packages/numpy/polynomial/chebyshev.py:1671: RankWarning: The fit may be poorly conditioned\n",
      "  return pu._fit(chebvander, x, y, deg, rcond, full, w)\n"
     ]
    },
    {
     "data": {
      "application/vnd.jupyter.widget-view+json": {
       "model_id": "ee5be52066fd4a069dbe21ac7558ad83",
       "version_major": 2,
       "version_minor": 0
      },
      "text/plain": [
       "Running 200 agents, gov size 10, 28 itx/t, 1000 ticks:   0%|          | 0/1000 [00:00<?, ?it/s]"
      ]
     },
     "metadata": {},
     "output_type": "display_data"
    },
    {
     "name": "stderr",
     "output_type": "stream",
     "text": [
      "/tmp/ipykernel_15619/3350045052.py:59: RuntimeWarning: invalid value encountered in scalar divide\n",
      "  spread = round(np.std(measures) / np.mean(measures), 3)\n"
     ]
    },
    {
     "data": {
      "application/vnd.jupyter.widget-view+json": {
       "model_id": "b5ac80a55a124d1f8f96e3253d5f4d46",
       "version_major": 2,
       "version_minor": 0
      },
      "text/plain": [
       "Running 200 agents, gov size 10, 28 itx/t, 1000 ticks:   0%|          | 0/1000 [00:00<?, ?it/s]"
      ]
     },
     "metadata": {},
     "output_type": "display_data"
    },
    {
     "name": "stderr",
     "output_type": "stream",
     "text": [
      "/home/x/.cache/pypoetry/virtualenvs/multi-agent-system-LaaiSmjF-py3.11/lib/python3.11/site-packages/numpy/polynomial/chebyshev.py:1671: RankWarning: The fit may be poorly conditioned\n",
      "  return pu._fit(chebvander, x, y, deg, rcond, full, w)\n"
     ]
    },
    {
     "data": {
      "application/vnd.jupyter.widget-view+json": {
       "model_id": "df586f4e92a84ecda6ae052a0fcff193",
       "version_major": 2,
       "version_minor": 0
      },
      "text/plain": [
       "Running 200 agents, gov size 10, 28 itx/t, 1000 ticks:   0%|          | 0/1000 [00:00<?, ?it/s]"
      ]
     },
     "metadata": {},
     "output_type": "display_data"
    },
    {
     "name": "stderr",
     "output_type": "stream",
     "text": [
      "/tmp/ipykernel_15619/3350045052.py:59: RuntimeWarning: invalid value encountered in scalar divide\n",
      "  spread = round(np.std(measures) / np.mean(measures), 3)\n"
     ]
    },
    {
     "data": {
      "application/vnd.jupyter.widget-view+json": {
       "model_id": "afde1a6293f942cb80aaeba2e56d0e69",
       "version_major": 2,
       "version_minor": 0
      },
      "text/plain": [
       "Running 200 agents, gov size 10, 28 itx/t, 1000 ticks:   0%|          | 0/1000 [00:00<?, ?it/s]"
      ]
     },
     "metadata": {},
     "output_type": "display_data"
    },
    {
     "name": "stderr",
     "output_type": "stream",
     "text": [
      "/home/x/.cache/pypoetry/virtualenvs/multi-agent-system-LaaiSmjF-py3.11/lib/python3.11/site-packages/numpy/polynomial/chebyshev.py:1671: RankWarning: The fit may be poorly conditioned\n",
      "  return pu._fit(chebvander, x, y, deg, rcond, full, w)\n"
     ]
    },
    {
     "data": {
      "application/vnd.jupyter.widget-view+json": {
       "model_id": "731c6e0a0ea14d19883cd8ab4859f26c",
       "version_major": 2,
       "version_minor": 0
      },
      "text/plain": [
       "Running 200 agents, gov size 10, 28 itx/t, 1000 ticks:   0%|          | 0/1000 [00:00<?, ?it/s]"
      ]
     },
     "metadata": {},
     "output_type": "display_data"
    },
    {
     "name": "stderr",
     "output_type": "stream",
     "text": [
      "/tmp/ipykernel_15619/3350045052.py:59: RuntimeWarning: invalid value encountered in scalar divide\n",
      "  spread = round(np.std(measures) / np.mean(measures), 3)\n"
     ]
    },
    {
     "data": {
      "application/vnd.jupyter.widget-view+json": {
       "model_id": "e5e13636d43e47528d9c2c8fef23eb64",
       "version_major": 2,
       "version_minor": 0
      },
      "text/plain": [
       "Running 200 agents, gov size 10, 28 itx/t, 1000 ticks:   0%|          | 0/1000 [00:00<?, ?it/s]"
      ]
     },
     "metadata": {},
     "output_type": "display_data"
    },
    {
     "name": "stderr",
     "output_type": "stream",
     "text": [
      "/home/x/.cache/pypoetry/virtualenvs/multi-agent-system-LaaiSmjF-py3.11/lib/python3.11/site-packages/numpy/polynomial/chebyshev.py:1671: RankWarning: The fit may be poorly conditioned\n",
      "  return pu._fit(chebvander, x, y, deg, rcond, full, w)\n"
     ]
    },
    {
     "data": {
      "application/vnd.jupyter.widget-view+json": {
       "model_id": "5883228403c8443b8526cb8351769227",
       "version_major": 2,
       "version_minor": 0
      },
      "text/plain": [
       "Running 200 agents, gov size 10, 28 itx/t, 1000 ticks:   0%|          | 0/1000 [00:00<?, ?it/s]"
      ]
     },
     "metadata": {},
     "output_type": "display_data"
    },
    {
     "data": {
      "application/vnd.jupyter.widget-view+json": {
       "model_id": "6dfdd5502038473cba3d4f134df23e36",
       "version_major": 2,
       "version_minor": 0
      },
      "text/plain": [
       "Running 200 agents, gov size 10, 28 itx/t, 1000 ticks:   0%|          | 0/1000 [00:00<?, ?it/s]"
      ]
     },
     "metadata": {},
     "output_type": "display_data"
    },
    {
     "name": "stderr",
     "output_type": "stream",
     "text": [
      "/home/x/.cache/pypoetry/virtualenvs/multi-agent-system-LaaiSmjF-py3.11/lib/python3.11/site-packages/numpy/polynomial/chebyshev.py:1671: RankWarning: The fit may be poorly conditioned\n",
      "  return pu._fit(chebvander, x, y, deg, rcond, full, w)\n"
     ]
    },
    {
     "data": {
      "application/vnd.jupyter.widget-view+json": {
       "model_id": "289911e23e404370a55f3978448dd6c7",
       "version_major": 2,
       "version_minor": 0
      },
      "text/plain": [
       "Running 200 agents, gov size 10, 28 itx/t, 1000 ticks:   0%|          | 0/1000 [00:00<?, ?it/s]"
      ]
     },
     "metadata": {},
     "output_type": "display_data"
    },
    {
     "name": "stderr",
     "output_type": "stream",
     "text": [
      "/tmp/ipykernel_15619/3350045052.py:59: RuntimeWarning: invalid value encountered in scalar divide\n",
      "  spread = round(np.std(measures) / np.mean(measures), 3)\n"
     ]
    },
    {
     "data": {
      "application/vnd.jupyter.widget-view+json": {
       "model_id": "022a980438094e5592523d6f6d9ae10a",
       "version_major": 2,
       "version_minor": 0
      },
      "text/plain": [
       "Running 200 agents, gov size 10, 28 itx/t, 1000 ticks:   0%|          | 0/1000 [00:00<?, ?it/s]"
      ]
     },
     "metadata": {},
     "output_type": "display_data"
    },
    {
     "name": "stderr",
     "output_type": "stream",
     "text": [
      "/home/x/.cache/pypoetry/virtualenvs/multi-agent-system-LaaiSmjF-py3.11/lib/python3.11/site-packages/numpy/polynomial/chebyshev.py:1671: RankWarning: The fit may be poorly conditioned\n",
      "  return pu._fit(chebvander, x, y, deg, rcond, full, w)\n"
     ]
    },
    {
     "data": {
      "application/vnd.jupyter.widget-view+json": {
       "model_id": "be947eb985484f418379d445fb2a6730",
       "version_major": 2,
       "version_minor": 0
      },
      "text/plain": [
       "Running 200 agents, gov size 10, 28 itx/t, 1000 ticks:   0%|          | 0/1000 [00:00<?, ?it/s]"
      ]
     },
     "metadata": {},
     "output_type": "display_data"
    },
    {
     "name": "stderr",
     "output_type": "stream",
     "text": [
      "/tmp/ipykernel_15619/3350045052.py:59: RuntimeWarning: invalid value encountered in scalar divide\n",
      "  spread = round(np.std(measures) / np.mean(measures), 3)\n"
     ]
    },
    {
     "data": {
      "application/vnd.jupyter.widget-view+json": {
       "model_id": "e0bc1586c48c41c3950be63edbb3914b",
       "version_major": 2,
       "version_minor": 0
      },
      "text/plain": [
       "Running 200 agents, gov size 10, 28 itx/t, 1000 ticks:   0%|          | 0/1000 [00:00<?, ?it/s]"
      ]
     },
     "metadata": {},
     "output_type": "display_data"
    },
    {
     "name": "stderr",
     "output_type": "stream",
     "text": [
      "/home/x/.cache/pypoetry/virtualenvs/multi-agent-system-LaaiSmjF-py3.11/lib/python3.11/site-packages/numpy/polynomial/chebyshev.py:1671: RankWarning: The fit may be poorly conditioned\n",
      "  return pu._fit(chebvander, x, y, deg, rcond, full, w)\n"
     ]
    },
    {
     "data": {
      "application/vnd.jupyter.widget-view+json": {
       "model_id": "450d9f668bfa4a91b45e7cb031b1bc2b",
       "version_major": 2,
       "version_minor": 0
      },
      "text/plain": [
       "Running 200 agents, gov size 10, 28 itx/t, 1000 ticks:   0%|          | 0/1000 [00:00<?, ?it/s]"
      ]
     },
     "metadata": {},
     "output_type": "display_data"
    },
    {
     "name": "stderr",
     "output_type": "stream",
     "text": [
      "/tmp/ipykernel_15619/3350045052.py:59: RuntimeWarning: invalid value encountered in scalar divide\n",
      "  spread = round(np.std(measures) / np.mean(measures), 3)\n"
     ]
    },
    {
     "data": {
      "application/vnd.jupyter.widget-view+json": {
       "model_id": "92abc287fd6c480e9619009125a15131",
       "version_major": 2,
       "version_minor": 0
      },
      "text/plain": [
       "Running 200 agents, gov size 10, 28 itx/t, 1000 ticks:   0%|          | 0/1000 [00:00<?, ?it/s]"
      ]
     },
     "metadata": {},
     "output_type": "display_data"
    },
    {
     "name": "stderr",
     "output_type": "stream",
     "text": [
      "/home/x/.cache/pypoetry/virtualenvs/multi-agent-system-LaaiSmjF-py3.11/lib/python3.11/site-packages/numpy/polynomial/chebyshev.py:1671: RankWarning: The fit may be poorly conditioned\n",
      "  return pu._fit(chebvander, x, y, deg, rcond, full, w)\n"
     ]
    },
    {
     "data": {
      "application/vnd.jupyter.widget-view+json": {
       "model_id": "872f28e8762843c796a02d694d798e16",
       "version_major": 2,
       "version_minor": 0
      },
      "text/plain": [
       "Running 200 agents, gov size 10, 28 itx/t, 1000 ticks:   0%|          | 0/1000 [00:00<?, ?it/s]"
      ]
     },
     "metadata": {},
     "output_type": "display_data"
    },
    {
     "name": "stderr",
     "output_type": "stream",
     "text": [
      "/tmp/ipykernel_15619/3350045052.py:59: RuntimeWarning: invalid value encountered in scalar divide\n",
      "  spread = round(np.std(measures) / np.mean(measures), 3)\n"
     ]
    },
    {
     "data": {
      "application/vnd.jupyter.widget-view+json": {
       "model_id": "09ebab1867ad435eb10e3aa3e888e26d",
       "version_major": 2,
       "version_minor": 0
      },
      "text/plain": [
       "Running 200 agents, gov size 10, 28 itx/t, 1000 ticks:   0%|          | 0/1000 [00:00<?, ?it/s]"
      ]
     },
     "metadata": {},
     "output_type": "display_data"
    },
    {
     "name": "stderr",
     "output_type": "stream",
     "text": [
      "/home/x/.cache/pypoetry/virtualenvs/multi-agent-system-LaaiSmjF-py3.11/lib/python3.11/site-packages/numpy/polynomial/chebyshev.py:1671: RankWarning: The fit may be poorly conditioned\n",
      "  return pu._fit(chebvander, x, y, deg, rcond, full, w)\n"
     ]
    },
    {
     "data": {
      "application/vnd.jupyter.widget-view+json": {
       "model_id": "ef8a8b8355d24f5fabd80dcd50f925c0",
       "version_major": 2,
       "version_minor": 0
      },
      "text/plain": [
       "Running 200 agents, gov size 10, 28 itx/t, 1000 ticks:   0%|          | 0/1000 [00:00<?, ?it/s]"
      ]
     },
     "metadata": {},
     "output_type": "display_data"
    },
    {
     "name": "stderr",
     "output_type": "stream",
     "text": [
      "/tmp/ipykernel_15619/3350045052.py:59: RuntimeWarning: invalid value encountered in scalar divide\n",
      "  spread = round(np.std(measures) / np.mean(measures), 3)\n"
     ]
    },
    {
     "data": {
      "application/vnd.jupyter.widget-view+json": {
       "model_id": "a26d82b41ac64304bae7ad74990ae3bd",
       "version_major": 2,
       "version_minor": 0
      },
      "text/plain": [
       "Running 200 agents, gov size 10, 28 itx/t, 1000 ticks:   0%|          | 0/1000 [00:00<?, ?it/s]"
      ]
     },
     "metadata": {},
     "output_type": "display_data"
    },
    {
     "name": "stderr",
     "output_type": "stream",
     "text": [
      "/home/x/.cache/pypoetry/virtualenvs/multi-agent-system-LaaiSmjF-py3.11/lib/python3.11/site-packages/numpy/polynomial/chebyshev.py:1671: RankWarning: The fit may be poorly conditioned\n",
      "  return pu._fit(chebvander, x, y, deg, rcond, full, w)\n"
     ]
    },
    {
     "data": {
      "application/vnd.jupyter.widget-view+json": {
       "model_id": "61599ed5c9b849ea8f159d7b8853cba7",
       "version_major": 2,
       "version_minor": 0
      },
      "text/plain": [
       "Running 200 agents, gov size 10, 28 itx/t, 1000 ticks:   0%|          | 0/1000 [00:00<?, ?it/s]"
      ]
     },
     "metadata": {},
     "output_type": "display_data"
    },
    {
     "name": "stderr",
     "output_type": "stream",
     "text": [
      "/tmp/ipykernel_15619/3350045052.py:59: RuntimeWarning: invalid value encountered in scalar divide\n",
      "  spread = round(np.std(measures) / np.mean(measures), 3)\n"
     ]
    },
    {
     "data": {
      "application/vnd.jupyter.widget-view+json": {
       "model_id": "2c801bdba81741c9bae8837d209df695",
       "version_major": 2,
       "version_minor": 0
      },
      "text/plain": [
       "Running 200 agents, gov size 10, 28 itx/t, 1000 ticks:   0%|          | 0/1000 [00:00<?, ?it/s]"
      ]
     },
     "metadata": {},
     "output_type": "display_data"
    },
    {
     "name": "stderr",
     "output_type": "stream",
     "text": [
      "/home/x/.cache/pypoetry/virtualenvs/multi-agent-system-LaaiSmjF-py3.11/lib/python3.11/site-packages/numpy/polynomial/chebyshev.py:1671: RankWarning: The fit may be poorly conditioned\n",
      "  return pu._fit(chebvander, x, y, deg, rcond, full, w)\n"
     ]
    },
    {
     "data": {
      "application/vnd.jupyter.widget-view+json": {
       "model_id": "bdee908aa989456e877dd2eea2dd04f8",
       "version_major": 2,
       "version_minor": 0
      },
      "text/plain": [
       "Running 200 agents, gov size 10, 28 itx/t, 1000 ticks:   0%|          | 0/1000 [00:00<?, ?it/s]"
      ]
     },
     "metadata": {},
     "output_type": "display_data"
    },
    {
     "name": "stderr",
     "output_type": "stream",
     "text": [
      "/tmp/ipykernel_15619/3350045052.py:59: RuntimeWarning: invalid value encountered in scalar divide\n",
      "  spread = round(np.std(measures) / np.mean(measures), 3)\n"
     ]
    },
    {
     "data": {
      "application/vnd.jupyter.widget-view+json": {
       "model_id": "36cea469bfc3463ca9fcebd2470c9fc4",
       "version_major": 2,
       "version_minor": 0
      },
      "text/plain": [
       "Running 200 agents, gov size 10, 28 itx/t, 1000 ticks:   0%|          | 0/1000 [00:00<?, ?it/s]"
      ]
     },
     "metadata": {},
     "output_type": "display_data"
    },
    {
     "name": "stderr",
     "output_type": "stream",
     "text": [
      "/home/x/.cache/pypoetry/virtualenvs/multi-agent-system-LaaiSmjF-py3.11/lib/python3.11/site-packages/numpy/polynomial/chebyshev.py:1671: RankWarning: The fit may be poorly conditioned\n",
      "  return pu._fit(chebvander, x, y, deg, rcond, full, w)\n"
     ]
    },
    {
     "data": {
      "application/vnd.jupyter.widget-view+json": {
       "model_id": "",
       "version_major": 2,
       "version_minor": 0
      },
      "text/plain": [
       "Running 200 agents, gov size 10, 28 itx/t, 1000 ticks:   0%|          | 0/1000 [00:00<?, ?it/s]"
      ]
     },
     "metadata": {},
     "output_type": "display_data"
    },
    {
     "name": "stderr",
     "output_type": "stream",
     "text": [
      "/tmp/ipykernel_15619/3350045052.py:59: RuntimeWarning: invalid value encountered in scalar divide\n",
      "  spread = round(np.std(measures) / np.mean(measures), 3)\n"
     ]
    },
    {
     "data": {
      "application/vnd.jupyter.widget-view+json": {
       "model_id": "",
       "version_major": 2,
       "version_minor": 0
      },
      "text/plain": [
       "Running 200 agents, gov size 10, 28 itx/t, 1000 ticks:   0%|          | 0/1000 [00:00<?, ?it/s]"
      ]
     },
     "metadata": {},
     "output_type": "display_data"
    },
    {
     "name": "stderr",
     "output_type": "stream",
     "text": [
      "/home/x/.cache/pypoetry/virtualenvs/multi-agent-system-LaaiSmjF-py3.11/lib/python3.11/site-packages/numpy/polynomial/chebyshev.py:1671: RankWarning: The fit may be poorly conditioned\n",
      "  return pu._fit(chebvander, x, y, deg, rcond, full, w)\n"
     ]
    },
    {
     "data": {
      "application/vnd.jupyter.widget-view+json": {
       "model_id": "",
       "version_major": 2,
       "version_minor": 0
      },
      "text/plain": [
       "Running 200 agents, gov size 10, 28 itx/t, 1000 ticks:   0%|          | 0/1000 [00:00<?, ?it/s]"
      ]
     },
     "metadata": {},
     "output_type": "display_data"
    },
    {
     "name": "stderr",
     "output_type": "stream",
     "text": [
      "/tmp/ipykernel_15619/3350045052.py:59: RuntimeWarning: invalid value encountered in scalar divide\n",
      "  spread = round(np.std(measures) / np.mean(measures), 3)\n"
     ]
    },
    {
     "data": {
      "application/vnd.jupyter.widget-view+json": {
       "model_id": "",
       "version_major": 2,
       "version_minor": 0
      },
      "text/plain": [
       "Running 200 agents, gov size 10, 28 itx/t, 1000 ticks:   0%|          | 0/1000 [00:00<?, ?it/s]"
      ]
     },
     "metadata": {},
     "output_type": "display_data"
    },
    {
     "name": "stderr",
     "output_type": "stream",
     "text": [
      "/home/x/.cache/pypoetry/virtualenvs/multi-agent-system-LaaiSmjF-py3.11/lib/python3.11/site-packages/numpy/polynomial/chebyshev.py:1671: RankWarning: The fit may be poorly conditioned\n",
      "  return pu._fit(chebvander, x, y, deg, rcond, full, w)\n"
     ]
    },
    {
     "data": {
      "application/vnd.jupyter.widget-view+json": {
       "model_id": "",
       "version_major": 2,
       "version_minor": 0
      },
      "text/plain": [
       "Running 200 agents, gov size 10, 28 itx/t, 1000 ticks:   0%|          | 0/1000 [00:00<?, ?it/s]"
      ]
     },
     "metadata": {},
     "output_type": "display_data"
    },
    {
     "data": {
      "application/vnd.jupyter.widget-view+json": {
       "model_id": "",
       "version_major": 2,
       "version_minor": 0
      },
      "text/plain": [
       "Running 200 agents, gov size 10, 28 itx/t, 1000 ticks:   0%|          | 0/1000 [00:00<?, ?it/s]"
      ]
     },
     "metadata": {},
     "output_type": "display_data"
    },
    {
     "name": "stderr",
     "output_type": "stream",
     "text": [
      "/home/x/.cache/pypoetry/virtualenvs/multi-agent-system-LaaiSmjF-py3.11/lib/python3.11/site-packages/numpy/polynomial/chebyshev.py:1671: RankWarning: The fit may be poorly conditioned\n",
      "  return pu._fit(chebvander, x, y, deg, rcond, full, w)\n"
     ]
    },
    {
     "data": {
      "application/vnd.jupyter.widget-view+json": {
       "model_id": "",
       "version_major": 2,
       "version_minor": 0
      },
      "text/plain": [
       "Running 200 agents, gov size 10, 28 itx/t, 1000 ticks:   0%|          | 0/1000 [00:00<?, ?it/s]"
      ]
     },
     "metadata": {},
     "output_type": "display_data"
    },
    {
     "name": "stderr",
     "output_type": "stream",
     "text": [
      "/tmp/ipykernel_15619/3350045052.py:59: RuntimeWarning: invalid value encountered in scalar divide\n",
      "  spread = round(np.std(measures) / np.mean(measures), 3)\n"
     ]
    },
    {
     "data": {
      "application/vnd.jupyter.widget-view+json": {
       "model_id": "",
       "version_major": 2,
       "version_minor": 0
      },
      "text/plain": [
       "Running 200 agents, gov size 10, 28 itx/t, 1000 ticks:   0%|          | 0/1000 [00:00<?, ?it/s]"
      ]
     },
     "metadata": {},
     "output_type": "display_data"
    },
    {
     "name": "stderr",
     "output_type": "stream",
     "text": [
      "/home/x/.cache/pypoetry/virtualenvs/multi-agent-system-LaaiSmjF-py3.11/lib/python3.11/site-packages/numpy/polynomial/chebyshev.py:1671: RankWarning: The fit may be poorly conditioned\n",
      "  return pu._fit(chebvander, x, y, deg, rcond, full, w)\n"
     ]
    },
    {
     "data": {
      "application/vnd.jupyter.widget-view+json": {
       "model_id": "",
       "version_major": 2,
       "version_minor": 0
      },
      "text/plain": [
       "Running 200 agents, gov size 10, 28 itx/t, 1000 ticks:   0%|          | 0/1000 [00:00<?, ?it/s]"
      ]
     },
     "metadata": {},
     "output_type": "display_data"
    },
    {
     "name": "stderr",
     "output_type": "stream",
     "text": [
      "/tmp/ipykernel_15619/3350045052.py:59: RuntimeWarning: invalid value encountered in scalar divide\n",
      "  spread = round(np.std(measures) / np.mean(measures), 3)\n"
     ]
    },
    {
     "data": {
      "application/vnd.jupyter.widget-view+json": {
       "model_id": "",
       "version_major": 2,
       "version_minor": 0
      },
      "text/plain": [
       "Running 200 agents, gov size 10, 28 itx/t, 1000 ticks:   0%|          | 0/1000 [00:00<?, ?it/s]"
      ]
     },
     "metadata": {},
     "output_type": "display_data"
    },
    {
     "name": "stderr",
     "output_type": "stream",
     "text": [
      "/home/x/.cache/pypoetry/virtualenvs/multi-agent-system-LaaiSmjF-py3.11/lib/python3.11/site-packages/numpy/polynomial/chebyshev.py:1671: RankWarning: The fit may be poorly conditioned\n",
      "  return pu._fit(chebvander, x, y, deg, rcond, full, w)\n"
     ]
    },
    {
     "data": {
      "application/vnd.jupyter.widget-view+json": {
       "model_id": "",
       "version_major": 2,
       "version_minor": 0
      },
      "text/plain": [
       "Running 200 agents, gov size 10, 28 itx/t, 1000 ticks:   0%|          | 0/1000 [00:00<?, ?it/s]"
      ]
     },
     "metadata": {},
     "output_type": "display_data"
    },
    {
     "data": {
      "application/vnd.jupyter.widget-view+json": {
       "model_id": "",
       "version_major": 2,
       "version_minor": 0
      },
      "text/plain": [
       "Running 200 agents, gov size 10, 28 itx/t, 1000 ticks:   0%|          | 0/1000 [00:00<?, ?it/s]"
      ]
     },
     "metadata": {},
     "output_type": "display_data"
    },
    {
     "name": "stderr",
     "output_type": "stream",
     "text": [
      "/home/x/.cache/pypoetry/virtualenvs/multi-agent-system-LaaiSmjF-py3.11/lib/python3.11/site-packages/numpy/polynomial/chebyshev.py:1671: RankWarning: The fit may be poorly conditioned\n",
      "  return pu._fit(chebvander, x, y, deg, rcond, full, w)\n"
     ]
    },
    {
     "data": {
      "application/vnd.jupyter.widget-view+json": {
       "model_id": "",
       "version_major": 2,
       "version_minor": 0
      },
      "text/plain": [
       "Running 200 agents, gov size 10, 28 itx/t, 1000 ticks:   0%|          | 0/1000 [00:00<?, ?it/s]"
      ]
     },
     "metadata": {},
     "output_type": "display_data"
    },
    {
     "name": "stderr",
     "output_type": "stream",
     "text": [
      "/tmp/ipykernel_15619/3350045052.py:59: RuntimeWarning: invalid value encountered in scalar divide\n",
      "  spread = round(np.std(measures) / np.mean(measures), 3)\n"
     ]
    },
    {
     "data": {
      "application/vnd.jupyter.widget-view+json": {
       "model_id": "",
       "version_major": 2,
       "version_minor": 0
      },
      "text/plain": [
       "Running 200 agents, gov size 10, 28 itx/t, 1000 ticks:   0%|          | 0/1000 [00:00<?, ?it/s]"
      ]
     },
     "metadata": {},
     "output_type": "display_data"
    },
    {
     "name": "stderr",
     "output_type": "stream",
     "text": [
      "/home/x/.cache/pypoetry/virtualenvs/multi-agent-system-LaaiSmjF-py3.11/lib/python3.11/site-packages/numpy/polynomial/chebyshev.py:1671: RankWarning: The fit may be poorly conditioned\n",
      "  return pu._fit(chebvander, x, y, deg, rcond, full, w)\n"
     ]
    },
    {
     "data": {
      "application/vnd.jupyter.widget-view+json": {
       "model_id": "",
       "version_major": 2,
       "version_minor": 0
      },
      "text/plain": [
       "Running 200 agents, gov size 10, 28 itx/t, 1000 ticks:   0%|          | 0/1000 [00:00<?, ?it/s]"
      ]
     },
     "metadata": {},
     "output_type": "display_data"
    },
    {
     "name": "stderr",
     "output_type": "stream",
     "text": [
      "/tmp/ipykernel_15619/3350045052.py:59: RuntimeWarning: invalid value encountered in scalar divide\n",
      "  spread = round(np.std(measures) / np.mean(measures), 3)\n"
     ]
    },
    {
     "data": {
      "application/vnd.jupyter.widget-view+json": {
       "model_id": "",
       "version_major": 2,
       "version_minor": 0
      },
      "text/plain": [
       "Running 200 agents, gov size 10, 28 itx/t, 1000 ticks:   0%|          | 0/1000 [00:00<?, ?it/s]"
      ]
     },
     "metadata": {},
     "output_type": "display_data"
    },
    {
     "name": "stderr",
     "output_type": "stream",
     "text": [
      "/home/x/.cache/pypoetry/virtualenvs/multi-agent-system-LaaiSmjF-py3.11/lib/python3.11/site-packages/numpy/polynomial/chebyshev.py:1671: RankWarning: The fit may be poorly conditioned\n",
      "  return pu._fit(chebvander, x, y, deg, rcond, full, w)\n"
     ]
    },
    {
     "data": {
      "application/vnd.jupyter.widget-view+json": {
       "model_id": "",
       "version_major": 2,
       "version_minor": 0
      },
      "text/plain": [
       "Running 200 agents, gov size 10, 28 itx/t, 1000 ticks:   0%|          | 0/1000 [00:00<?, ?it/s]"
      ]
     },
     "metadata": {},
     "output_type": "display_data"
    },
    {
     "data": {
      "application/vnd.jupyter.widget-view+json": {
       "model_id": "",
       "version_major": 2,
       "version_minor": 0
      },
      "text/plain": [
       "Running 200 agents, gov size 10, 28 itx/t, 1000 ticks:   0%|          | 0/1000 [00:00<?, ?it/s]"
      ]
     },
     "metadata": {},
     "output_type": "display_data"
    },
    {
     "name": "stderr",
     "output_type": "stream",
     "text": [
      "/home/x/.cache/pypoetry/virtualenvs/multi-agent-system-LaaiSmjF-py3.11/lib/python3.11/site-packages/numpy/polynomial/chebyshev.py:1671: RankWarning: The fit may be poorly conditioned\n",
      "  return pu._fit(chebvander, x, y, deg, rcond, full, w)\n"
     ]
    },
    {
     "data": {
      "application/vnd.jupyter.widget-view+json": {
       "model_id": "",
       "version_major": 2,
       "version_minor": 0
      },
      "text/plain": [
       "Running 200 agents, gov size 10, 28 itx/t, 1000 ticks:   0%|          | 0/1000 [00:00<?, ?it/s]"
      ]
     },
     "metadata": {},
     "output_type": "display_data"
    },
    {
     "data": {
      "application/vnd.jupyter.widget-view+json": {
       "model_id": "",
       "version_major": 2,
       "version_minor": 0
      },
      "text/plain": [
       "Running 200 agents, gov size 10, 28 itx/t, 1000 ticks:   0%|          | 0/1000 [00:00<?, ?it/s]"
      ]
     },
     "metadata": {},
     "output_type": "display_data"
    },
    {
     "name": "stderr",
     "output_type": "stream",
     "text": [
      "/home/x/.cache/pypoetry/virtualenvs/multi-agent-system-LaaiSmjF-py3.11/lib/python3.11/site-packages/numpy/polynomial/chebyshev.py:1671: RankWarning: The fit may be poorly conditioned\n",
      "  return pu._fit(chebvander, x, y, deg, rcond, full, w)\n"
     ]
    },
    {
     "data": {
      "application/vnd.jupyter.widget-view+json": {
       "model_id": "",
       "version_major": 2,
       "version_minor": 0
      },
      "text/plain": [
       "Running 200 agents, gov size 10, 28 itx/t, 1000 ticks:   0%|          | 0/1000 [00:00<?, ?it/s]"
      ]
     },
     "metadata": {},
     "output_type": "display_data"
    },
    {
     "name": "stderr",
     "output_type": "stream",
     "text": [
      "/tmp/ipykernel_15619/3350045052.py:59: RuntimeWarning: invalid value encountered in scalar divide\n",
      "  spread = round(np.std(measures) / np.mean(measures), 3)\n"
     ]
    },
    {
     "data": {
      "application/vnd.jupyter.widget-view+json": {
       "model_id": "",
       "version_major": 2,
       "version_minor": 0
      },
      "text/plain": [
       "Running 200 agents, gov size 10, 28 itx/t, 1000 ticks:   0%|          | 0/1000 [00:00<?, ?it/s]"
      ]
     },
     "metadata": {},
     "output_type": "display_data"
    },
    {
     "name": "stderr",
     "output_type": "stream",
     "text": [
      "/home/x/.cache/pypoetry/virtualenvs/multi-agent-system-LaaiSmjF-py3.11/lib/python3.11/site-packages/numpy/polynomial/chebyshev.py:1671: RankWarning: The fit may be poorly conditioned\n",
      "  return pu._fit(chebvander, x, y, deg, rcond, full, w)\n"
     ]
    },
    {
     "data": {
      "application/vnd.jupyter.widget-view+json": {
       "model_id": "",
       "version_major": 2,
       "version_minor": 0
      },
      "text/plain": [
       "Running 200 agents, gov size 10, 28 itx/t, 1000 ticks:   0%|          | 0/1000 [00:00<?, ?it/s]"
      ]
     },
     "metadata": {},
     "output_type": "display_data"
    },
    {
     "name": "stderr",
     "output_type": "stream",
     "text": [
      "/tmp/ipykernel_15619/3350045052.py:59: RuntimeWarning: invalid value encountered in scalar divide\n",
      "  spread = round(np.std(measures) / np.mean(measures), 3)\n"
     ]
    },
    {
     "data": {
      "application/vnd.jupyter.widget-view+json": {
       "model_id": "",
       "version_major": 2,
       "version_minor": 0
      },
      "text/plain": [
       "Running 200 agents, gov size 10, 28 itx/t, 1000 ticks:   0%|          | 0/1000 [00:00<?, ?it/s]"
      ]
     },
     "metadata": {},
     "output_type": "display_data"
    },
    {
     "name": "stderr",
     "output_type": "stream",
     "text": [
      "/home/x/.cache/pypoetry/virtualenvs/multi-agent-system-LaaiSmjF-py3.11/lib/python3.11/site-packages/numpy/polynomial/chebyshev.py:1671: RankWarning: The fit may be poorly conditioned\n",
      "  return pu._fit(chebvander, x, y, deg, rcond, full, w)\n"
     ]
    },
    {
     "data": {
      "application/vnd.jupyter.widget-view+json": {
       "model_id": "",
       "version_major": 2,
       "version_minor": 0
      },
      "text/plain": [
       "Running 200 agents, gov size 10, 28 itx/t, 1000 ticks:   0%|          | 0/1000 [00:00<?, ?it/s]"
      ]
     },
     "metadata": {},
     "output_type": "display_data"
    },
    {
     "name": "stderr",
     "output_type": "stream",
     "text": [
      "/tmp/ipykernel_15619/3350045052.py:59: RuntimeWarning: invalid value encountered in scalar divide\n",
      "  spread = round(np.std(measures) / np.mean(measures), 3)\n"
     ]
    },
    {
     "data": {
      "application/vnd.jupyter.widget-view+json": {
       "model_id": "",
       "version_major": 2,
       "version_minor": 0
      },
      "text/plain": [
       "Running 200 agents, gov size 10, 28 itx/t, 1000 ticks:   0%|          | 0/1000 [00:00<?, ?it/s]"
      ]
     },
     "metadata": {},
     "output_type": "display_data"
    },
    {
     "name": "stderr",
     "output_type": "stream",
     "text": [
      "/home/x/.cache/pypoetry/virtualenvs/multi-agent-system-LaaiSmjF-py3.11/lib/python3.11/site-packages/numpy/polynomial/chebyshev.py:1671: RankWarning: The fit may be poorly conditioned\n",
      "  return pu._fit(chebvander, x, y, deg, rcond, full, w)\n"
     ]
    },
    {
     "data": {
      "application/vnd.jupyter.widget-view+json": {
       "model_id": "",
       "version_major": 2,
       "version_minor": 0
      },
      "text/plain": [
       "Running 200 agents, gov size 10, 28 itx/t, 1000 ticks:   0%|          | 0/1000 [00:00<?, ?it/s]"
      ]
     },
     "metadata": {},
     "output_type": "display_data"
    },
    {
     "name": "stderr",
     "output_type": "stream",
     "text": [
      "/tmp/ipykernel_15619/3350045052.py:59: RuntimeWarning: invalid value encountered in scalar divide\n",
      "  spread = round(np.std(measures) / np.mean(measures), 3)\n"
     ]
    },
    {
     "data": {
      "application/vnd.jupyter.widget-view+json": {
       "model_id": "",
       "version_major": 2,
       "version_minor": 0
      },
      "text/plain": [
       "Running 200 agents, gov size 10, 28 itx/t, 1000 ticks:   0%|          | 0/1000 [00:00<?, ?it/s]"
      ]
     },
     "metadata": {},
     "output_type": "display_data"
    },
    {
     "name": "stderr",
     "output_type": "stream",
     "text": [
      "/home/x/.cache/pypoetry/virtualenvs/multi-agent-system-LaaiSmjF-py3.11/lib/python3.11/site-packages/numpy/polynomial/chebyshev.py:1671: RankWarning: The fit may be poorly conditioned\n",
      "  return pu._fit(chebvander, x, y, deg, rcond, full, w)\n"
     ]
    },
    {
     "data": {
      "application/vnd.jupyter.widget-view+json": {
       "model_id": "",
       "version_major": 2,
       "version_minor": 0
      },
      "text/plain": [
       "Running 200 agents, gov size 10, 28 itx/t, 1000 ticks:   0%|          | 0/1000 [00:00<?, ?it/s]"
      ]
     },
     "metadata": {},
     "output_type": "display_data"
    },
    {
     "name": "stderr",
     "output_type": "stream",
     "text": [
      "/tmp/ipykernel_15619/3350045052.py:59: RuntimeWarning: invalid value encountered in scalar divide\n",
      "  spread = round(np.std(measures) / np.mean(measures), 3)\n"
     ]
    },
    {
     "data": {
      "application/vnd.jupyter.widget-view+json": {
       "model_id": "",
       "version_major": 2,
       "version_minor": 0
      },
      "text/plain": [
       "Running 200 agents, gov size 10, 28 itx/t, 1000 ticks:   0%|          | 0/1000 [00:00<?, ?it/s]"
      ]
     },
     "metadata": {},
     "output_type": "display_data"
    },
    {
     "name": "stderr",
     "output_type": "stream",
     "text": [
      "/home/x/.cache/pypoetry/virtualenvs/multi-agent-system-LaaiSmjF-py3.11/lib/python3.11/site-packages/numpy/polynomial/chebyshev.py:1671: RankWarning: The fit may be poorly conditioned\n",
      "  return pu._fit(chebvander, x, y, deg, rcond, full, w)\n"
     ]
    },
    {
     "data": {
      "application/vnd.jupyter.widget-view+json": {
       "model_id": "",
       "version_major": 2,
       "version_minor": 0
      },
      "text/plain": [
       "Running 200 agents, gov size 10, 28 itx/t, 1000 ticks:   0%|          | 0/1000 [00:00<?, ?it/s]"
      ]
     },
     "metadata": {},
     "output_type": "display_data"
    },
    {
     "name": "stderr",
     "output_type": "stream",
     "text": [
      "/tmp/ipykernel_15619/3350045052.py:59: RuntimeWarning: invalid value encountered in scalar divide\n",
      "  spread = round(np.std(measures) / np.mean(measures), 3)\n"
     ]
    },
    {
     "data": {
      "application/vnd.jupyter.widget-view+json": {
       "model_id": "",
       "version_major": 2,
       "version_minor": 0
      },
      "text/plain": [
       "Running 200 agents, gov size 10, 28 itx/t, 1000 ticks:   0%|          | 0/1000 [00:00<?, ?it/s]"
      ]
     },
     "metadata": {},
     "output_type": "display_data"
    },
    {
     "name": "stderr",
     "output_type": "stream",
     "text": [
      "/home/x/.cache/pypoetry/virtualenvs/multi-agent-system-LaaiSmjF-py3.11/lib/python3.11/site-packages/numpy/polynomial/chebyshev.py:1671: RankWarning: The fit may be poorly conditioned\n",
      "  return pu._fit(chebvander, x, y, deg, rcond, full, w)\n"
     ]
    },
    {
     "data": {
      "application/vnd.jupyter.widget-view+json": {
       "model_id": "",
       "version_major": 2,
       "version_minor": 0
      },
      "text/plain": [
       "Running 200 agents, gov size 10, 28 itx/t, 1000 ticks:   0%|          | 0/1000 [00:00<?, ?it/s]"
      ]
     },
     "metadata": {},
     "output_type": "display_data"
    },
    {
     "name": "stderr",
     "output_type": "stream",
     "text": [
      "/tmp/ipykernel_15619/3350045052.py:59: RuntimeWarning: invalid value encountered in scalar divide\n",
      "  spread = round(np.std(measures) / np.mean(measures), 3)\n"
     ]
    },
    {
     "data": {
      "text/html": [
       "\n",
       "  <div id=\"7959bd24-f7e5-4cd1-ac85-7ab97a1dd03a\" data-root-id=\"p1002\" style=\"display: contents;\"></div>\n"
      ]
     },
     "metadata": {},
     "output_type": "display_data"
    },
    {
     "data": {
      "application/javascript": [
       "(function(root) {\n",
       "  function embed_document(root) {\n",
       "  const docs_json = {\"e00f9f4f-656e-4b8d-9b5b-81b383a227c4\":{\"version\":\"3.1.0\",\"title\":\"Bokeh Application\",\"defs\":[],\"roots\":[{\"type\":\"object\",\"name\":\"Figure\",\"id\":\"p1002\",\"attributes\":{\"x_range\":{\"type\":\"object\",\"name\":\"DataRange1d\",\"id\":\"p1004\"},\"y_range\":{\"type\":\"object\",\"name\":\"DataRange1d\",\"id\":\"p1003\"},\"x_scale\":{\"type\":\"object\",\"name\":\"LinearScale\",\"id\":\"p1016\"},\"y_scale\":{\"type\":\"object\",\"name\":\"LinearScale\",\"id\":\"p1018\"},\"title\":{\"type\":\"object\",\"name\":\"Title\",\"id\":\"p1005\",\"attributes\":{\"text\":\"auc_improvement\"}},\"renderers\":[{\"type\":\"object\",\"name\":\"GlyphRenderer\",\"id\":\"p1055\",\"attributes\":{\"data_source\":{\"type\":\"object\",\"name\":\"ColumnDataSource\",\"id\":\"p1049\",\"attributes\":{\"selected\":{\"type\":\"object\",\"name\":\"Selection\",\"id\":\"p1050\",\"attributes\":{\"indices\":[],\"line_indices\":[]}},\"selection_policy\":{\"type\":\"object\",\"name\":\"UnionRenderers\",\"id\":\"p1051\"},\"data\":{\"type\":\"map\",\"entries\":[[\"left\",[{\"type\":\"ndarray\",\"array\":{\"type\":\"bytes\",\"data\":\"AgAAAAIAAAAEAAAAAAAAAAAAAAABAAAAEgAAAAsAAAAAAAAAAgAAAA==\"},\"shape\":[10],\"dtype\":\"int32\",\"order\":\"little\"},{\"type\":\"ndarray\",\"array\":{\"type\":\"bytes\",\"data\":\"QmDl0CLb2T/+1HjpJjHkP9z5fmq8dOs/XI/C9Shc8T/LoUW28/30Pzq0yHa+n/g/qMZLN4lB/D8W2c73U+P/P8P1KFyPwgFA+n5qvHSTA0AxCKwcWmQFQA==\"},\"shape\":[11],\"dtype\":\"float64\",\"order\":\"little\"}]]]}}},\"view\":{\"type\":\"object\",\"name\":\"CDSView\",\"id\":\"p1056\",\"attributes\":{\"filter\":{\"type\":\"object\",\"name\":\"AllIndices\",\"id\":\"p1057\"}}},\"glyph\":{\"type\":\"object\",\"name\":\"Quad\",\"id\":\"p1052\",\"attributes\":{\"left\":{\"type\":\"field\",\"field\":\"left\"},\"line_color\":{\"type\":\"value\",\"value\":\"#1f77b4\"},\"fill_color\":{\"type\":\"value\",\"value\":\"#1f77b4\"}}},\"nonselection_glyph\":{\"type\":\"object\",\"name\":\"Quad\",\"id\":\"p1053\",\"attributes\":{\"left\":{\"type\":\"field\",\"field\":\"left\"},\"line_color\":{\"type\":\"value\",\"value\":\"#1f77b4\"},\"line_alpha\":{\"type\":\"value\",\"value\":0.1},\"fill_color\":{\"type\":\"value\",\"value\":\"#1f77b4\"},\"fill_alpha\":{\"type\":\"value\",\"value\":0.1},\"hatch_alpha\":{\"type\":\"value\",\"value\":0.1}}},\"muted_glyph\":{\"type\":\"object\",\"name\":\"Quad\",\"id\":\"p1054\",\"attributes\":{\"left\":{\"type\":\"field\",\"field\":\"left\"},\"line_color\":{\"type\":\"value\",\"value\":\"#1f77b4\"},\"line_alpha\":{\"type\":\"value\",\"value\":0.2},\"fill_color\":{\"type\":\"value\",\"value\":\"#1f77b4\"},\"fill_alpha\":{\"type\":\"value\",\"value\":0.2},\"hatch_alpha\":{\"type\":\"value\",\"value\":0.2}}}}}],\"toolbar\":{\"type\":\"object\",\"name\":\"Toolbar\",\"id\":\"p1009\",\"attributes\":{\"tools\":[{\"type\":\"object\",\"name\":\"PanTool\",\"id\":\"p1034\"},{\"type\":\"object\",\"name\":\"WheelZoomTool\",\"id\":\"p1035\"},{\"type\":\"object\",\"name\":\"BoxZoomTool\",\"id\":\"p1036\",\"attributes\":{\"overlay\":{\"type\":\"object\",\"name\":\"BoxAnnotation\",\"id\":\"p1037\",\"attributes\":{\"syncable\":false,\"level\":\"overlay\",\"visible\":false,\"left_units\":\"canvas\",\"right_units\":\"canvas\",\"bottom_units\":\"canvas\",\"top_units\":\"canvas\",\"line_color\":\"black\",\"line_alpha\":1.0,\"line_width\":2,\"line_dash\":[4,4],\"fill_color\":\"lightgrey\",\"fill_alpha\":0.5}}}},{\"type\":\"object\",\"name\":\"SaveTool\",\"id\":\"p1038\"},{\"type\":\"object\",\"name\":\"ResetTool\",\"id\":\"p1039\"},{\"type\":\"object\",\"name\":\"HelpTool\",\"id\":\"p1040\"}]}},\"left\":[{\"type\":\"object\",\"name\":\"LinearAxis\",\"id\":\"p1027\",\"attributes\":{\"ticker\":{\"type\":\"object\",\"name\":\"BasicTicker\",\"id\":\"p1030\",\"attributes\":{\"mantissas\":[1,2,5]}},\"formatter\":{\"type\":\"object\",\"name\":\"BasicTickFormatter\",\"id\":\"p1029\"},\"major_label_policy\":{\"type\":\"object\",\"name\":\"AllLabels\",\"id\":\"p1028\"}}}],\"below\":[{\"type\":\"object\",\"name\":\"LinearAxis\",\"id\":\"p1020\",\"attributes\":{\"ticker\":{\"type\":\"object\",\"name\":\"BasicTicker\",\"id\":\"p1023\",\"attributes\":{\"mantissas\":[1,2,5]}},\"formatter\":{\"type\":\"object\",\"name\":\"BasicTickFormatter\",\"id\":\"p1022\"},\"major_label_policy\":{\"type\":\"object\",\"name\":\"AllLabels\",\"id\":\"p1021\"}}}],\"center\":[{\"type\":\"object\",\"name\":\"Grid\",\"id\":\"p1026\",\"attributes\":{\"axis\":{\"id\":\"p1020\"}}},{\"type\":\"object\",\"name\":\"Grid\",\"id\":\"p1033\",\"attributes\":{\"dimension\":1,\"axis\":{\"id\":\"p1027\"}}}]}}],\"callbacks\":{\"type\":\"map\"}}};\n",
       "  const render_items = [{\"docid\":\"e00f9f4f-656e-4b8d-9b5b-81b383a227c4\",\"roots\":{\"p1002\":\"7959bd24-f7e5-4cd1-ac85-7ab97a1dd03a\"},\"root_ids\":[\"p1002\"]}];\n",
       "  root.Bokeh.embed.embed_items_notebook(docs_json, render_items);\n",
       "  }\n",
       "  if (root.Bokeh !== undefined) {\n",
       "    embed_document(root);\n",
       "  } else {\n",
       "    let attempts = 0;\n",
       "    const timer = setInterval(function(root) {\n",
       "      if (root.Bokeh !== undefined) {\n",
       "        clearInterval(timer);\n",
       "        embed_document(root);\n",
       "      } else {\n",
       "        attempts++;\n",
       "        if (attempts > 100) {\n",
       "          clearInterval(timer);\n",
       "          console.log(\"Bokeh: ERROR: Unable to run BokehJS code because BokehJS library is missing\");\n",
       "        }\n",
       "      }\n",
       "    }, 10, root)\n",
       "  }\n",
       "})(window);"
      ],
      "application/vnd.bokehjs_exec.v0+json": ""
     },
     "metadata": {
      "application/vnd.bokehjs_exec.v0+json": {
       "id": "p1002"
      }
     },
     "output_type": "display_data"
    },
    {
     "name": "stdout",
     "output_type": "stream",
     "text": [
      "auc_improvement [1.992, 1.992, 1.984, 1.983, 1.988, 1.988, 1.996, 1.996, 1.761, 1.781, 1.876, 2.051, 1.986, 1.986, 1.988, 1.988, 1.992, 1.992, 1.994, 1.994, 1.984, 1.984, 1.998, 1.998, 1.998, 1.998, 0.884, 0.694, 0.82, 1.077, 1.998, 1.998, 2.674, 2.589, 0.404, 0.412, 1.007, 1.068, 1.988, 1.988]\n"
     ]
    },
    {
     "data": {
      "text/html": [
       "\n",
       "  <div id=\"602a12c1-ccdd-4a8d-b964-af820c06fc99\" data-root-id=\"p1138\" style=\"display: contents;\"></div>\n"
      ]
     },
     "metadata": {},
     "output_type": "display_data"
    },
    {
     "data": {
      "application/javascript": [
       "(function(root) {\n",
       "  function embed_document(root) {\n",
       "  const docs_json = {\"ba33d7df-1dfa-4cb3-931d-09c8b16254d5\":{\"version\":\"3.1.0\",\"title\":\"Bokeh Application\",\"defs\":[],\"roots\":[{\"type\":\"object\",\"name\":\"Figure\",\"id\":\"p1138\",\"attributes\":{\"x_range\":{\"type\":\"object\",\"name\":\"DataRange1d\",\"id\":\"p1140\"},\"y_range\":{\"type\":\"object\",\"name\":\"DataRange1d\",\"id\":\"p1139\"},\"x_scale\":{\"type\":\"object\",\"name\":\"LinearScale\",\"id\":\"p1152\"},\"y_scale\":{\"type\":\"object\",\"name\":\"LinearScale\",\"id\":\"p1154\"},\"title\":{\"type\":\"object\",\"name\":\"Title\",\"id\":\"p1141\",\"attributes\":{\"text\":\"reasonable_solved\"}},\"renderers\":[{\"type\":\"object\",\"name\":\"GlyphRenderer\",\"id\":\"p1191\",\"attributes\":{\"data_source\":{\"type\":\"object\",\"name\":\"ColumnDataSource\",\"id\":\"p1185\",\"attributes\":{\"selected\":{\"type\":\"object\",\"name\":\"Selection\",\"id\":\"p1186\",\"attributes\":{\"indices\":[],\"line_indices\":[]}},\"selection_policy\":{\"type\":\"object\",\"name\":\"UnionRenderers\",\"id\":\"p1187\"},\"data\":{\"type\":\"map\",\"entries\":[[\"left\",[{\"type\":\"ndarray\",\"array\":{\"type\":\"bytes\",\"data\":\"HAAAAAIAAAAAAAAAAAAAAAEAAAADAAAAAQAAAAEAAAABAAAAAwAAAA==\"},\"shape\":[10],\"dtype\":\"int32\",\"order\":\"little\"},{\"type\":\"ndarray\",\"array\":{\"type\":\"bytes\",\"data\":\"/Knx0k1iYD/+Q/rt68C5P1Z9rrZif8k/VuwvuycP0z8Cmggbnl7ZP65H4XoUrt8/rPpcbcX+4j+CUUmdgCbmP1ioNc07Tuk/Lv8h/fZ17D8EVg4tsp3vPw==\"},\"shape\":[11],\"dtype\":\"float64\",\"order\":\"little\"}]]]}}},\"view\":{\"type\":\"object\",\"name\":\"CDSView\",\"id\":\"p1192\",\"attributes\":{\"filter\":{\"type\":\"object\",\"name\":\"AllIndices\",\"id\":\"p1193\"}}},\"glyph\":{\"type\":\"object\",\"name\":\"Quad\",\"id\":\"p1188\",\"attributes\":{\"left\":{\"type\":\"field\",\"field\":\"left\"},\"line_color\":{\"type\":\"value\",\"value\":\"#1f77b4\"},\"fill_color\":{\"type\":\"value\",\"value\":\"#1f77b4\"}}},\"nonselection_glyph\":{\"type\":\"object\",\"name\":\"Quad\",\"id\":\"p1189\",\"attributes\":{\"left\":{\"type\":\"field\",\"field\":\"left\"},\"line_color\":{\"type\":\"value\",\"value\":\"#1f77b4\"},\"line_alpha\":{\"type\":\"value\",\"value\":0.1},\"fill_color\":{\"type\":\"value\",\"value\":\"#1f77b4\"},\"fill_alpha\":{\"type\":\"value\",\"value\":0.1},\"hatch_alpha\":{\"type\":\"value\",\"value\":0.1}}},\"muted_glyph\":{\"type\":\"object\",\"name\":\"Quad\",\"id\":\"p1190\",\"attributes\":{\"left\":{\"type\":\"field\",\"field\":\"left\"},\"line_color\":{\"type\":\"value\",\"value\":\"#1f77b4\"},\"line_alpha\":{\"type\":\"value\",\"value\":0.2},\"fill_color\":{\"type\":\"value\",\"value\":\"#1f77b4\"},\"fill_alpha\":{\"type\":\"value\",\"value\":0.2},\"hatch_alpha\":{\"type\":\"value\",\"value\":0.2}}}}}],\"toolbar\":{\"type\":\"object\",\"name\":\"Toolbar\",\"id\":\"p1145\",\"attributes\":{\"tools\":[{\"type\":\"object\",\"name\":\"PanTool\",\"id\":\"p1170\"},{\"type\":\"object\",\"name\":\"WheelZoomTool\",\"id\":\"p1171\"},{\"type\":\"object\",\"name\":\"BoxZoomTool\",\"id\":\"p1172\",\"attributes\":{\"overlay\":{\"type\":\"object\",\"name\":\"BoxAnnotation\",\"id\":\"p1173\",\"attributes\":{\"syncable\":false,\"level\":\"overlay\",\"visible\":false,\"left_units\":\"canvas\",\"right_units\":\"canvas\",\"bottom_units\":\"canvas\",\"top_units\":\"canvas\",\"line_color\":\"black\",\"line_alpha\":1.0,\"line_width\":2,\"line_dash\":[4,4],\"fill_color\":\"lightgrey\",\"fill_alpha\":0.5}}}},{\"type\":\"object\",\"name\":\"SaveTool\",\"id\":\"p1174\"},{\"type\":\"object\",\"name\":\"ResetTool\",\"id\":\"p1175\"},{\"type\":\"object\",\"name\":\"HelpTool\",\"id\":\"p1176\"}]}},\"left\":[{\"type\":\"object\",\"name\":\"LinearAxis\",\"id\":\"p1163\",\"attributes\":{\"ticker\":{\"type\":\"object\",\"name\":\"BasicTicker\",\"id\":\"p1166\",\"attributes\":{\"mantissas\":[1,2,5]}},\"formatter\":{\"type\":\"object\",\"name\":\"BasicTickFormatter\",\"id\":\"p1165\"},\"major_label_policy\":{\"type\":\"object\",\"name\":\"AllLabels\",\"id\":\"p1164\"}}}],\"below\":[{\"type\":\"object\",\"name\":\"LinearAxis\",\"id\":\"p1156\",\"attributes\":{\"ticker\":{\"type\":\"object\",\"name\":\"BasicTicker\",\"id\":\"p1159\",\"attributes\":{\"mantissas\":[1,2,5]}},\"formatter\":{\"type\":\"object\",\"name\":\"BasicTickFormatter\",\"id\":\"p1158\"},\"major_label_policy\":{\"type\":\"object\",\"name\":\"AllLabels\",\"id\":\"p1157\"}}}],\"center\":[{\"type\":\"object\",\"name\":\"Grid\",\"id\":\"p1162\",\"attributes\":{\"axis\":{\"id\":\"p1156\"}}},{\"type\":\"object\",\"name\":\"Grid\",\"id\":\"p1169\",\"attributes\":{\"dimension\":1,\"axis\":{\"id\":\"p1163\"}}}]}}],\"callbacks\":{\"type\":\"map\"}}};\n",
       "  const render_items = [{\"docid\":\"ba33d7df-1dfa-4cb3-931d-09c8b16254d5\",\"roots\":{\"p1138\":\"602a12c1-ccdd-4a8d-b964-af820c06fc99\"},\"root_ids\":[\"p1138\"]}];\n",
       "  root.Bokeh.embed.embed_items_notebook(docs_json, render_items);\n",
       "  }\n",
       "  if (root.Bokeh !== undefined) {\n",
       "    embed_document(root);\n",
       "  } else {\n",
       "    let attempts = 0;\n",
       "    const timer = setInterval(function(root) {\n",
       "      if (root.Bokeh !== undefined) {\n",
       "        clearInterval(timer);\n",
       "        embed_document(root);\n",
       "      } else {\n",
       "        attempts++;\n",
       "        if (attempts > 100) {\n",
       "          clearInterval(timer);\n",
       "          console.log(\"Bokeh: ERROR: Unable to run BokehJS code because BokehJS library is missing\");\n",
       "        }\n",
       "      }\n",
       "    }, 10, root)\n",
       "  }\n",
       "})(window);"
      ],
      "application/vnd.bokehjs_exec.v0+json": ""
     },
     "metadata": {
      "application/vnd.bokehjs_exec.v0+json": {
       "id": "p1138"
      }
     },
     "output_type": "display_data"
    },
    {
     "name": "stdout",
     "output_type": "stream",
     "text": [
      "reasonable_solved [0.005, 0.005, 0.009, 0.009, 0.007, 0.007, 0.003, 0.003, 0.122, 0.113, 0.072, 0.071, 0.008, 0.008, 0.007, 0.007, 0.005, 0.005, 0.004, 0.004, 0.009, 0.009, 0.002, 0.002, 0.002, 0.002, 0.601, 0.783, 0.592, 0.566, 0.002, 0.002, 0.975, 0.969, 0.797, 0.988, 0.5, 0.481, 0.007, 0.007]\n"
     ]
    },
    {
     "data": {
      "text/html": [
       "\n",
       "  <div id=\"dbf557da-c9f3-4384-856a-d69bd852f5d4\" data-root-id=\"p1287\" style=\"display: contents;\"></div>\n"
      ]
     },
     "metadata": {},
     "output_type": "display_data"
    },
    {
     "data": {
      "application/javascript": [
       "(function(root) {\n",
       "  function embed_document(root) {\n",
       "  const docs_json = {\"226ebf81-2a39-4161-82e8-ab9ea554a3ee\":{\"version\":\"3.1.0\",\"title\":\"Bokeh Application\",\"defs\":[],\"roots\":[{\"type\":\"object\",\"name\":\"Figure\",\"id\":\"p1287\",\"attributes\":{\"x_range\":{\"type\":\"object\",\"name\":\"DataRange1d\",\"id\":\"p1289\"},\"y_range\":{\"type\":\"object\",\"name\":\"DataRange1d\",\"id\":\"p1288\"},\"x_scale\":{\"type\":\"object\",\"name\":\"LinearScale\",\"id\":\"p1301\"},\"y_scale\":{\"type\":\"object\",\"name\":\"LinearScale\",\"id\":\"p1303\"},\"title\":{\"type\":\"object\",\"name\":\"Title\",\"id\":\"p1290\",\"attributes\":{\"text\":\"poly_stability\"}},\"renderers\":[{\"type\":\"object\",\"name\":\"GlyphRenderer\",\"id\":\"p1340\",\"attributes\":{\"data_source\":{\"type\":\"object\",\"name\":\"ColumnDataSource\",\"id\":\"p1334\",\"attributes\":{\"selected\":{\"type\":\"object\",\"name\":\"Selection\",\"id\":\"p1335\",\"attributes\":{\"indices\":[],\"line_indices\":[]}},\"selection_policy\":{\"type\":\"object\",\"name\":\"UnionRenderers\",\"id\":\"p1336\"},\"data\":{\"type\":\"map\",\"entries\":[[\"left\",[{\"type\":\"ndarray\",\"array\":{\"type\":\"bytes\",\"data\":\"JAAAAAIAAAAAAAAAAQAAAAAAAAAAAAAAAAAAAAAAAAAAAAAAAQAAAA==\"},\"shape\":[10],\"dtype\":\"int32\",\"order\":\"little\"},{\"type\":\"ndarray\",\"array\":{\"type\":\"bytes\",\"data\":\"TDeJQWDloD9seHqlLEPQP/DJw0Ktad4/uY0G8BZI5j97Nqs+V1vtP57vp8ZLN/I//kP67evA9T9fmEwVjEr5P8Dsnjws1Pw/kaD4MeYuAEDByqFFtvMBQA==\"},\"shape\":[11],\"dtype\":\"float64\",\"order\":\"little\"}]]]}}},\"view\":{\"type\":\"object\",\"name\":\"CDSView\",\"id\":\"p1341\",\"attributes\":{\"filter\":{\"type\":\"object\",\"name\":\"AllIndices\",\"id\":\"p1342\"}}},\"glyph\":{\"type\":\"object\",\"name\":\"Quad\",\"id\":\"p1337\",\"attributes\":{\"left\":{\"type\":\"field\",\"field\":\"left\"},\"line_color\":{\"type\":\"value\",\"value\":\"#1f77b4\"},\"fill_color\":{\"type\":\"value\",\"value\":\"#1f77b4\"}}},\"nonselection_glyph\":{\"type\":\"object\",\"name\":\"Quad\",\"id\":\"p1338\",\"attributes\":{\"left\":{\"type\":\"field\",\"field\":\"left\"},\"line_color\":{\"type\":\"value\",\"value\":\"#1f77b4\"},\"line_alpha\":{\"type\":\"value\",\"value\":0.1},\"fill_color\":{\"type\":\"value\",\"value\":\"#1f77b4\"},\"fill_alpha\":{\"type\":\"value\",\"value\":0.1},\"hatch_alpha\":{\"type\":\"value\",\"value\":0.1}}},\"muted_glyph\":{\"type\":\"object\",\"name\":\"Quad\",\"id\":\"p1339\",\"attributes\":{\"left\":{\"type\":\"field\",\"field\":\"left\"},\"line_color\":{\"type\":\"value\",\"value\":\"#1f77b4\"},\"line_alpha\":{\"type\":\"value\",\"value\":0.2},\"fill_color\":{\"type\":\"value\",\"value\":\"#1f77b4\"},\"fill_alpha\":{\"type\":\"value\",\"value\":0.2},\"hatch_alpha\":{\"type\":\"value\",\"value\":0.2}}}}}],\"toolbar\":{\"type\":\"object\",\"name\":\"Toolbar\",\"id\":\"p1294\",\"attributes\":{\"tools\":[{\"type\":\"object\",\"name\":\"PanTool\",\"id\":\"p1319\"},{\"type\":\"object\",\"name\":\"WheelZoomTool\",\"id\":\"p1320\"},{\"type\":\"object\",\"name\":\"BoxZoomTool\",\"id\":\"p1321\",\"attributes\":{\"overlay\":{\"type\":\"object\",\"name\":\"BoxAnnotation\",\"id\":\"p1322\",\"attributes\":{\"syncable\":false,\"level\":\"overlay\",\"visible\":false,\"left_units\":\"canvas\",\"right_units\":\"canvas\",\"bottom_units\":\"canvas\",\"top_units\":\"canvas\",\"line_color\":\"black\",\"line_alpha\":1.0,\"line_width\":2,\"line_dash\":[4,4],\"fill_color\":\"lightgrey\",\"fill_alpha\":0.5}}}},{\"type\":\"object\",\"name\":\"SaveTool\",\"id\":\"p1323\"},{\"type\":\"object\",\"name\":\"ResetTool\",\"id\":\"p1324\"},{\"type\":\"object\",\"name\":\"HelpTool\",\"id\":\"p1325\"}]}},\"left\":[{\"type\":\"object\",\"name\":\"LinearAxis\",\"id\":\"p1312\",\"attributes\":{\"ticker\":{\"type\":\"object\",\"name\":\"BasicTicker\",\"id\":\"p1315\",\"attributes\":{\"mantissas\":[1,2,5]}},\"formatter\":{\"type\":\"object\",\"name\":\"BasicTickFormatter\",\"id\":\"p1314\"},\"major_label_policy\":{\"type\":\"object\",\"name\":\"AllLabels\",\"id\":\"p1313\"}}}],\"below\":[{\"type\":\"object\",\"name\":\"LinearAxis\",\"id\":\"p1305\",\"attributes\":{\"ticker\":{\"type\":\"object\",\"name\":\"BasicTicker\",\"id\":\"p1308\",\"attributes\":{\"mantissas\":[1,2,5]}},\"formatter\":{\"type\":\"object\",\"name\":\"BasicTickFormatter\",\"id\":\"p1307\"},\"major_label_policy\":{\"type\":\"object\",\"name\":\"AllLabels\",\"id\":\"p1306\"}}}],\"center\":[{\"type\":\"object\",\"name\":\"Grid\",\"id\":\"p1311\",\"attributes\":{\"axis\":{\"id\":\"p1305\"}}},{\"type\":\"object\",\"name\":\"Grid\",\"id\":\"p1318\",\"attributes\":{\"dimension\":1,\"axis\":{\"id\":\"p1312\"}}}]}}],\"callbacks\":{\"type\":\"map\"}}};\n",
       "  const render_items = [{\"docid\":\"226ebf81-2a39-4161-82e8-ab9ea554a3ee\",\"roots\":{\"p1287\":\"dbf557da-c9f3-4384-856a-d69bd852f5d4\"},\"root_ids\":[\"p1287\"]}];\n",
       "  root.Bokeh.embed.embed_items_notebook(docs_json, render_items);\n",
       "  }\n",
       "  if (root.Bokeh !== undefined) {\n",
       "    embed_document(root);\n",
       "  } else {\n",
       "    let attempts = 0;\n",
       "    const timer = setInterval(function(root) {\n",
       "      if (root.Bokeh !== undefined) {\n",
       "        clearInterval(timer);\n",
       "        embed_document(root);\n",
       "      } else {\n",
       "        attempts++;\n",
       "        if (attempts > 100) {\n",
       "          clearInterval(timer);\n",
       "          console.log(\"Bokeh: ERROR: Unable to run BokehJS code because BokehJS library is missing\");\n",
       "        }\n",
       "      }\n",
       "    }, 10, root)\n",
       "  }\n",
       "})(window);"
      ],
      "application/vnd.bokehjs_exec.v0+json": ""
     },
     "metadata": {
      "application/vnd.bokehjs_exec.v0+json": {
       "id": "p1287"
      }
     },
     "output_type": "display_data"
    },
    {
     "name": "stdout",
     "output_type": "stream",
     "text": [
      "poly_stability [0.05, 0.036, 0.033, 0.052, 0.162, 0.836, 0.037, 0.099, 0.045, 0.049, 0.108, 0.035, 0.039, 0.077, 0.042, 0.216, 0.057, 0.077, 0.04, 0.046, 0.045, 0.053, 0.193, 0.108, 2.244, 0.27, 0.044, 0.052, 0.043, 0.052, 0.11, 0.107, 0.104, 0.318, 0.037, 0.043, 0.044, 0.053, 0.043, 0.051]\n"
     ]
    },
    {
     "data": {
      "text/html": [
       "\n",
       "  <div id=\"3b90a06d-bcc0-4a6e-b30b-fd5c5b7c4da1\" data-root-id=\"p1449\" style=\"display: contents;\"></div>\n"
      ]
     },
     "metadata": {},
     "output_type": "display_data"
    },
    {
     "data": {
      "application/javascript": [
       "(function(root) {\n",
       "  function embed_document(root) {\n",
       "  const docs_json = {\"1dab3b31-8b1b-411d-a138-d57f5eca09af\":{\"version\":\"3.1.0\",\"title\":\"Bokeh Application\",\"defs\":[],\"roots\":[{\"type\":\"object\",\"name\":\"Figure\",\"id\":\"p1449\",\"attributes\":{\"x_range\":{\"type\":\"object\",\"name\":\"DataRange1d\",\"id\":\"p1451\"},\"y_range\":{\"type\":\"object\",\"name\":\"DataRange1d\",\"id\":\"p1450\"},\"x_scale\":{\"type\":\"object\",\"name\":\"LinearScale\",\"id\":\"p1463\"},\"y_scale\":{\"type\":\"object\",\"name\":\"LinearScale\",\"id\":\"p1465\"},\"title\":{\"type\":\"object\",\"name\":\"Title\",\"id\":\"p1452\",\"attributes\":{\"text\":\"confidence_var\"}},\"renderers\":[{\"type\":\"object\",\"name\":\"GlyphRenderer\",\"id\":\"p1502\",\"attributes\":{\"data_source\":{\"type\":\"object\",\"name\":\"ColumnDataSource\",\"id\":\"p1496\",\"attributes\":{\"selected\":{\"type\":\"object\",\"name\":\"Selection\",\"id\":\"p1497\",\"attributes\":{\"indices\":[],\"line_indices\":[]}},\"selection_policy\":{\"type\":\"object\",\"name\":\"UnionRenderers\",\"id\":\"p1498\"},\"data\":{\"type\":\"map\",\"entries\":[[\"left\",[{\"type\":\"ndarray\",\"array\":{\"type\":\"bytes\",\"data\":\"JAAAAAAAAAAAAAAAAAAAAAAAAAAAAAAAAQAAAAAAAAABAAAAAgAAAA==\"},\"shape\":[10],\"dtype\":\"int32\",\"order\":\"little\"},{\"type\":\"ndarray\",\"array\":{\"type\":\"bytes\",\"data\":\"SgwCK4cWyT/BFyZTBaNPQLuWkA96ll9AyxDHuritZ0A41sVtNJBvQNNNYhBYuXNAirDh6ZWqd0BAE2HD05t7QPd14JwRjX9AV+wvuye/gUCyne+nxreDQA==\"},\"shape\":[11],\"dtype\":\"float64\",\"order\":\"little\"}]]]}}},\"view\":{\"type\":\"object\",\"name\":\"CDSView\",\"id\":\"p1503\",\"attributes\":{\"filter\":{\"type\":\"object\",\"name\":\"AllIndices\",\"id\":\"p1504\"}}},\"glyph\":{\"type\":\"object\",\"name\":\"Quad\",\"id\":\"p1499\",\"attributes\":{\"left\":{\"type\":\"field\",\"field\":\"left\"},\"line_color\":{\"type\":\"value\",\"value\":\"#1f77b4\"},\"fill_color\":{\"type\":\"value\",\"value\":\"#1f77b4\"}}},\"nonselection_glyph\":{\"type\":\"object\",\"name\":\"Quad\",\"id\":\"p1500\",\"attributes\":{\"left\":{\"type\":\"field\",\"field\":\"left\"},\"line_color\":{\"type\":\"value\",\"value\":\"#1f77b4\"},\"line_alpha\":{\"type\":\"value\",\"value\":0.1},\"fill_color\":{\"type\":\"value\",\"value\":\"#1f77b4\"},\"fill_alpha\":{\"type\":\"value\",\"value\":0.1},\"hatch_alpha\":{\"type\":\"value\",\"value\":0.1}}},\"muted_glyph\":{\"type\":\"object\",\"name\":\"Quad\",\"id\":\"p1501\",\"attributes\":{\"left\":{\"type\":\"field\",\"field\":\"left\"},\"line_color\":{\"type\":\"value\",\"value\":\"#1f77b4\"},\"line_alpha\":{\"type\":\"value\",\"value\":0.2},\"fill_color\":{\"type\":\"value\",\"value\":\"#1f77b4\"},\"fill_alpha\":{\"type\":\"value\",\"value\":0.2},\"hatch_alpha\":{\"type\":\"value\",\"value\":0.2}}}}}],\"toolbar\":{\"type\":\"object\",\"name\":\"Toolbar\",\"id\":\"p1456\",\"attributes\":{\"tools\":[{\"type\":\"object\",\"name\":\"PanTool\",\"id\":\"p1481\"},{\"type\":\"object\",\"name\":\"WheelZoomTool\",\"id\":\"p1482\"},{\"type\":\"object\",\"name\":\"BoxZoomTool\",\"id\":\"p1483\",\"attributes\":{\"overlay\":{\"type\":\"object\",\"name\":\"BoxAnnotation\",\"id\":\"p1484\",\"attributes\":{\"syncable\":false,\"level\":\"overlay\",\"visible\":false,\"left_units\":\"canvas\",\"right_units\":\"canvas\",\"bottom_units\":\"canvas\",\"top_units\":\"canvas\",\"line_color\":\"black\",\"line_alpha\":1.0,\"line_width\":2,\"line_dash\":[4,4],\"fill_color\":\"lightgrey\",\"fill_alpha\":0.5}}}},{\"type\":\"object\",\"name\":\"SaveTool\",\"id\":\"p1485\"},{\"type\":\"object\",\"name\":\"ResetTool\",\"id\":\"p1486\"},{\"type\":\"object\",\"name\":\"HelpTool\",\"id\":\"p1487\"}]}},\"left\":[{\"type\":\"object\",\"name\":\"LinearAxis\",\"id\":\"p1474\",\"attributes\":{\"ticker\":{\"type\":\"object\",\"name\":\"BasicTicker\",\"id\":\"p1477\",\"attributes\":{\"mantissas\":[1,2,5]}},\"formatter\":{\"type\":\"object\",\"name\":\"BasicTickFormatter\",\"id\":\"p1476\"},\"major_label_policy\":{\"type\":\"object\",\"name\":\"AllLabels\",\"id\":\"p1475\"}}}],\"below\":[{\"type\":\"object\",\"name\":\"LinearAxis\",\"id\":\"p1467\",\"attributes\":{\"ticker\":{\"type\":\"object\",\"name\":\"BasicTicker\",\"id\":\"p1470\",\"attributes\":{\"mantissas\":[1,2,5]}},\"formatter\":{\"type\":\"object\",\"name\":\"BasicTickFormatter\",\"id\":\"p1469\"},\"major_label_policy\":{\"type\":\"object\",\"name\":\"AllLabels\",\"id\":\"p1468\"}}}],\"center\":[{\"type\":\"object\",\"name\":\"Grid\",\"id\":\"p1473\",\"attributes\":{\"axis\":{\"id\":\"p1467\"}}},{\"type\":\"object\",\"name\":\"Grid\",\"id\":\"p1480\",\"attributes\":{\"dimension\":1,\"axis\":{\"id\":\"p1474\"}}}]}}],\"callbacks\":{\"type\":\"map\"}}};\n",
       "  const render_items = [{\"docid\":\"1dab3b31-8b1b-411d-a138-d57f5eca09af\",\"roots\":{\"p1449\":\"3b90a06d-bcc0-4a6e-b30b-fd5c5b7c4da1\"},\"root_ids\":[\"p1449\"]}];\n",
       "  root.Bokeh.embed.embed_items_notebook(docs_json, render_items);\n",
       "  }\n",
       "  if (root.Bokeh !== undefined) {\n",
       "    embed_document(root);\n",
       "  } else {\n",
       "    let attempts = 0;\n",
       "    const timer = setInterval(function(root) {\n",
       "      if (root.Bokeh !== undefined) {\n",
       "        clearInterval(timer);\n",
       "        embed_document(root);\n",
       "      } else {\n",
       "        attempts++;\n",
       "        if (attempts > 100) {\n",
       "          clearInterval(timer);\n",
       "          console.log(\"Bokeh: ERROR: Unable to run BokehJS code because BokehJS library is missing\");\n",
       "        }\n",
       "      }\n",
       "    }, 10, root)\n",
       "  }\n",
       "})(window);"
      ],
      "application/vnd.bokehjs_exec.v0+json": ""
     },
     "metadata": {
      "application/vnd.bokehjs_exec.v0+json": {
       "id": "p1449"
      }
     },
     "output_type": "display_data"
    },
    {
     "name": "stdout",
     "output_type": "stream",
     "text": [
      "confidence_var [3.709, 3.36, 2.563, 6.325, 0.608, 0.713, 0.71, 0.768, 56.814, 57.242, 0.807, 0.729, 0.565, 0.716, 0.455, 0.572, 0.695, 0.667, 0.737, 0.746, 0.247, 0.251, 0.743, 0.669, 0.213, 0.196, 0.377, 0.273, 0.472, 0.484, 0.507, 0.373, 0.725, 0.794, 531.519, 414.018, 626.418, 630.972, 44.22, 44.8]\n",
      "{'agent_confidence_gain': 0.5,\n",
      " 'agent_convo_disagreement': 0.5,\n",
      " 'agent_evolve_rate': 0.5,\n",
      " 'agent_poly_degree': 10,\n",
      " 'gov_term': 30,\n",
      " 'issue_solving_disagreement': 0.01,\n",
      " 'num_issues': 10}\n"
     ]
    }
   ],
   "source": [
    "SAMPLES = 2\n",
    "SEARCH_CALLS = 50\n",
    "\n",
    "BAR = tqdm(desc='Hyper-param search', total=SEARCH_CALLS * SAMPLES)\n",
    "OBJ_LOG = []\n",
    "\n",
    "space = [\n",
    "    #Integer(, 200, name='max_agents'),\n",
    "    Integer(3, 10, name='num_issues'),\n",
    "    Integer(30, 100, name='gov_term'),\n",
    "    Real(0.01, 5, name='issue_solving_disagreement'),\n",
    "\n",
    "    Real(0.1, 0.5, name='agent_convo_disagreement'),\n",
    "    Real(0.01, 0.5, name='agent_confidence_gain'),\n",
    "    Real(0.01, 0.5, name='agent_evolve_rate'),\n",
    "    Integer(4, 10, name='agent_poly_degree'),\n",
    "]\n",
    "\n",
    "def objective(summary):\n",
    "    \"\"\"\n",
    "    Accepts output from metrics.Stats.summary_metrics()\n",
    "    \"\"\"\n",
    "    BAR.update()\n",
    "    \n",
    "    if summary['issues_solved_rate'] != 0:\n",
    "        steady_solve_auc = summary['elapsed_time'] * summary['issues_solved'] / 2\n",
    "        auc_improvement = 2 * summary['issues_solved_auc'] / steady_solve_auc  # improvement/t\n",
    "        reasonable_solved = (1000 - summary['issues_solved']) / 1000  # solved num\n",
    "        poly_stability = np.sqrt(summary['poly_complexity_var']) / 10  # pop stability\n",
    "        confidence_var = summary['confidence_var']\n",
    "        \n",
    "        fitness =  auc_improvement + reasonable_solved + poly_stability + confidence_var\n",
    "        \n",
    "        OBJ_LOG.append({\n",
    "            'auc_improvement': round(auc_improvement, 3),\n",
    "            'reasonable_solved': round(reasonable_solved, 3),\n",
    "            'poly_stability': round(poly_stability, 3),\n",
    "            'confidence_var': round(confidence_var, 3),\n",
    "        })\n",
    "        \n",
    "        return fitness\n",
    "    else:\n",
    "        return 0\n",
    "\n",
    "\n",
    "@skopt.utils.use_named_args(space)\n",
    "def run(**kwargs):\n",
    "    measures = []\n",
    "\n",
    "    kwargs['max_agents'] = 200\n",
    "\n",
    "    for seed in range(SAMPLES):\n",
    "        env = Environment(seed=seed, **kwargs)\n",
    "\n",
    "        ticks = 1_000\n",
    "        env.run(ticks=ticks)\n",
    "        summary = env.stats.summary_metrics()\n",
    "        measures.append(objective(summary))\n",
    "    spread = round(np.std(measures) / np.mean(measures), 3)\n",
    "    if spread > 0.1:\n",
    "        #loggig.warning('Big spread : {} {}', np.std(measures)/np.mean(measures), measures)\n",
    "        pass\n",
    "    return np.mean(measures)\n",
    "\n",
    "optimize_result = skopt.gp_minimize(\n",
    "    func=run,\n",
    "    dimensions=space,\n",
    "    n_calls=SEARCH_CALLS,\n",
    "    random_state=0,\n",
    ")\n",
    "\n",
    "for k in OBJ_LOG[0].keys():\n",
    "    p = plt.figure(title=k)\n",
    "    p.quad(np.histogram([o[k] for o in OBJ_LOG]))\n",
    "    plt.show(p)\n",
    "    print(k, [o[k] for o in OBJ_LOG])\n",
    "\n",
    "winning_kwargs = dict(zip([a.name for a in space], optimize_result.x))\n",
    "pprint(winning_kwargs)"
   ]
  },
  {
   "cell_type": "markdown",
   "id": "8b4c643f-0eaf-451f-a66a-41ca2f29816b",
   "metadata": {},
   "source": [
    "## Param codependence"
   ]
  },
  {
   "cell_type": "code",
   "execution_count": 3,
   "id": "4d15ea98-a652-4e71-94bb-f28ae9593d8e",
   "metadata": {
    "execution": {
     "iopub.execute_input": "2023-06-22T14:32:53.330731Z",
     "iopub.status.busy": "2023-06-22T14:32:53.330553Z",
     "iopub.status.idle": "2023-06-22T14:33:14.730556Z",
     "shell.execute_reply": "2023-06-22T14:33:14.729833Z",
     "shell.execute_reply.started": "2023-06-22T14:32:53.330715Z"
    },
    "tags": []
   },
   "outputs": [
    {
     "data": {
      "text/plain": [
       "array([[<Axes: xlabel='num_issues', ylabel='Partial dependence'>,\n",
       "        <Axes: >, <Axes: >, <Axes: >, <Axes: >, <Axes: >, <Axes: >],\n",
       "       [<Axes: ylabel='gov_term'>,\n",
       "        <Axes: xlabel='gov_term', ylabel='Partial dependence'>, <Axes: >,\n",
       "        <Axes: >, <Axes: >, <Axes: >, <Axes: >],\n",
       "       [<Axes: ylabel='issue_solving_disagreement'>, <Axes: >,\n",
       "        <Axes: xlabel='issue_solving_disagreement', ylabel='Partial dependence'>,\n",
       "        <Axes: >, <Axes: >, <Axes: >, <Axes: >],\n",
       "       [<Axes: ylabel='agent_convo_disagreement'>, <Axes: >, <Axes: >,\n",
       "        <Axes: xlabel='agent_convo_disagreement', ylabel='Partial dependence'>,\n",
       "        <Axes: >, <Axes: >, <Axes: >],\n",
       "       [<Axes: ylabel='agent_confidence_gain'>, <Axes: >, <Axes: >,\n",
       "        <Axes: >,\n",
       "        <Axes: xlabel='agent_confidence_gain', ylabel='Partial dependence'>,\n",
       "        <Axes: >, <Axes: >],\n",
       "       [<Axes: ylabel='agent_evolve_rate'>, <Axes: >, <Axes: >, <Axes: >,\n",
       "        <Axes: >,\n",
       "        <Axes: xlabel='agent_evolve_rate', ylabel='Partial dependence'>,\n",
       "        <Axes: >],\n",
       "       [<Axes: xlabel='num_issues', ylabel='agent_poly_degree'>,\n",
       "        <Axes: xlabel='gov_term'>,\n",
       "        <Axes: xlabel='issue_solving_disagreement'>,\n",
       "        <Axes: xlabel='agent_convo_disagreement'>,\n",
       "        <Axes: xlabel='agent_confidence_gain'>,\n",
       "        <Axes: xlabel='agent_evolve_rate'>,\n",
       "        <Axes: xlabel='agent_poly_degree', ylabel='Partial dependence'>]],\n",
       "      dtype=object)"
      ]
     },
     "execution_count": 3,
     "metadata": {},
     "output_type": "execute_result"
    },
    {
     "data": {
      "image/png": "[encoded data removed]",
      "text/plain": [
       "<Figure size 1400x1400 with 49 Axes>"
      ]
     },
     "metadata": {},
     "output_type": "display_data"
    }
   ],
   "source": [
    "from skopt.plots import plot_objective\n",
    "plot_objective(optimize_result)"
   ]
  }
 ],
 "metadata": {
  "kernelspec": {
   "display_name": "Python 3 (ipykernel)",
   "language": "python",
   "name": "python3"
  },
  "language_info": {
   "codemirror_mode": {
    "name": "ipython",
    "version": 3
   },
   "file_extension": ".py",
   "mimetype": "text/x-python",
   "name": "python",
   "nbconvert_exporter": "python",
   "pygments_lexer": "ipython3",
   "version": "3.11.4"
  }
 },
 "nbformat": 4,
 "nbformat_minor": 5
}
